{
 "cells": [
  {
   "cell_type": "markdown",
   "id": "d5b55b10",
   "metadata": {},
   "source": [
    " # House Sales in king County, USA"
   ]
  },
  {
   "cell_type": "markdown",
   "id": "f5f72a7c",
   "metadata": {
    "ExecuteTime": {
     "end_time": "2021-08-18T18:35:29.519127Z",
     "start_time": "2021-08-18T18:35:29.509682Z"
    }
   },
   "source": [
    "- **COMPANY:** House Rocket.\n",
    "\n",
    "\n",
    "- **BUSINESS MODEL:** Buy houses at a low price and review at the highest price.\n",
    "\n",
    "\n",
    "- **WHAT'S THE CHALLENGE:** Finding good deals within the available portfolio, that is, finding homes with a low price, in a great location and that have a great resale potential for a higher price.\n",
    "\n",
    "\n",
    "- **DATA:** This dataset contains house sale prices for King County, which includes Seattle. It includes homes sold between May 2014 and May 2015.\n",
    "\n",
    "\n",
    "- **SOURCE:** https://www.kaggle.com/harlfoxem/housesalesprediction"
   ]
  },
  {
   "cell_type": "markdown",
   "id": "7da647c2",
   "metadata": {},
   "source": [
    "# Setup"
   ]
  },
  {
   "cell_type": "markdown",
   "id": "7a57d024",
   "metadata": {
    "ExecuteTime": {
     "end_time": "2021-08-18T18:36:50.776942Z",
     "start_time": "2021-08-18T18:36:50.771817Z"
    }
   },
   "source": [
    "## Imports"
   ]
  },
  {
   "cell_type": "code",
   "execution_count": 71,
   "id": "ee3b35e9",
   "metadata": {
    "ExecuteTime": {
     "end_time": "2021-08-24T00:00:07.269039Z",
     "start_time": "2021-08-24T00:00:07.262081Z"
    }
   },
   "outputs": [],
   "source": [
    "# Data Manipulation\n",
    "import csv\n",
    "import random\n",
    "import datetime\n",
    "import numpy               as np\n",
    "import pandas              as pd\n",
    "\n",
    "# Exploratory Data Analyses\n",
    "import seaborn             as sns\n",
    "import plotly.express      as px\n",
    "import matplotlib.pyplot   as plt\n",
    "#import matplotlib.gridspec as gridspec\n",
    "\n",
    "#from tqdm import tqdm_notebook\n",
    "#Configurations\n",
    "import warnings\n",
    "warnings.filterwarnings( 'ignore' )\n",
    "from IPython.display       import Image\n",
    "#from IPython.core.display  import HTML\n",
    "\n",
    "# graphic visualization\n",
    "#import ipywidgets          as widgets\n",
    "#from ipywidgets            import fixed\n",
    "\n",
    "# data import\n",
    "from geopy.geocoders       import Nominatim\n",
    "\n",
    "#from scipy                 import stats     as ss\n",
    "#from scipy.stats           import pointbiserialr, chi2_contingency\n",
    "\n",
    "#import pickle\n",
    "\n",
    "\n",
    "\n",
    "\n",
    "\n",
    "#from boruta                import BorutaPy\n",
    "#from tabulate              import tabulate"
   ]
  },
  {
   "cell_type": "markdown",
   "id": "74e66653",
   "metadata": {
    "heading_collapsed": true
   },
   "source": [
    "##  Helper Function"
   ]
  },
  {
   "cell_type": "code",
   "execution_count": 2,
   "id": "3398e706",
   "metadata": {
    "ExecuteTime": {
     "end_time": "2021-08-23T23:27:52.476558Z",
     "start_time": "2021-08-23T23:27:52.467243Z"
    },
    "hidden": true
   },
   "outputs": [],
   "source": [
    "def descriptive_statistics(num_df):\n",
    "    # Central Tendency - mean, median\n",
    "    ct1 = pd.DataFrame(num_df.apply(np.mean)).T\n",
    "    ct2 = pd.DataFrame(num_df.apply(np.median)).T\n",
    "\n",
    "    # Dispersion - Std, min, max, range, skew, kurtosis\n",
    "    d1 = pd.DataFrame(num_df.apply(np.std)).T\n",
    "    d2 = pd.DataFrame(num_df.apply(min)).T\n",
    "    d3 = pd.DataFrame(num_df.apply(max)).T\n",
    "    d4 = pd.DataFrame(num_df.apply(lambda x: x.max() - x.min())).T\n",
    "    d5 = pd.DataFrame(num_df.apply(lambda x: x.skew())).T\n",
    "    d6 = pd.DataFrame(num_df.apply(lambda x: x.kurtosis())).T\n",
    "\n",
    "    # Concatenate\n",
    "    m = pd.concat([d2, d3, d4, ct1, ct2, d1, d5, d6]).T.reset_index()\n",
    "    m.columns = ['attributes', 'min', 'max', 'range', 'mean', 'median', 'std', 'skew', 'kurtosis']\n",
    "    \n",
    "    pd.set_option('display.float_format', lambda x: '%.2f' % x)\n",
    "    \n",
    "    return m"
   ]
  },
  {
   "cell_type": "code",
   "execution_count": 3,
   "id": "45b29776",
   "metadata": {
    "ExecuteTime": {
     "end_time": "2021-08-23T23:27:52.557253Z",
     "start_time": "2021-08-23T23:27:52.479863Z"
    },
    "hidden": true
   },
   "outputs": [],
   "source": [
    "pd.set_option('display.float_format', lambda x: '%.2f' % x)\n",
    "        "
   ]
  },
  {
   "cell_type": "markdown",
   "id": "ba682a1e",
   "metadata": {
    "heading_collapsed": true
   },
   "source": [
    "## Loading Data"
   ]
  },
  {
   "cell_type": "code",
   "execution_count": 4,
   "id": "353058ab",
   "metadata": {
    "ExecuteTime": {
     "end_time": "2021-08-23T23:27:52.842800Z",
     "start_time": "2021-08-23T23:27:52.560827Z"
    },
    "hidden": true
   },
   "outputs": [],
   "source": [
    "df_raw = pd.read_csv('/home/leandro/repos/House_Rocket_repo/data/raw/kc_house_data.csv')"
   ]
  },
  {
   "cell_type": "markdown",
   "id": "d2ca91d6",
   "metadata": {},
   "source": [
    "# Data Descripition"
   ]
  },
  {
   "cell_type": "code",
   "execution_count": 5,
   "id": "92f4dce1",
   "metadata": {
    "ExecuteTime": {
     "end_time": "2021-08-23T23:27:52.850463Z",
     "start_time": "2021-08-23T23:27:52.845687Z"
    }
   },
   "outputs": [],
   "source": [
    "df1 = df_raw.copy()"
   ]
  },
  {
   "cell_type": "code",
   "execution_count": 6,
   "id": "1efdd2b6",
   "metadata": {
    "ExecuteTime": {
     "end_time": "2021-08-23T23:27:53.202969Z",
     "start_time": "2021-08-23T23:27:52.853168Z"
    }
   },
   "outputs": [
    {
     "data": {
      "text/html": [
       "<div>\n",
       "<style scoped>\n",
       "    .dataframe tbody tr th:only-of-type {\n",
       "        vertical-align: middle;\n",
       "    }\n",
       "\n",
       "    .dataframe tbody tr th {\n",
       "        vertical-align: top;\n",
       "    }\n",
       "\n",
       "    .dataframe thead th {\n",
       "        text-align: right;\n",
       "    }\n",
       "</style>\n",
       "<table border=\"1\" class=\"dataframe\">\n",
       "  <thead>\n",
       "    <tr style=\"text-align: right;\">\n",
       "      <th></th>\n",
       "      <th>id</th>\n",
       "      <th>date</th>\n",
       "      <th>price</th>\n",
       "      <th>bedrooms</th>\n",
       "      <th>bathrooms</th>\n",
       "      <th>sqft_living</th>\n",
       "      <th>sqft_lot</th>\n",
       "      <th>floors</th>\n",
       "      <th>waterfront</th>\n",
       "      <th>view</th>\n",
       "      <th>...</th>\n",
       "      <th>grade</th>\n",
       "      <th>sqft_above</th>\n",
       "      <th>sqft_basement</th>\n",
       "      <th>yr_built</th>\n",
       "      <th>yr_renovated</th>\n",
       "      <th>zipcode</th>\n",
       "      <th>lat</th>\n",
       "      <th>long</th>\n",
       "      <th>sqft_living15</th>\n",
       "      <th>sqft_lot15</th>\n",
       "    </tr>\n",
       "  </thead>\n",
       "  <tbody>\n",
       "    <tr>\n",
       "      <th>0</th>\n",
       "      <td>7129300520</td>\n",
       "      <td>20141013T000000</td>\n",
       "      <td>221900.00</td>\n",
       "      <td>3</td>\n",
       "      <td>1.00</td>\n",
       "      <td>1180</td>\n",
       "      <td>5650</td>\n",
       "      <td>1.00</td>\n",
       "      <td>0</td>\n",
       "      <td>0</td>\n",
       "      <td>...</td>\n",
       "      <td>7</td>\n",
       "      <td>1180</td>\n",
       "      <td>0</td>\n",
       "      <td>1955</td>\n",
       "      <td>0</td>\n",
       "      <td>98178</td>\n",
       "      <td>47.51</td>\n",
       "      <td>-122.26</td>\n",
       "      <td>1340</td>\n",
       "      <td>5650</td>\n",
       "    </tr>\n",
       "    <tr>\n",
       "      <th>1</th>\n",
       "      <td>6414100192</td>\n",
       "      <td>20141209T000000</td>\n",
       "      <td>538000.00</td>\n",
       "      <td>3</td>\n",
       "      <td>2.25</td>\n",
       "      <td>2570</td>\n",
       "      <td>7242</td>\n",
       "      <td>2.00</td>\n",
       "      <td>0</td>\n",
       "      <td>0</td>\n",
       "      <td>...</td>\n",
       "      <td>7</td>\n",
       "      <td>2170</td>\n",
       "      <td>400</td>\n",
       "      <td>1951</td>\n",
       "      <td>1991</td>\n",
       "      <td>98125</td>\n",
       "      <td>47.72</td>\n",
       "      <td>-122.32</td>\n",
       "      <td>1690</td>\n",
       "      <td>7639</td>\n",
       "    </tr>\n",
       "    <tr>\n",
       "      <th>2</th>\n",
       "      <td>5631500400</td>\n",
       "      <td>20150225T000000</td>\n",
       "      <td>180000.00</td>\n",
       "      <td>2</td>\n",
       "      <td>1.00</td>\n",
       "      <td>770</td>\n",
       "      <td>10000</td>\n",
       "      <td>1.00</td>\n",
       "      <td>0</td>\n",
       "      <td>0</td>\n",
       "      <td>...</td>\n",
       "      <td>6</td>\n",
       "      <td>770</td>\n",
       "      <td>0</td>\n",
       "      <td>1933</td>\n",
       "      <td>0</td>\n",
       "      <td>98028</td>\n",
       "      <td>47.74</td>\n",
       "      <td>-122.23</td>\n",
       "      <td>2720</td>\n",
       "      <td>8062</td>\n",
       "    </tr>\n",
       "    <tr>\n",
       "      <th>3</th>\n",
       "      <td>2487200875</td>\n",
       "      <td>20141209T000000</td>\n",
       "      <td>604000.00</td>\n",
       "      <td>4</td>\n",
       "      <td>3.00</td>\n",
       "      <td>1960</td>\n",
       "      <td>5000</td>\n",
       "      <td>1.00</td>\n",
       "      <td>0</td>\n",
       "      <td>0</td>\n",
       "      <td>...</td>\n",
       "      <td>7</td>\n",
       "      <td>1050</td>\n",
       "      <td>910</td>\n",
       "      <td>1965</td>\n",
       "      <td>0</td>\n",
       "      <td>98136</td>\n",
       "      <td>47.52</td>\n",
       "      <td>-122.39</td>\n",
       "      <td>1360</td>\n",
       "      <td>5000</td>\n",
       "    </tr>\n",
       "    <tr>\n",
       "      <th>4</th>\n",
       "      <td>1954400510</td>\n",
       "      <td>20150218T000000</td>\n",
       "      <td>510000.00</td>\n",
       "      <td>3</td>\n",
       "      <td>2.00</td>\n",
       "      <td>1680</td>\n",
       "      <td>8080</td>\n",
       "      <td>1.00</td>\n",
       "      <td>0</td>\n",
       "      <td>0</td>\n",
       "      <td>...</td>\n",
       "      <td>8</td>\n",
       "      <td>1680</td>\n",
       "      <td>0</td>\n",
       "      <td>1987</td>\n",
       "      <td>0</td>\n",
       "      <td>98074</td>\n",
       "      <td>47.62</td>\n",
       "      <td>-122.05</td>\n",
       "      <td>1800</td>\n",
       "      <td>7503</td>\n",
       "    </tr>\n",
       "  </tbody>\n",
       "</table>\n",
       "<p>5 rows × 21 columns</p>\n",
       "</div>"
      ],
      "text/plain": [
       "           id             date     price  bedrooms  bathrooms  sqft_living  \\\n",
       "0  7129300520  20141013T000000 221900.00         3       1.00         1180   \n",
       "1  6414100192  20141209T000000 538000.00         3       2.25         2570   \n",
       "2  5631500400  20150225T000000 180000.00         2       1.00          770   \n",
       "3  2487200875  20141209T000000 604000.00         4       3.00         1960   \n",
       "4  1954400510  20150218T000000 510000.00         3       2.00         1680   \n",
       "\n",
       "   sqft_lot  floors  waterfront  view  ...  grade  sqft_above  sqft_basement  \\\n",
       "0      5650    1.00           0     0  ...      7        1180              0   \n",
       "1      7242    2.00           0     0  ...      7        2170            400   \n",
       "2     10000    1.00           0     0  ...      6         770              0   \n",
       "3      5000    1.00           0     0  ...      7        1050            910   \n",
       "4      8080    1.00           0     0  ...      8        1680              0   \n",
       "\n",
       "   yr_built  yr_renovated  zipcode   lat    long  sqft_living15  sqft_lot15  \n",
       "0      1955             0    98178 47.51 -122.26           1340        5650  \n",
       "1      1951          1991    98125 47.72 -122.32           1690        7639  \n",
       "2      1933             0    98028 47.74 -122.23           2720        8062  \n",
       "3      1965             0    98136 47.52 -122.39           1360        5000  \n",
       "4      1987             0    98074 47.62 -122.05           1800        7503  \n",
       "\n",
       "[5 rows x 21 columns]"
      ]
     },
     "execution_count": 6,
     "metadata": {},
     "output_type": "execute_result"
    }
   ],
   "source": [
    "df1.head()"
   ]
  },
  {
   "cell_type": "markdown",
   "id": "f50081c6",
   "metadata": {
    "ExecuteTime": {
     "end_time": "2021-08-18T18:52:21.133206Z",
     "start_time": "2021-08-18T18:52:21.129560Z"
    },
    "heading_collapsed": true
   },
   "source": [
    "## Features Description"
   ]
  },
  {
   "cell_type": "markdown",
   "id": "42b0c73e",
   "metadata": {
    "ExecuteTime": {
     "end_time": "2021-08-18T18:52:43.240192Z",
     "start_time": "2021-08-18T18:52:43.223763Z"
    },
    "hidden": true
   },
   "source": [
    "**id =**\tIdentification;\n",
    "\n",
    "**date =**\tDate sold;\n",
    "\n",
    "**price =**\tSale price;\n",
    "\n",
    "**bedrooms =**\tNumber of bedrooms;\n",
    "\n",
    "**bathrooms =**\tNumber of bathrooms;\n",
    "\n",
    "**sqft_liv =**\tSize of living area in square feet;\n",
    "\n",
    "**sqft_lot =**\tSize of the lot in square feet;\n",
    "\n",
    "**floors =**\tNumber of floors;\n",
    "\n",
    "**waterfront =**\t'1' if the property has a waterfront, '0' if not;\n",
    "\n",
    "**view =**\tAn index from 0 to 4 of how good the view of the property was;\n",
    "\n",
    "**condition =**\tCondition of the house, ranked from 1 to 5. See session 2.1.1;\n",
    "\n",
    "**grade =**\tClassification by construction quality, ranked from 1 to 13. See session 2.1.2;\n",
    "\n",
    "**sqft_above =**\tSquare feet above ground;\n",
    "\n",
    "**sqft_basmt =**\tSquare feet below ground;\n",
    "\n",
    "**yr_built =**\tYear built;\n",
    "\n",
    "**yr_renov =**\tYear renovated. '0' if never renovated;\n",
    "\n",
    "**zipcode =**\t5 digit zip code;\n",
    "\n",
    "**lat =**\tLatitude;\n",
    "\n",
    "**long =**\tLongitude;\n",
    "\n",
    "**squft_liv15 =**\tAverage size of interior housing living space for the closest 15 houses, in square feet;\n",
    "\n",
    "**squft_lot15 =**\tAverage size of land lots for the closest 15 houses, in square feet;\n",
    "\n",
    "**Shape_leng =**\tPolygon length in meters;\n",
    "\n",
    "**Shape_Area =**\tPolygon area in meters;\n",
    "\n",
    "\n",
    " **Source:** https://geodacenter.github.io/data-and-lab//KingCounty-HouseSales2015/ "
   ]
  },
  {
   "cell_type": "markdown",
   "id": "dc600c4a",
   "metadata": {
    "hidden": true
   },
   "source": [
    "### Relative to age and grade. Coded 1-5.\n",
    "\n",
    "1 = Poor- Worn out. Repair and overhaul needed on painted surfaces, roofing, plumbing, heating and numerous functional inadequacies. Excessive deferred maintenance and abuse, limited value-in-use, approaching abandonment or major reconstruction; reuse or change in occupancy is imminent. Effective age is near the end of the scale regardless of the actual chronological age.\n",
    "\n",
    "2 = Fair- Badly worn. Much repair needed. Many items need refinishing or overhauling, deferred maintenance obvious, inadequate building utility and systems all shortening the life expectancy and increasing the effective age.\n",
    "\n",
    "3 = Average- Some evidence of deferred maintenance and normal obsolescence with age in that a few minor repairs are needed, along with some refinishing. All major components still functional and contributing toward an extended life expectancy. Effective age and utility is standard for like properties of its class and usage.\n",
    "\n",
    "4 = Good- No obvious maintenance required but neither is everything new. Appearance and utility are above the standard and the overall effective age will be lower than the typical property.\n",
    "\n",
    "5 = Very Good- All items well maintained, many having been overhauled and repaired as they have shown signs of wear, increasing the life expectancy and lowering the effective age with little deterioration or obsolescence evident with a high degree of utility.\n",
    "\n",
    "Source: https://info.kingcounty.gov/assessor/esales/Glossary.aspx?type=r\n"
   ]
  },
  {
   "cell_type": "markdown",
   "id": "f3bfe44c",
   "metadata": {
    "ExecuteTime": {
     "end_time": "2021-08-18T18:53:36.966423Z",
     "start_time": "2021-08-18T18:53:36.961148Z"
    },
    "hidden": true
   },
   "source": [
    "### Building Grade"
   ]
  },
  {
   "cell_type": "markdown",
   "id": "a8661e04",
   "metadata": {
    "ExecuteTime": {
     "end_time": "2021-08-18T18:53:58.494903Z",
     "start_time": "2021-08-18T18:53:58.477806Z"
    },
    "hidden": true
   },
   "source": [
    "Represents the construction quality of improvements. Grades run from grade 1 to 13. Generally defined as:\n",
    "\n",
    "\n",
    "**1-3 =** Falls short of minimum building standards. Normally cabin or inferior structure.\n",
    "\n",
    "\n",
    "**4 =** Generally older, low quality construction. Does not meet code.\n",
    "\n",
    "\n",
    "**5 =** Low construction costs and workmanship. Small, simple design.\n",
    "\n",
    "\n",
    "**6 =** Lowest grade currently meeting building code. Low quality materials and simple designs.\n",
    "\n",
    "\n",
    "**7 =** Average grade of construction and design. Commonly seen in plats and older sub-divisions.\n",
    "\n",
    "\n",
    "**8 =** Just above average in construction and design. Usually better materials in both the exterior and interior finish work.\n",
    "\n",
    "\n",
    "**9 =** Better architectural design with extra interior and exterior design and quality.\n",
    "\n",
    "\n",
    "**10 =** Homes of this quality generally have high quality features. Finish work is better and more design quality is seen in the floor plans. Generally have a larger square footage.\n",
    "\n",
    "\n",
    "**11 =** Custom design and higher quality finish work with added amenities of solid woods, bathroom fixtures and more luxurious options.\n",
    "\n",
    "\n",
    "**12 =** Custom design and excellent builders. All materials are of the highest quality and all conveniences are present.\n",
    "\n",
    "\n",
    "**13 =** Generally custom designed and built. Mansion level. Large amount of highest quality cabinet work, wood trim, marble, entry ways etc.\n",
    "\n",
    "\n",
    "**Source:** https://info.kingcounty.gov/assessor/esales/Glossary.aspx?type=r"
   ]
  },
  {
   "cell_type": "markdown",
   "id": "d7454bec",
   "metadata": {
    "hidden": true
   },
   "source": [
    "### Bathrooms"
   ]
  },
  {
   "cell_type": "markdown",
   "id": "174a468c",
   "metadata": {
    "hidden": true
   },
   "source": [
    "0.25 = A 0.25 bathroom is a bathroom that has either a sink, a shower, toilet or a bathtub.\n",
    "\n",
    "0.50 = A 0.5 bathroom is a bathroom that does not contain a bath or a shower, just a toilet and sink.\n",
    "\n",
    "0.75 = A 0.75 bathroom is a bathroom that has either a shower or tub with 1 sink and 1 toilet.\n",
    "\n",
    "1.00 = A full bathroom (1.0) is a bathroom that contains exactly 1 sink, 1 bathtub, 1 shower and 1 toilet.\n",
    "\n",
    "Source: https://www.badeloftusa.com/buying-guides/bathrooms/\n"
   ]
  },
  {
   "cell_type": "markdown",
   "id": "f24bf051",
   "metadata": {
    "heading_collapsed": true
   },
   "source": [
    "## Data Dimentions"
   ]
  },
  {
   "cell_type": "code",
   "execution_count": 7,
   "id": "84d57ca8",
   "metadata": {
    "ExecuteTime": {
     "end_time": "2021-08-23T23:27:53.225455Z",
     "start_time": "2021-08-23T23:27:53.205372Z"
    },
    "hidden": true
   },
   "outputs": [
    {
     "name": "stdout",
     "output_type": "stream",
     "text": [
      "Number of rows : 21613\n",
      "\n",
      "Number of cols : 21\n",
      "\n"
     ]
    }
   ],
   "source": [
    "print('Number of rows : {}'.format(df1.shape[0]),end = '\\n\\n')\n",
    "print('Number of cols : {}'.format(df1.shape[1]),end = '\\n\\n' )"
   ]
  },
  {
   "cell_type": "code",
   "execution_count": 8,
   "id": "e97445b7",
   "metadata": {
    "ExecuteTime": {
     "end_time": "2021-08-23T23:27:53.334761Z",
     "start_time": "2021-08-23T23:27:53.233093Z"
    },
    "hidden": true
   },
   "outputs": [],
   "source": [
    "## I need explicar floors"
   ]
  },
  {
   "cell_type": "code",
   "execution_count": 9,
   "id": "873f3c88",
   "metadata": {
    "ExecuteTime": {
     "end_time": "2021-08-23T23:27:53.417256Z",
     "start_time": "2021-08-23T23:27:53.339047Z"
    },
    "hidden": true
   },
   "outputs": [
    {
     "data": {
      "text/plain": [
       "Index(['id', 'date', 'price', 'bedrooms', 'bathrooms', 'sqft_living',\n",
       "       'sqft_lot', 'floors', 'waterfront', 'view', 'condition', 'grade',\n",
       "       'sqft_above', 'sqft_basement', 'yr_built', 'yr_renovated', 'zipcode',\n",
       "       'lat', 'long', 'sqft_living15', 'sqft_lot15'],\n",
       "      dtype='object')"
      ]
     },
     "execution_count": 9,
     "metadata": {},
     "output_type": "execute_result"
    }
   ],
   "source": [
    "df1.columns"
   ]
  },
  {
   "cell_type": "markdown",
   "id": "1a764b0d",
   "metadata": {
    "heading_collapsed": true
   },
   "source": [
    "## Data Types"
   ]
  },
  {
   "cell_type": "code",
   "execution_count": 10,
   "id": "8f66ffa6",
   "metadata": {
    "ExecuteTime": {
     "end_time": "2021-08-23T23:27:53.509762Z",
     "start_time": "2021-08-23T23:27:53.421718Z"
    },
    "hidden": true
   },
   "outputs": [
    {
     "data": {
      "text/plain": [
       "id                 int64\n",
       "date              object\n",
       "price            float64\n",
       "bedrooms           int64\n",
       "bathrooms        float64\n",
       "sqft_living        int64\n",
       "sqft_lot           int64\n",
       "floors           float64\n",
       "waterfront         int64\n",
       "view               int64\n",
       "condition          int64\n",
       "grade              int64\n",
       "sqft_above         int64\n",
       "sqft_basement      int64\n",
       "yr_built           int64\n",
       "yr_renovated       int64\n",
       "zipcode            int64\n",
       "lat              float64\n",
       "long             float64\n",
       "sqft_living15      int64\n",
       "sqft_lot15         int64\n",
       "dtype: object"
      ]
     },
     "execution_count": 10,
     "metadata": {},
     "output_type": "execute_result"
    }
   ],
   "source": [
    "df1.dtypes"
   ]
  },
  {
   "cell_type": "markdown",
   "id": "842d5d09",
   "metadata": {
    "heading_collapsed": true
   },
   "source": [
    "## Check NA"
   ]
  },
  {
   "cell_type": "code",
   "execution_count": 11,
   "id": "89121212",
   "metadata": {
    "ExecuteTime": {
     "end_time": "2021-08-23T23:27:53.604817Z",
     "start_time": "2021-08-23T23:27:53.512513Z"
    },
    "hidden": true
   },
   "outputs": [
    {
     "data": {
      "text/plain": [
       "id               0\n",
       "date             0\n",
       "price            0\n",
       "bedrooms         0\n",
       "bathrooms        0\n",
       "sqft_living      0\n",
       "sqft_lot         0\n",
       "floors           0\n",
       "waterfront       0\n",
       "view             0\n",
       "condition        0\n",
       "grade            0\n",
       "sqft_above       0\n",
       "sqft_basement    0\n",
       "yr_built         0\n",
       "yr_renovated     0\n",
       "zipcode          0\n",
       "lat              0\n",
       "long             0\n",
       "sqft_living15    0\n",
       "sqft_lot15       0\n",
       "dtype: int64"
      ]
     },
     "execution_count": 11,
     "metadata": {},
     "output_type": "execute_result"
    }
   ],
   "source": [
    "df1.isna().sum()"
   ]
  },
  {
   "cell_type": "markdown",
   "id": "7a4ba3b4",
   "metadata": {
    "ExecuteTime": {
     "end_time": "2021-08-18T19:22:45.525249Z",
     "start_time": "2021-08-18T19:22:45.521260Z"
    },
    "heading_collapsed": true
   },
   "source": [
    "## Change Types"
   ]
  },
  {
   "cell_type": "code",
   "execution_count": 12,
   "id": "cec0b78d",
   "metadata": {
    "ExecuteTime": {
     "end_time": "2021-08-23T23:27:53.799238Z",
     "start_time": "2021-08-23T23:27:53.607114Z"
    },
    "hidden": true
   },
   "outputs": [],
   "source": [
    "df1['date'] = pd.to_datetime(df1['date'])"
   ]
  },
  {
   "cell_type": "code",
   "execution_count": 13,
   "id": "d7cd92be",
   "metadata": {
    "ExecuteTime": {
     "end_time": "2021-08-23T23:27:53.829694Z",
     "start_time": "2021-08-23T23:27:53.802041Z"
    },
    "hidden": true
   },
   "outputs": [
    {
     "data": {
      "text/plain": [
       "id                        int64\n",
       "date             datetime64[ns]\n",
       "price                   float64\n",
       "bedrooms                  int64\n",
       "bathrooms               float64\n",
       "sqft_living               int64\n",
       "sqft_lot                  int64\n",
       "floors                  float64\n",
       "waterfront                int64\n",
       "view                      int64\n",
       "condition                 int64\n",
       "grade                     int64\n",
       "sqft_above                int64\n",
       "sqft_basement             int64\n",
       "yr_built                  int64\n",
       "yr_renovated              int64\n",
       "zipcode                   int64\n",
       "lat                     float64\n",
       "long                    float64\n",
       "sqft_living15             int64\n",
       "sqft_lot15                int64\n",
       "dtype: object"
      ]
     },
     "execution_count": 13,
     "metadata": {},
     "output_type": "execute_result"
    }
   ],
   "source": [
    "df1.dtypes"
   ]
  },
  {
   "cell_type": "markdown",
   "id": "f16bdcde",
   "metadata": {
    "heading_collapsed": true
   },
   "source": [
    "## Descriptive Statistics"
   ]
  },
  {
   "cell_type": "code",
   "execution_count": 14,
   "id": "d067b92a",
   "metadata": {
    "ExecuteTime": {
     "end_time": "2021-08-23T23:27:53.921407Z",
     "start_time": "2021-08-23T23:27:53.831652Z"
    },
    "hidden": true
   },
   "outputs": [],
   "source": [
    "num_attributes = df1.select_dtypes(include = ['int64', 'int32', 'float64'])\n",
    "cat_attributes = df1.select_dtypes(exclude = ['int64', 'int32', 'float64'])"
   ]
  },
  {
   "cell_type": "markdown",
   "id": "ea1e3525",
   "metadata": {
    "hidden": true
   },
   "source": [
    "### Numerical Attributes"
   ]
  },
  {
   "cell_type": "code",
   "execution_count": 15,
   "id": "b99a4e3b",
   "metadata": {
    "ExecuteTime": {
     "end_time": "2021-08-23T23:27:54.280073Z",
     "start_time": "2021-08-23T23:27:53.923642Z"
    },
    "hidden": true
   },
   "outputs": [
    {
     "data": {
      "text/html": [
       "<div>\n",
       "<style scoped>\n",
       "    .dataframe tbody tr th:only-of-type {\n",
       "        vertical-align: middle;\n",
       "    }\n",
       "\n",
       "    .dataframe tbody tr th {\n",
       "        vertical-align: top;\n",
       "    }\n",
       "\n",
       "    .dataframe thead th {\n",
       "        text-align: right;\n",
       "    }\n",
       "</style>\n",
       "<table border=\"1\" class=\"dataframe\">\n",
       "  <thead>\n",
       "    <tr style=\"text-align: right;\">\n",
       "      <th></th>\n",
       "      <th>attributes</th>\n",
       "      <th>min</th>\n",
       "      <th>max</th>\n",
       "      <th>range</th>\n",
       "      <th>mean</th>\n",
       "      <th>median</th>\n",
       "      <th>std</th>\n",
       "      <th>skew</th>\n",
       "      <th>kurtosis</th>\n",
       "    </tr>\n",
       "  </thead>\n",
       "  <tbody>\n",
       "    <tr>\n",
       "      <th>0</th>\n",
       "      <td>id</td>\n",
       "      <td>1000102.00</td>\n",
       "      <td>9900000190.00</td>\n",
       "      <td>9899000088.00</td>\n",
       "      <td>4580301520.86</td>\n",
       "      <td>3904930410.00</td>\n",
       "      <td>2876499023.43</td>\n",
       "      <td>0.24</td>\n",
       "      <td>-1.26</td>\n",
       "    </tr>\n",
       "    <tr>\n",
       "      <th>1</th>\n",
       "      <td>price</td>\n",
       "      <td>75000.00</td>\n",
       "      <td>7700000.00</td>\n",
       "      <td>7625000.00</td>\n",
       "      <td>540088.14</td>\n",
       "      <td>450000.00</td>\n",
       "      <td>367118.70</td>\n",
       "      <td>4.02</td>\n",
       "      <td>34.59</td>\n",
       "    </tr>\n",
       "    <tr>\n",
       "      <th>2</th>\n",
       "      <td>bedrooms</td>\n",
       "      <td>0.00</td>\n",
       "      <td>33.00</td>\n",
       "      <td>33.00</td>\n",
       "      <td>3.37</td>\n",
       "      <td>3.00</td>\n",
       "      <td>0.93</td>\n",
       "      <td>1.97</td>\n",
       "      <td>49.06</td>\n",
       "    </tr>\n",
       "    <tr>\n",
       "      <th>3</th>\n",
       "      <td>bathrooms</td>\n",
       "      <td>0.00</td>\n",
       "      <td>8.00</td>\n",
       "      <td>8.00</td>\n",
       "      <td>2.11</td>\n",
       "      <td>2.25</td>\n",
       "      <td>0.77</td>\n",
       "      <td>0.51</td>\n",
       "      <td>1.28</td>\n",
       "    </tr>\n",
       "    <tr>\n",
       "      <th>4</th>\n",
       "      <td>sqft_living</td>\n",
       "      <td>290.00</td>\n",
       "      <td>13540.00</td>\n",
       "      <td>13250.00</td>\n",
       "      <td>2079.90</td>\n",
       "      <td>1910.00</td>\n",
       "      <td>918.42</td>\n",
       "      <td>1.47</td>\n",
       "      <td>5.24</td>\n",
       "    </tr>\n",
       "    <tr>\n",
       "      <th>5</th>\n",
       "      <td>sqft_lot</td>\n",
       "      <td>520.00</td>\n",
       "      <td>1651359.00</td>\n",
       "      <td>1650839.00</td>\n",
       "      <td>15106.97</td>\n",
       "      <td>7618.00</td>\n",
       "      <td>41419.55</td>\n",
       "      <td>13.06</td>\n",
       "      <td>285.08</td>\n",
       "    </tr>\n",
       "    <tr>\n",
       "      <th>6</th>\n",
       "      <td>floors</td>\n",
       "      <td>1.00</td>\n",
       "      <td>3.50</td>\n",
       "      <td>2.50</td>\n",
       "      <td>1.49</td>\n",
       "      <td>1.50</td>\n",
       "      <td>0.54</td>\n",
       "      <td>0.62</td>\n",
       "      <td>-0.48</td>\n",
       "    </tr>\n",
       "    <tr>\n",
       "      <th>7</th>\n",
       "      <td>waterfront</td>\n",
       "      <td>0.00</td>\n",
       "      <td>1.00</td>\n",
       "      <td>1.00</td>\n",
       "      <td>0.01</td>\n",
       "      <td>0.00</td>\n",
       "      <td>0.09</td>\n",
       "      <td>11.39</td>\n",
       "      <td>127.63</td>\n",
       "    </tr>\n",
       "    <tr>\n",
       "      <th>8</th>\n",
       "      <td>view</td>\n",
       "      <td>0.00</td>\n",
       "      <td>4.00</td>\n",
       "      <td>4.00</td>\n",
       "      <td>0.23</td>\n",
       "      <td>0.00</td>\n",
       "      <td>0.77</td>\n",
       "      <td>3.40</td>\n",
       "      <td>10.89</td>\n",
       "    </tr>\n",
       "    <tr>\n",
       "      <th>9</th>\n",
       "      <td>condition</td>\n",
       "      <td>1.00</td>\n",
       "      <td>5.00</td>\n",
       "      <td>4.00</td>\n",
       "      <td>3.41</td>\n",
       "      <td>3.00</td>\n",
       "      <td>0.65</td>\n",
       "      <td>1.03</td>\n",
       "      <td>0.53</td>\n",
       "    </tr>\n",
       "    <tr>\n",
       "      <th>10</th>\n",
       "      <td>grade</td>\n",
       "      <td>1.00</td>\n",
       "      <td>13.00</td>\n",
       "      <td>12.00</td>\n",
       "      <td>7.66</td>\n",
       "      <td>7.00</td>\n",
       "      <td>1.18</td>\n",
       "      <td>0.77</td>\n",
       "      <td>1.19</td>\n",
       "    </tr>\n",
       "    <tr>\n",
       "      <th>11</th>\n",
       "      <td>sqft_above</td>\n",
       "      <td>290.00</td>\n",
       "      <td>9410.00</td>\n",
       "      <td>9120.00</td>\n",
       "      <td>1788.39</td>\n",
       "      <td>1560.00</td>\n",
       "      <td>828.07</td>\n",
       "      <td>1.45</td>\n",
       "      <td>3.40</td>\n",
       "    </tr>\n",
       "    <tr>\n",
       "      <th>12</th>\n",
       "      <td>sqft_basement</td>\n",
       "      <td>0.00</td>\n",
       "      <td>4820.00</td>\n",
       "      <td>4820.00</td>\n",
       "      <td>291.51</td>\n",
       "      <td>0.00</td>\n",
       "      <td>442.56</td>\n",
       "      <td>1.58</td>\n",
       "      <td>2.72</td>\n",
       "    </tr>\n",
       "    <tr>\n",
       "      <th>13</th>\n",
       "      <td>yr_built</td>\n",
       "      <td>1900.00</td>\n",
       "      <td>2015.00</td>\n",
       "      <td>115.00</td>\n",
       "      <td>1971.01</td>\n",
       "      <td>1975.00</td>\n",
       "      <td>29.37</td>\n",
       "      <td>-0.47</td>\n",
       "      <td>-0.66</td>\n",
       "    </tr>\n",
       "    <tr>\n",
       "      <th>14</th>\n",
       "      <td>yr_renovated</td>\n",
       "      <td>0.00</td>\n",
       "      <td>2015.00</td>\n",
       "      <td>2015.00</td>\n",
       "      <td>84.40</td>\n",
       "      <td>0.00</td>\n",
       "      <td>401.67</td>\n",
       "      <td>4.55</td>\n",
       "      <td>18.70</td>\n",
       "    </tr>\n",
       "    <tr>\n",
       "      <th>15</th>\n",
       "      <td>zipcode</td>\n",
       "      <td>98001.00</td>\n",
       "      <td>98199.00</td>\n",
       "      <td>198.00</td>\n",
       "      <td>98077.94</td>\n",
       "      <td>98065.00</td>\n",
       "      <td>53.50</td>\n",
       "      <td>0.41</td>\n",
       "      <td>-0.85</td>\n",
       "    </tr>\n",
       "    <tr>\n",
       "      <th>16</th>\n",
       "      <td>lat</td>\n",
       "      <td>47.16</td>\n",
       "      <td>47.78</td>\n",
       "      <td>0.62</td>\n",
       "      <td>47.56</td>\n",
       "      <td>47.57</td>\n",
       "      <td>0.14</td>\n",
       "      <td>-0.49</td>\n",
       "      <td>-0.68</td>\n",
       "    </tr>\n",
       "    <tr>\n",
       "      <th>17</th>\n",
       "      <td>long</td>\n",
       "      <td>-122.52</td>\n",
       "      <td>-121.31</td>\n",
       "      <td>1.20</td>\n",
       "      <td>-122.21</td>\n",
       "      <td>-122.23</td>\n",
       "      <td>0.14</td>\n",
       "      <td>0.89</td>\n",
       "      <td>1.05</td>\n",
       "    </tr>\n",
       "    <tr>\n",
       "      <th>18</th>\n",
       "      <td>sqft_living15</td>\n",
       "      <td>399.00</td>\n",
       "      <td>6210.00</td>\n",
       "      <td>5811.00</td>\n",
       "      <td>1986.55</td>\n",
       "      <td>1840.00</td>\n",
       "      <td>685.38</td>\n",
       "      <td>1.11</td>\n",
       "      <td>1.60</td>\n",
       "    </tr>\n",
       "    <tr>\n",
       "      <th>19</th>\n",
       "      <td>sqft_lot15</td>\n",
       "      <td>651.00</td>\n",
       "      <td>871200.00</td>\n",
       "      <td>870549.00</td>\n",
       "      <td>12768.46</td>\n",
       "      <td>7620.00</td>\n",
       "      <td>27303.55</td>\n",
       "      <td>9.51</td>\n",
       "      <td>150.76</td>\n",
       "    </tr>\n",
       "  </tbody>\n",
       "</table>\n",
       "</div>"
      ],
      "text/plain": [
       "       attributes        min           max         range          mean  \\\n",
       "0              id 1000102.00 9900000190.00 9899000088.00 4580301520.86   \n",
       "1           price   75000.00    7700000.00    7625000.00     540088.14   \n",
       "2        bedrooms       0.00         33.00         33.00          3.37   \n",
       "3       bathrooms       0.00          8.00          8.00          2.11   \n",
       "4     sqft_living     290.00      13540.00      13250.00       2079.90   \n",
       "5        sqft_lot     520.00    1651359.00    1650839.00      15106.97   \n",
       "6          floors       1.00          3.50          2.50          1.49   \n",
       "7      waterfront       0.00          1.00          1.00          0.01   \n",
       "8            view       0.00          4.00          4.00          0.23   \n",
       "9       condition       1.00          5.00          4.00          3.41   \n",
       "10          grade       1.00         13.00         12.00          7.66   \n",
       "11     sqft_above     290.00       9410.00       9120.00       1788.39   \n",
       "12  sqft_basement       0.00       4820.00       4820.00        291.51   \n",
       "13       yr_built    1900.00       2015.00        115.00       1971.01   \n",
       "14   yr_renovated       0.00       2015.00       2015.00         84.40   \n",
       "15        zipcode   98001.00      98199.00        198.00      98077.94   \n",
       "16            lat      47.16         47.78          0.62         47.56   \n",
       "17           long    -122.52       -121.31          1.20       -122.21   \n",
       "18  sqft_living15     399.00       6210.00       5811.00       1986.55   \n",
       "19     sqft_lot15     651.00     871200.00     870549.00      12768.46   \n",
       "\n",
       "          median           std  skew  kurtosis  \n",
       "0  3904930410.00 2876499023.43  0.24     -1.26  \n",
       "1      450000.00     367118.70  4.02     34.59  \n",
       "2           3.00          0.93  1.97     49.06  \n",
       "3           2.25          0.77  0.51      1.28  \n",
       "4        1910.00        918.42  1.47      5.24  \n",
       "5        7618.00      41419.55 13.06    285.08  \n",
       "6           1.50          0.54  0.62     -0.48  \n",
       "7           0.00          0.09 11.39    127.63  \n",
       "8           0.00          0.77  3.40     10.89  \n",
       "9           3.00          0.65  1.03      0.53  \n",
       "10          7.00          1.18  0.77      1.19  \n",
       "11       1560.00        828.07  1.45      3.40  \n",
       "12          0.00        442.56  1.58      2.72  \n",
       "13       1975.00         29.37 -0.47     -0.66  \n",
       "14          0.00        401.67  4.55     18.70  \n",
       "15      98065.00         53.50  0.41     -0.85  \n",
       "16         47.57          0.14 -0.49     -0.68  \n",
       "17       -122.23          0.14  0.89      1.05  \n",
       "18       1840.00        685.38  1.11      1.60  \n",
       "19       7620.00      27303.55  9.51    150.76  "
      ]
     },
     "execution_count": 15,
     "metadata": {},
     "output_type": "execute_result"
    }
   ],
   "source": [
    "descriptive_statistics(num_attributes)"
   ]
  },
  {
   "cell_type": "code",
   "execution_count": 16,
   "id": "b3295404",
   "metadata": {
    "ExecuteTime": {
     "end_time": "2021-08-23T23:27:54.294829Z",
     "start_time": "2021-08-23T23:27:54.282511Z"
    },
    "hidden": true
   },
   "outputs": [],
   "source": [
    "#Divide features in numerical, categorical and binary\n",
    "num_attributes = num_attributes.drop(columns=['waterfront'])\n",
    "bin_attributes = df1['waterfront']\n",
    "cat_attributes = df1.select_dtypes(exclude = ['int64', 'int32', 'float64'])"
   ]
  },
  {
   "cell_type": "code",
   "execution_count": 17,
   "id": "5a89f69c",
   "metadata": {
    "ExecuteTime": {
     "end_time": "2021-08-23T23:27:54.457741Z",
     "start_time": "2021-08-23T23:27:54.297220Z"
    },
    "hidden": true
   },
   "outputs": [
    {
     "data": {
      "text/html": [
       "<div>\n",
       "<style scoped>\n",
       "    .dataframe tbody tr th:only-of-type {\n",
       "        vertical-align: middle;\n",
       "    }\n",
       "\n",
       "    .dataframe tbody tr th {\n",
       "        vertical-align: top;\n",
       "    }\n",
       "\n",
       "    .dataframe thead th {\n",
       "        text-align: right;\n",
       "    }\n",
       "</style>\n",
       "<table border=\"1\" class=\"dataframe\">\n",
       "  <thead>\n",
       "    <tr style=\"text-align: right;\">\n",
       "      <th></th>\n",
       "      <th>id</th>\n",
       "      <th>price</th>\n",
       "      <th>bedrooms</th>\n",
       "      <th>bathrooms</th>\n",
       "      <th>sqft_living</th>\n",
       "      <th>sqft_lot</th>\n",
       "      <th>floors</th>\n",
       "      <th>view</th>\n",
       "      <th>condition</th>\n",
       "      <th>grade</th>\n",
       "      <th>sqft_above</th>\n",
       "      <th>sqft_basement</th>\n",
       "      <th>yr_built</th>\n",
       "      <th>yr_renovated</th>\n",
       "      <th>zipcode</th>\n",
       "      <th>lat</th>\n",
       "      <th>long</th>\n",
       "      <th>sqft_living15</th>\n",
       "      <th>sqft_lot15</th>\n",
       "    </tr>\n",
       "  </thead>\n",
       "  <tbody>\n",
       "    <tr>\n",
       "      <th>0</th>\n",
       "      <td>7129300520</td>\n",
       "      <td>221900.00</td>\n",
       "      <td>3</td>\n",
       "      <td>1.00</td>\n",
       "      <td>1180</td>\n",
       "      <td>5650</td>\n",
       "      <td>1.00</td>\n",
       "      <td>0</td>\n",
       "      <td>3</td>\n",
       "      <td>7</td>\n",
       "      <td>1180</td>\n",
       "      <td>0</td>\n",
       "      <td>1955</td>\n",
       "      <td>0</td>\n",
       "      <td>98178</td>\n",
       "      <td>47.51</td>\n",
       "      <td>-122.26</td>\n",
       "      <td>1340</td>\n",
       "      <td>5650</td>\n",
       "    </tr>\n",
       "    <tr>\n",
       "      <th>1</th>\n",
       "      <td>6414100192</td>\n",
       "      <td>538000.00</td>\n",
       "      <td>3</td>\n",
       "      <td>2.25</td>\n",
       "      <td>2570</td>\n",
       "      <td>7242</td>\n",
       "      <td>2.00</td>\n",
       "      <td>0</td>\n",
       "      <td>3</td>\n",
       "      <td>7</td>\n",
       "      <td>2170</td>\n",
       "      <td>400</td>\n",
       "      <td>1951</td>\n",
       "      <td>1991</td>\n",
       "      <td>98125</td>\n",
       "      <td>47.72</td>\n",
       "      <td>-122.32</td>\n",
       "      <td>1690</td>\n",
       "      <td>7639</td>\n",
       "    </tr>\n",
       "    <tr>\n",
       "      <th>2</th>\n",
       "      <td>5631500400</td>\n",
       "      <td>180000.00</td>\n",
       "      <td>2</td>\n",
       "      <td>1.00</td>\n",
       "      <td>770</td>\n",
       "      <td>10000</td>\n",
       "      <td>1.00</td>\n",
       "      <td>0</td>\n",
       "      <td>3</td>\n",
       "      <td>6</td>\n",
       "      <td>770</td>\n",
       "      <td>0</td>\n",
       "      <td>1933</td>\n",
       "      <td>0</td>\n",
       "      <td>98028</td>\n",
       "      <td>47.74</td>\n",
       "      <td>-122.23</td>\n",
       "      <td>2720</td>\n",
       "      <td>8062</td>\n",
       "    </tr>\n",
       "    <tr>\n",
       "      <th>3</th>\n",
       "      <td>2487200875</td>\n",
       "      <td>604000.00</td>\n",
       "      <td>4</td>\n",
       "      <td>3.00</td>\n",
       "      <td>1960</td>\n",
       "      <td>5000</td>\n",
       "      <td>1.00</td>\n",
       "      <td>0</td>\n",
       "      <td>5</td>\n",
       "      <td>7</td>\n",
       "      <td>1050</td>\n",
       "      <td>910</td>\n",
       "      <td>1965</td>\n",
       "      <td>0</td>\n",
       "      <td>98136</td>\n",
       "      <td>47.52</td>\n",
       "      <td>-122.39</td>\n",
       "      <td>1360</td>\n",
       "      <td>5000</td>\n",
       "    </tr>\n",
       "    <tr>\n",
       "      <th>4</th>\n",
       "      <td>1954400510</td>\n",
       "      <td>510000.00</td>\n",
       "      <td>3</td>\n",
       "      <td>2.00</td>\n",
       "      <td>1680</td>\n",
       "      <td>8080</td>\n",
       "      <td>1.00</td>\n",
       "      <td>0</td>\n",
       "      <td>3</td>\n",
       "      <td>8</td>\n",
       "      <td>1680</td>\n",
       "      <td>0</td>\n",
       "      <td>1987</td>\n",
       "      <td>0</td>\n",
       "      <td>98074</td>\n",
       "      <td>47.62</td>\n",
       "      <td>-122.05</td>\n",
       "      <td>1800</td>\n",
       "      <td>7503</td>\n",
       "    </tr>\n",
       "  </tbody>\n",
       "</table>\n",
       "</div>"
      ],
      "text/plain": [
       "           id     price  bedrooms  bathrooms  sqft_living  sqft_lot  floors  \\\n",
       "0  7129300520 221900.00         3       1.00         1180      5650    1.00   \n",
       "1  6414100192 538000.00         3       2.25         2570      7242    2.00   \n",
       "2  5631500400 180000.00         2       1.00          770     10000    1.00   \n",
       "3  2487200875 604000.00         4       3.00         1960      5000    1.00   \n",
       "4  1954400510 510000.00         3       2.00         1680      8080    1.00   \n",
       "\n",
       "   view  condition  grade  sqft_above  sqft_basement  yr_built  yr_renovated  \\\n",
       "0     0          3      7        1180              0      1955             0   \n",
       "1     0          3      7        2170            400      1951          1991   \n",
       "2     0          3      6         770              0      1933             0   \n",
       "3     0          5      7        1050            910      1965             0   \n",
       "4     0          3      8        1680              0      1987             0   \n",
       "\n",
       "   zipcode   lat    long  sqft_living15  sqft_lot15  \n",
       "0    98178 47.51 -122.26           1340        5650  \n",
       "1    98125 47.72 -122.32           1690        7639  \n",
       "2    98028 47.74 -122.23           2720        8062  \n",
       "3    98136 47.52 -122.39           1360        5000  \n",
       "4    98074 47.62 -122.05           1800        7503  "
      ]
     },
     "execution_count": 17,
     "metadata": {},
     "output_type": "execute_result"
    }
   ],
   "source": [
    "num_attributes.head()"
   ]
  },
  {
   "cell_type": "code",
   "execution_count": 18,
   "id": "d3305564",
   "metadata": {
    "ExecuteTime": {
     "end_time": "2021-08-23T23:27:54.734216Z",
     "start_time": "2021-08-23T23:27:54.461070Z"
    },
    "hidden": true
   },
   "outputs": [
    {
     "data": {
      "text/plain": [
       "date      \n",
       "2014-06-23    142\n",
       "2014-06-25    131\n",
       "2014-06-26    131\n",
       "2014-07-08    127\n",
       "2015-04-27    126\n",
       "             ... \n",
       "2015-01-17      1\n",
       "2015-01-31      1\n",
       "2015-02-15      1\n",
       "2014-08-30      1\n",
       "2015-05-27      1\n",
       "Length: 372, dtype: int64"
      ]
     },
     "execution_count": 18,
     "metadata": {},
     "output_type": "execute_result"
    }
   ],
   "source": [
    "cat_attributes.value_counts()"
   ]
  },
  {
   "cell_type": "markdown",
   "id": "d795dd38",
   "metadata": {},
   "source": [
    "# Feature Engeneering"
   ]
  },
  {
   "cell_type": "code",
   "execution_count": 19,
   "id": "f33e5bf7",
   "metadata": {
    "ExecuteTime": {
     "end_time": "2021-08-23T23:27:54.794168Z",
     "start_time": "2021-08-23T23:27:54.736041Z"
    }
   },
   "outputs": [],
   "source": [
    "df2 = df1.copy()"
   ]
  },
  {
   "cell_type": "markdown",
   "id": "df31fc92",
   "metadata": {
    "heading_collapsed": true
   },
   "source": [
    "## Hypotheses Mind Map"
   ]
  },
  {
   "cell_type": "code",
   "execution_count": 72,
   "id": "f7543e43",
   "metadata": {
    "ExecuteTime": {
     "end_time": "2021-08-24T00:01:06.289275Z",
     "start_time": "2021-08-24T00:01:06.281991Z"
    },
    "hidden": true
   },
   "outputs": [
    {
     "data": {
      "image/png": "[encoded data removed]",
      "text/plain": [
       "<IPython.core.display.Image object>"
      ]
     },
     "execution_count": 72,
     "metadata": {},
     "output_type": "execute_result"
    }
   ],
   "source": [
    "Image ('Home_Sales.png')"
   ]
  },
  {
   "cell_type": "markdown",
   "id": "b3443669",
   "metadata": {},
   "source": [
    "## Creation of Hypotheses"
   ]
  },
  {
   "cell_type": "markdown",
   "id": "7602122a",
   "metadata": {},
   "source": [
    "**List of hypotheses**\n",
    "\n",
    "*Hypothesis 1: Properties with a view of the water are on average 30% more expensive.*\n",
    " \n",
    "*Hypothesis 2: Properties with a construction date less than 1955 are on average 50% cheaper*.\n",
    " \n",
    "*Hypothesis 3: Properties without a basement have a total area 40% larger than properties with a basement.*\n",
    " \n",
    "*Hypothesis 4: Properties that have never undergone renovations are on average 30% cheaper.*\n",
    " \n",
    "*Hypothesis 5: Properties with more bathrooms are on average 15% more expensive.*\n",
    " \n",
    "*Hypothesis 6: Properties with more rooms are on average 15% more expensive.*\n",
    " \n",
    "*Hypothesis 7: The YoY( Year over Year) property price growth is 10%.*\n",
    " \n",
    "*Hypothesis 8: Real estate with a more expensive meter is more likely to be sold.*\n",
    "  "
   ]
  },
  {
   "cell_type": "code",
   "execution_count": null,
   "id": "46527cc5",
   "metadata": {},
   "outputs": [],
   "source": []
  },
  {
   "cell_type": "markdown",
   "id": "8849b999",
   "metadata": {
    "ExecuteTime": {
     "end_time": "2021-08-19T17:29:56.756765Z",
     "start_time": "2021-08-19T17:29:56.752233Z"
    },
    "heading_collapsed": true
   },
   "source": [
    "## Creating Features"
   ]
  },
  {
   "cell_type": "code",
   "execution_count": 20,
   "id": "03325d9d",
   "metadata": {
    "ExecuteTime": {
     "end_time": "2021-08-23T23:27:55.361044Z",
     "start_time": "2021-08-23T23:27:54.796232Z"
    },
    "hidden": true
   },
   "outputs": [],
   "source": [
    "## Above BRL 540,000 -> high standard AND Below BRL 540,000 -> low standard\n",
    "df2['standard'] = df2['price'].apply( lambda x: 'high standard' if x > 540000 else 'low standard')\n",
    "\n",
    "## building level by price. From 0 to 3.\n",
    "df2['level'] = df2['price'].apply( lambda x: 0 if x < 321950 else\n",
    "                                               1 if 321950 <= x < 450000 else\n",
    "                                               2 if 450000 <= x < 645000 else 3)\n",
    "df2['level'] = df2['level'].astype(int)\n",
    "\n",
    "## Year\n",
    "df2['year'] = pd.to_datetime( df2['date'] ).dt.year\n",
    "\n",
    "## Week\n",
    "df2['year_week'] = pd.to_datetime( df2['date'] ).dt.isocalendar().week\n",
    "\n",
    "# Month\n",
    "df2['month'] = df2['date'].dt.month\n",
    "\n",
    "# Day\n",
    "df2['day'] = df2['date'].dt.day\n",
    "\n",
    "# Price per sqft_lot:\n",
    "df2['price/ft2'] = df2['price'] / df2['sqft_lot']\n",
    "\n",
    "# Median buying price by zipcode\n",
    "a = df2[['price/ft2','zipcode']].groupby('zipcode').median().reset_index().rename(columns={'price/ft2': 'median_price/ft2_zipcode'})\n",
    "df2 = pd.merge(df2, a, on='zipcode', how='left')\n"
   ]
  },
  {
   "cell_type": "code",
   "execution_count": 21,
   "id": "2190a48f",
   "metadata": {
    "ExecuteTime": {
     "end_time": "2021-08-23T23:27:55.411922Z",
     "start_time": "2021-08-23T23:27:55.366091Z"
    },
    "hidden": true
   },
   "outputs": [
    {
     "data": {
      "text/html": [
       "<div>\n",
       "<style scoped>\n",
       "    .dataframe tbody tr th:only-of-type {\n",
       "        vertical-align: middle;\n",
       "    }\n",
       "\n",
       "    .dataframe tbody tr th {\n",
       "        vertical-align: top;\n",
       "    }\n",
       "\n",
       "    .dataframe thead th {\n",
       "        text-align: right;\n",
       "    }\n",
       "</style>\n",
       "<table border=\"1\" class=\"dataframe\">\n",
       "  <thead>\n",
       "    <tr style=\"text-align: right;\">\n",
       "      <th></th>\n",
       "      <th>id</th>\n",
       "      <th>date</th>\n",
       "      <th>price</th>\n",
       "      <th>bedrooms</th>\n",
       "      <th>bathrooms</th>\n",
       "      <th>sqft_living</th>\n",
       "      <th>sqft_lot</th>\n",
       "      <th>floors</th>\n",
       "      <th>waterfront</th>\n",
       "      <th>view</th>\n",
       "      <th>...</th>\n",
       "      <th>sqft_living15</th>\n",
       "      <th>sqft_lot15</th>\n",
       "      <th>standard</th>\n",
       "      <th>level</th>\n",
       "      <th>year</th>\n",
       "      <th>year_week</th>\n",
       "      <th>month</th>\n",
       "      <th>day</th>\n",
       "      <th>price/ft2</th>\n",
       "      <th>median_price/ft2_zipcode</th>\n",
       "    </tr>\n",
       "  </thead>\n",
       "  <tbody>\n",
       "    <tr>\n",
       "      <th>0</th>\n",
       "      <td>7129300520</td>\n",
       "      <td>2014-10-13</td>\n",
       "      <td>221900.00</td>\n",
       "      <td>3</td>\n",
       "      <td>1.00</td>\n",
       "      <td>1180</td>\n",
       "      <td>5650</td>\n",
       "      <td>1.00</td>\n",
       "      <td>0</td>\n",
       "      <td>0</td>\n",
       "      <td>...</td>\n",
       "      <td>1340</td>\n",
       "      <td>5650</td>\n",
       "      <td>low standard</td>\n",
       "      <td>0</td>\n",
       "      <td>2014</td>\n",
       "      <td>42</td>\n",
       "      <td>10</td>\n",
       "      <td>13</td>\n",
       "      <td>39.27</td>\n",
       "      <td>38.43</td>\n",
       "    </tr>\n",
       "    <tr>\n",
       "      <th>1</th>\n",
       "      <td>6414100192</td>\n",
       "      <td>2014-12-09</td>\n",
       "      <td>538000.00</td>\n",
       "      <td>3</td>\n",
       "      <td>2.25</td>\n",
       "      <td>2570</td>\n",
       "      <td>7242</td>\n",
       "      <td>2.00</td>\n",
       "      <td>0</td>\n",
       "      <td>0</td>\n",
       "      <td>...</td>\n",
       "      <td>1690</td>\n",
       "      <td>7639</td>\n",
       "      <td>low standard</td>\n",
       "      <td>2</td>\n",
       "      <td>2014</td>\n",
       "      <td>50</td>\n",
       "      <td>12</td>\n",
       "      <td>9</td>\n",
       "      <td>74.29</td>\n",
       "      <td>60.14</td>\n",
       "    </tr>\n",
       "    <tr>\n",
       "      <th>2</th>\n",
       "      <td>5631500400</td>\n",
       "      <td>2015-02-25</td>\n",
       "      <td>180000.00</td>\n",
       "      <td>2</td>\n",
       "      <td>1.00</td>\n",
       "      <td>770</td>\n",
       "      <td>10000</td>\n",
       "      <td>1.00</td>\n",
       "      <td>0</td>\n",
       "      <td>0</td>\n",
       "      <td>...</td>\n",
       "      <td>2720</td>\n",
       "      <td>8062</td>\n",
       "      <td>low standard</td>\n",
       "      <td>0</td>\n",
       "      <td>2015</td>\n",
       "      <td>9</td>\n",
       "      <td>2</td>\n",
       "      <td>25</td>\n",
       "      <td>18.00</td>\n",
       "      <td>44.53</td>\n",
       "    </tr>\n",
       "    <tr>\n",
       "      <th>3</th>\n",
       "      <td>2487200875</td>\n",
       "      <td>2014-12-09</td>\n",
       "      <td>604000.00</td>\n",
       "      <td>4</td>\n",
       "      <td>3.00</td>\n",
       "      <td>1960</td>\n",
       "      <td>5000</td>\n",
       "      <td>1.00</td>\n",
       "      <td>0</td>\n",
       "      <td>0</td>\n",
       "      <td>...</td>\n",
       "      <td>1360</td>\n",
       "      <td>5000</td>\n",
       "      <td>high standard</td>\n",
       "      <td>2</td>\n",
       "      <td>2014</td>\n",
       "      <td>50</td>\n",
       "      <td>12</td>\n",
       "      <td>9</td>\n",
       "      <td>120.80</td>\n",
       "      <td>98.04</td>\n",
       "    </tr>\n",
       "    <tr>\n",
       "      <th>4</th>\n",
       "      <td>1954400510</td>\n",
       "      <td>2015-02-18</td>\n",
       "      <td>510000.00</td>\n",
       "      <td>3</td>\n",
       "      <td>2.00</td>\n",
       "      <td>1680</td>\n",
       "      <td>8080</td>\n",
       "      <td>1.00</td>\n",
       "      <td>0</td>\n",
       "      <td>0</td>\n",
       "      <td>...</td>\n",
       "      <td>1800</td>\n",
       "      <td>7503</td>\n",
       "      <td>low standard</td>\n",
       "      <td>2</td>\n",
       "      <td>2015</td>\n",
       "      <td>8</td>\n",
       "      <td>2</td>\n",
       "      <td>18</td>\n",
       "      <td>63.12</td>\n",
       "      <td>62.12</td>\n",
       "    </tr>\n",
       "  </tbody>\n",
       "</table>\n",
       "<p>5 rows × 29 columns</p>\n",
       "</div>"
      ],
      "text/plain": [
       "           id       date     price  bedrooms  bathrooms  sqft_living  \\\n",
       "0  7129300520 2014-10-13 221900.00         3       1.00         1180   \n",
       "1  6414100192 2014-12-09 538000.00         3       2.25         2570   \n",
       "2  5631500400 2015-02-25 180000.00         2       1.00          770   \n",
       "3  2487200875 2014-12-09 604000.00         4       3.00         1960   \n",
       "4  1954400510 2015-02-18 510000.00         3       2.00         1680   \n",
       "\n",
       "   sqft_lot  floors  waterfront  view  ...  sqft_living15  sqft_lot15  \\\n",
       "0      5650    1.00           0     0  ...           1340        5650   \n",
       "1      7242    2.00           0     0  ...           1690        7639   \n",
       "2     10000    1.00           0     0  ...           2720        8062   \n",
       "3      5000    1.00           0     0  ...           1360        5000   \n",
       "4      8080    1.00           0     0  ...           1800        7503   \n",
       "\n",
       "        standard  level  year  year_week  month  day  price/ft2  \\\n",
       "0   low standard      0  2014         42     10   13      39.27   \n",
       "1   low standard      2  2014         50     12    9      74.29   \n",
       "2   low standard      0  2015          9      2   25      18.00   \n",
       "3  high standard      2  2014         50     12    9     120.80   \n",
       "4   low standard      2  2015          8      2   18      63.12   \n",
       "\n",
       "   median_price/ft2_zipcode  \n",
       "0                     38.43  \n",
       "1                     60.14  \n",
       "2                     44.53  \n",
       "3                     98.04  \n",
       "4                     62.12  \n",
       "\n",
       "[5 rows x 29 columns]"
      ]
     },
     "execution_count": 21,
     "metadata": {},
     "output_type": "execute_result"
    }
   ],
   "source": [
    "df2.head()"
   ]
  },
  {
   "cell_type": "code",
   "execution_count": 22,
   "id": "70a5277d",
   "metadata": {
    "ExecuteTime": {
     "end_time": "2021-08-23T23:27:57.689484Z",
     "start_time": "2021-08-23T23:27:55.414567Z"
    },
    "hidden": true
   },
   "outputs": [],
   "source": [
    "# decision: buy or not buy\n",
    "df2['decision'] = df2[['price/ft2', 'median_price/ft2_zipcode']].apply(lambda x: 1 if x['price/ft2'] <= x['median_price/ft2_zipcode'] else 0, axis=1)\n",
    "\n",
    "# Sales price suggestion\n",
    "df2['price_suggestion'] = df2[['sqft_lot', 'median_price/ft2_zipcode', 'condition']].apply(lambda x: (x['median_price/ft2_zipcode']*x['sqft_lot']) if (x['condition']>= 3) \n",
    "                                                                                             else ((x['median_price/ft2_zipcode']*x['sqft_lot'])*0.8), axis = 1)\n",
    "# Sales profit\n",
    "df2['profit'] = df2['price_suggestion'] - df2['price']\n",
    "\n",
    "# Profitable purchase: \n",
    "df2['profitable_purchase'] = df2[['profit', 'price']].apply(lambda x: 'prejudice' if (x['profit']< 0) else 'low profit' \n",
    "                                                              if x['profit']< (x['price']*0.25) \n",
    "                                                              else 'medium profit' if  (x['price']*0.25) <= x['profit'] < (x['price']*0.5) \n",
    "                                                              else 'high profit', axis = 1)"
   ]
  },
  {
   "cell_type": "code",
   "execution_count": 23,
   "id": "164fabd9",
   "metadata": {
    "ExecuteTime": {
     "end_time": "2021-08-23T23:27:57.702324Z",
     "start_time": "2021-08-23T23:27:57.695473Z"
    },
    "hidden": true
   },
   "outputs": [
    {
     "data": {
      "text/plain": [
       "Index(['id', 'date', 'price', 'bedrooms', 'bathrooms', 'sqft_living',\n",
       "       'sqft_lot', 'floors', 'waterfront', 'view', 'condition', 'grade',\n",
       "       'sqft_above', 'sqft_basement', 'yr_built', 'yr_renovated', 'zipcode',\n",
       "       'lat', 'long', 'sqft_living15', 'sqft_lot15', 'standard', 'level',\n",
       "       'year', 'year_week', 'month', 'day', 'price/ft2',\n",
       "       'median_price/ft2_zipcode', 'decision', 'price_suggestion', 'profit',\n",
       "       'profitable_purchase'],\n",
       "      dtype='object')"
      ]
     },
     "execution_count": 23,
     "metadata": {},
     "output_type": "execute_result"
    }
   ],
   "source": [
    "df2.columns"
   ]
  },
  {
   "cell_type": "code",
   "execution_count": 24,
   "id": "c6689ae3",
   "metadata": {
    "ExecuteTime": {
     "end_time": "2021-08-23T23:27:57.813256Z",
     "start_time": "2021-08-23T23:27:57.707852Z"
    },
    "hidden": true
   },
   "outputs": [
    {
     "data": {
      "text/html": [
       "<div>\n",
       "<style scoped>\n",
       "    .dataframe tbody tr th:only-of-type {\n",
       "        vertical-align: middle;\n",
       "    }\n",
       "\n",
       "    .dataframe tbody tr th {\n",
       "        vertical-align: top;\n",
       "    }\n",
       "\n",
       "    .dataframe thead th {\n",
       "        text-align: right;\n",
       "    }\n",
       "</style>\n",
       "<table border=\"1\" class=\"dataframe\">\n",
       "  <thead>\n",
       "    <tr style=\"text-align: right;\">\n",
       "      <th></th>\n",
       "      <th>id</th>\n",
       "      <th>date</th>\n",
       "      <th>price</th>\n",
       "      <th>bedrooms</th>\n",
       "      <th>bathrooms</th>\n",
       "      <th>sqft_living</th>\n",
       "      <th>sqft_lot</th>\n",
       "      <th>floors</th>\n",
       "      <th>waterfront</th>\n",
       "      <th>view</th>\n",
       "      <th>...</th>\n",
       "      <th>year</th>\n",
       "      <th>year_week</th>\n",
       "      <th>month</th>\n",
       "      <th>day</th>\n",
       "      <th>price/ft2</th>\n",
       "      <th>median_price/ft2_zipcode</th>\n",
       "      <th>decision</th>\n",
       "      <th>price_suggestion</th>\n",
       "      <th>profit</th>\n",
       "      <th>profitable_purchase</th>\n",
       "    </tr>\n",
       "  </thead>\n",
       "  <tbody>\n",
       "    <tr>\n",
       "      <th>0</th>\n",
       "      <td>7129300520</td>\n",
       "      <td>2014-10-13</td>\n",
       "      <td>221900.00</td>\n",
       "      <td>3</td>\n",
       "      <td>1.00</td>\n",
       "      <td>1180</td>\n",
       "      <td>5650</td>\n",
       "      <td>1.00</td>\n",
       "      <td>0</td>\n",
       "      <td>0</td>\n",
       "      <td>...</td>\n",
       "      <td>2014</td>\n",
       "      <td>42</td>\n",
       "      <td>10</td>\n",
       "      <td>13</td>\n",
       "      <td>39.27</td>\n",
       "      <td>38.43</td>\n",
       "      <td>0</td>\n",
       "      <td>217112.93</td>\n",
       "      <td>-4787.07</td>\n",
       "      <td>prejudice</td>\n",
       "    </tr>\n",
       "    <tr>\n",
       "      <th>1</th>\n",
       "      <td>6414100192</td>\n",
       "      <td>2014-12-09</td>\n",
       "      <td>538000.00</td>\n",
       "      <td>3</td>\n",
       "      <td>2.25</td>\n",
       "      <td>2570</td>\n",
       "      <td>7242</td>\n",
       "      <td>2.00</td>\n",
       "      <td>0</td>\n",
       "      <td>0</td>\n",
       "      <td>...</td>\n",
       "      <td>2014</td>\n",
       "      <td>50</td>\n",
       "      <td>12</td>\n",
       "      <td>9</td>\n",
       "      <td>74.29</td>\n",
       "      <td>60.14</td>\n",
       "      <td>0</td>\n",
       "      <td>435520.36</td>\n",
       "      <td>-102479.64</td>\n",
       "      <td>prejudice</td>\n",
       "    </tr>\n",
       "    <tr>\n",
       "      <th>2</th>\n",
       "      <td>5631500400</td>\n",
       "      <td>2015-02-25</td>\n",
       "      <td>180000.00</td>\n",
       "      <td>2</td>\n",
       "      <td>1.00</td>\n",
       "      <td>770</td>\n",
       "      <td>10000</td>\n",
       "      <td>1.00</td>\n",
       "      <td>0</td>\n",
       "      <td>0</td>\n",
       "      <td>...</td>\n",
       "      <td>2015</td>\n",
       "      <td>9</td>\n",
       "      <td>2</td>\n",
       "      <td>25</td>\n",
       "      <td>18.00</td>\n",
       "      <td>44.53</td>\n",
       "      <td>1</td>\n",
       "      <td>445259.30</td>\n",
       "      <td>265259.30</td>\n",
       "      <td>high profit</td>\n",
       "    </tr>\n",
       "    <tr>\n",
       "      <th>3</th>\n",
       "      <td>2487200875</td>\n",
       "      <td>2014-12-09</td>\n",
       "      <td>604000.00</td>\n",
       "      <td>4</td>\n",
       "      <td>3.00</td>\n",
       "      <td>1960</td>\n",
       "      <td>5000</td>\n",
       "      <td>1.00</td>\n",
       "      <td>0</td>\n",
       "      <td>0</td>\n",
       "      <td>...</td>\n",
       "      <td>2014</td>\n",
       "      <td>50</td>\n",
       "      <td>12</td>\n",
       "      <td>9</td>\n",
       "      <td>120.80</td>\n",
       "      <td>98.04</td>\n",
       "      <td>0</td>\n",
       "      <td>490196.08</td>\n",
       "      <td>-113803.92</td>\n",
       "      <td>prejudice</td>\n",
       "    </tr>\n",
       "    <tr>\n",
       "      <th>4</th>\n",
       "      <td>1954400510</td>\n",
       "      <td>2015-02-18</td>\n",
       "      <td>510000.00</td>\n",
       "      <td>3</td>\n",
       "      <td>2.00</td>\n",
       "      <td>1680</td>\n",
       "      <td>8080</td>\n",
       "      <td>1.00</td>\n",
       "      <td>0</td>\n",
       "      <td>0</td>\n",
       "      <td>...</td>\n",
       "      <td>2015</td>\n",
       "      <td>8</td>\n",
       "      <td>2</td>\n",
       "      <td>18</td>\n",
       "      <td>63.12</td>\n",
       "      <td>62.12</td>\n",
       "      <td>0</td>\n",
       "      <td>501928.99</td>\n",
       "      <td>-8071.01</td>\n",
       "      <td>prejudice</td>\n",
       "    </tr>\n",
       "  </tbody>\n",
       "</table>\n",
       "<p>5 rows × 33 columns</p>\n",
       "</div>"
      ],
      "text/plain": [
       "           id       date     price  bedrooms  bathrooms  sqft_living  \\\n",
       "0  7129300520 2014-10-13 221900.00         3       1.00         1180   \n",
       "1  6414100192 2014-12-09 538000.00         3       2.25         2570   \n",
       "2  5631500400 2015-02-25 180000.00         2       1.00          770   \n",
       "3  2487200875 2014-12-09 604000.00         4       3.00         1960   \n",
       "4  1954400510 2015-02-18 510000.00         3       2.00         1680   \n",
       "\n",
       "   sqft_lot  floors  waterfront  view  ...  year  year_week  month  day  \\\n",
       "0      5650    1.00           0     0  ...  2014         42     10   13   \n",
       "1      7242    2.00           0     0  ...  2014         50     12    9   \n",
       "2     10000    1.00           0     0  ...  2015          9      2   25   \n",
       "3      5000    1.00           0     0  ...  2014         50     12    9   \n",
       "4      8080    1.00           0     0  ...  2015          8      2   18   \n",
       "\n",
       "   price/ft2  median_price/ft2_zipcode  decision  price_suggestion     profit  \\\n",
       "0      39.27                     38.43         0         217112.93   -4787.07   \n",
       "1      74.29                     60.14         0         435520.36 -102479.64   \n",
       "2      18.00                     44.53         1         445259.30  265259.30   \n",
       "3     120.80                     98.04         0         490196.08 -113803.92   \n",
       "4      63.12                     62.12         0         501928.99   -8071.01   \n",
       "\n",
       "   profitable_purchase  \n",
       "0            prejudice  \n",
       "1            prejudice  \n",
       "2          high profit  \n",
       "3            prejudice  \n",
       "4            prejudice  \n",
       "\n",
       "[5 rows x 33 columns]"
      ]
     },
     "execution_count": 24,
     "metadata": {},
     "output_type": "execute_result"
    }
   ],
   "source": [
    "df2.head()"
   ]
  },
  {
   "cell_type": "code",
   "execution_count": 25,
   "id": "21b9a155",
   "metadata": {
    "ExecuteTime": {
     "end_time": "2021-08-23T23:28:29.524948Z",
     "start_time": "2021-08-23T23:27:57.815172Z"
    },
    "hidden": true
   },
   "outputs": [],
   "source": [
    "df2.to_excel(\"output2.xlsx\")"
   ]
  },
  {
   "cell_type": "markdown",
   "id": "b9961de2",
   "metadata": {
    "hidden": true
   },
   "source": [
    "### Adding Features from API\n",
    "- The name of the street\n",
    "- Property number\n",
    "- The name of the neighborhood\n",
    "- The name of the city\n",
    "- The name of the state"
   ]
  },
  {
   "cell_type": "code",
   "execution_count": 26,
   "id": "81e5b2a3",
   "metadata": {
    "ExecuteTime": {
     "end_time": "2021-08-23T23:28:29.536089Z",
     "start_time": "2021-08-23T23:28:29.529463Z"
    },
    "hidden": true
   },
   "outputs": [],
   "source": [
    "#Inicialize Nominatim API\n",
    "geolacator = Nominatim(user_agent = 'geoapiExercises')"
   ]
  },
  {
   "cell_type": "code",
   "execution_count": 27,
   "id": "906756a0",
   "metadata": {
    "ExecuteTime": {
     "end_time": "2021-08-23T23:28:32.449813Z",
     "start_time": "2021-08-23T23:28:29.538925Z"
    },
    "hidden": true
   },
   "outputs": [
    {
     "data": {
      "text/plain": [
       "{'place_id': 148421265,\n",
       " 'licence': 'Data © OpenStreetMap contributors, ODbL 1.0. https://osm.org/copyright',\n",
       " 'osm_type': 'way',\n",
       " 'osm_id': 236673600,\n",
       " 'lat': '47.5112302',\n",
       " 'lon': '-122.25676111324441',\n",
       " 'display_name': '10012, 61st Avenue South, Rainier Beach, Seattle, King County, Washington, 98178, United States',\n",
       " 'address': {'house_number': '10012',\n",
       "  'road': '61st Avenue South',\n",
       "  'neighbourhood': 'Rainier Beach',\n",
       "  'city': 'Seattle',\n",
       "  'county': 'King County',\n",
       "  'state': 'Washington',\n",
       "  'postcode': '98178',\n",
       "  'country': 'United States',\n",
       "  'country_code': 'us'},\n",
       " 'boundingbox': ['47.511189', '47.5112943', '-122.2568571', '-122.2566651']}"
      ]
     },
     "execution_count": 27,
     "metadata": {},
     "output_type": "execute_result"
    }
   ],
   "source": [
    "response = geolacator.reverse('47.5112,-122.257')\n",
    "response.raw"
   ]
  },
  {
   "cell_type": "code",
   "execution_count": 28,
   "id": "fbf70698",
   "metadata": {
    "ExecuteTime": {
     "end_time": "2021-08-23T23:28:32.461860Z",
     "start_time": "2021-08-23T23:28:32.453379Z"
    },
    "hidden": true
   },
   "outputs": [
    {
     "data": {
      "text/plain": [
       "{'house_number': '10012',\n",
       " 'road': '61st Avenue South',\n",
       " 'neighbourhood': 'Rainier Beach',\n",
       " 'city': 'Seattle',\n",
       " 'county': 'King County',\n",
       " 'state': 'Washington',\n",
       " 'postcode': '98178',\n",
       " 'country': 'United States',\n",
       " 'country_code': 'us'}"
      ]
     },
     "execution_count": 28,
     "metadata": {},
     "output_type": "execute_result"
    }
   ],
   "source": [
    "response.raw['address']"
   ]
  },
  {
   "cell_type": "code",
   "execution_count": 29,
   "id": "22ef7141",
   "metadata": {
    "ExecuteTime": {
     "end_time": "2021-08-23T23:28:32.616945Z",
     "start_time": "2021-08-23T23:28:32.464695Z"
    },
    "hidden": true
   },
   "outputs": [],
   "source": [
    "# #Create empty rows\n",
    "\n",
    "# df2['road'] = 'NA'\n",
    "# df2['house_number'] = 'NA'\n",
    "# df2['neighbourhood'] = 'NA'\n",
    "# df2['city'] = 'NA'\n",
    "# df2['county'] = 'NA'\n",
    "# df2['state'] = 'NA'"
   ]
  },
  {
   "cell_type": "code",
   "execution_count": 30,
   "id": "4f484846",
   "metadata": {
    "ExecuteTime": {
     "end_time": "2021-08-23T23:28:32.704978Z",
     "start_time": "2021-08-23T23:28:32.621218Z"
    },
    "hidden": true
   },
   "outputs": [],
   "source": [
    "# for i in range( len(df2) ):\n",
    "#    print( 'Loop: {}/{}'.format(i, len(df2)))\n",
    "#    # Make query\n",
    "#    query = str(df2.loc[i, 'lat']) + ',' + str(df2.loc[i, 'long'])\n",
    "    \n",
    "#    # API request\n",
    "#    response = geolacator.reverse( query )\n",
    "    \n",
    "#    # Populate data\n",
    "#    if 'road' in response.raw['address']:\n",
    "#        df2.loc[i,'road'] = response.raw['address']['road']\n",
    "        \n",
    "#    if 'house_number' in response.raw['address']:\n",
    "#        df2.loc[i,'house_number'] = response.raw['address']['house_number']\n",
    "        \n",
    "#    if 'neighbourhood' in response.raw['address']:\n",
    "#        df2.loc[i,'neighbourhood'] = response.raw['address']['neighbourhood']\n",
    "        \n",
    "#    if 'city' in response.raw['address']:\n",
    "#        df2.loc[i,'city'] = response.raw['address']['city']\n",
    "        \n",
    "#    if 'county' in response.raw['address']:\n",
    "#        df2.loc[i,'county'] = response.raw['address']['county']\n",
    "        \n",
    "#    if 'state' in response.raw['address']:\n",
    "#        df2.loc[i,'state'] = response.raw['address']['state']"
   ]
  },
  {
   "cell_type": "code",
   "execution_count": 31,
   "id": "d117e9cb",
   "metadata": {
    "ExecuteTime": {
     "end_time": "2021-08-23T23:28:32.822932Z",
     "start_time": "2021-08-23T23:28:32.708266Z"
    },
    "hidden": true
   },
   "outputs": [],
   "source": [
    "# df2.to_excel(\"output.xlsx\") "
   ]
  },
  {
   "cell_type": "code",
   "execution_count": 32,
   "id": "8797b0ea",
   "metadata": {
    "ExecuteTime": {
     "end_time": "2021-08-23T23:29:05.678557Z",
     "start_time": "2021-08-23T23:28:32.826268Z"
    },
    "hidden": true
   },
   "outputs": [],
   "source": [
    "df2 = pd.read_excel(\"output.xlsx\") "
   ]
  },
  {
   "cell_type": "markdown",
   "id": "a86ca1b8",
   "metadata": {
    "heading_collapsed": true
   },
   "source": [
    "# Variable Filtering"
   ]
  },
  {
   "cell_type": "code",
   "execution_count": 33,
   "id": "461a3cdc",
   "metadata": {
    "ExecuteTime": {
     "end_time": "2021-08-23T23:29:05.685865Z",
     "start_time": "2021-08-23T23:29:05.680235Z"
    },
    "hidden": true
   },
   "outputs": [],
   "source": [
    "df3 = df2.copy() "
   ]
  },
  {
   "cell_type": "markdown",
   "id": "7b99ea25",
   "metadata": {
    "heading_collapsed": true,
    "hidden": true
   },
   "source": [
    "## Line Filtering"
   ]
  },
  {
   "cell_type": "code",
   "execution_count": 34,
   "id": "1e1cf83a",
   "metadata": {
    "ExecuteTime": {
     "end_time": "2021-08-23T23:29:05.904591Z",
     "start_time": "2021-08-23T23:29:05.688334Z"
    },
    "hidden": true
   },
   "outputs": [
    {
     "data": {
      "text/plain": [
       "795000620     3\n",
       "3523069060    2\n",
       "7129304540    2\n",
       "2619920170    2\n",
       "6021501535    2\n",
       "             ..\n",
       "2595650170    1\n",
       "7212651100    1\n",
       "9808700025    1\n",
       "6772200055    1\n",
       "2424410110    1\n",
       "Name: id, Length: 21436, dtype: int64"
      ]
     },
     "execution_count": 34,
     "metadata": {},
     "output_type": "execute_result"
    }
   ],
   "source": [
    "df3['id'].value_counts()"
   ]
  },
  {
   "cell_type": "code",
   "execution_count": 35,
   "id": "85247ef9",
   "metadata": {
    "ExecuteTime": {
     "end_time": "2021-08-23T23:29:06.105574Z",
     "start_time": "2021-08-23T23:29:05.907875Z"
    },
    "hidden": true
   },
   "outputs": [
    {
     "data": {
      "text/html": [
       "<div>\n",
       "<style scoped>\n",
       "    .dataframe tbody tr th:only-of-type {\n",
       "        vertical-align: middle;\n",
       "    }\n",
       "\n",
       "    .dataframe tbody tr th {\n",
       "        vertical-align: top;\n",
       "    }\n",
       "\n",
       "    .dataframe thead th {\n",
       "        text-align: right;\n",
       "    }\n",
       "</style>\n",
       "<table border=\"1\" class=\"dataframe\">\n",
       "  <thead>\n",
       "    <tr style=\"text-align: right;\">\n",
       "      <th></th>\n",
       "      <th>Unnamed: 0</th>\n",
       "      <th>id</th>\n",
       "      <th>date</th>\n",
       "      <th>price</th>\n",
       "      <th>bedrooms</th>\n",
       "      <th>bathrooms</th>\n",
       "      <th>sqft_living</th>\n",
       "      <th>sqft_lot</th>\n",
       "      <th>floors</th>\n",
       "      <th>waterfront</th>\n",
       "      <th>...</th>\n",
       "      <th>decision</th>\n",
       "      <th>price_suggestion</th>\n",
       "      <th>profit</th>\n",
       "      <th>profitable_purchase</th>\n",
       "      <th>road</th>\n",
       "      <th>house_number</th>\n",
       "      <th>neighbourhood</th>\n",
       "      <th>city</th>\n",
       "      <th>county</th>\n",
       "      <th>state</th>\n",
       "    </tr>\n",
       "  </thead>\n",
       "  <tbody>\n",
       "    <tr>\n",
       "      <th>0</th>\n",
       "      <td>0</td>\n",
       "      <td>7129300520</td>\n",
       "      <td>2014-10-13</td>\n",
       "      <td>221900</td>\n",
       "      <td>3</td>\n",
       "      <td>1.00</td>\n",
       "      <td>1180</td>\n",
       "      <td>5650</td>\n",
       "      <td>1.00</td>\n",
       "      <td>0</td>\n",
       "      <td>...</td>\n",
       "      <td>0</td>\n",
       "      <td>217112.93</td>\n",
       "      <td>-4787.07</td>\n",
       "      <td>prejudice</td>\n",
       "      <td>61st Avenue South</td>\n",
       "      <td>10012</td>\n",
       "      <td>Rainier Beach</td>\n",
       "      <td>Seattle</td>\n",
       "      <td>King County</td>\n",
       "      <td>Washington</td>\n",
       "    </tr>\n",
       "    <tr>\n",
       "      <th>1</th>\n",
       "      <td>1</td>\n",
       "      <td>6414100192</td>\n",
       "      <td>2014-12-09</td>\n",
       "      <td>538000</td>\n",
       "      <td>3</td>\n",
       "      <td>2.25</td>\n",
       "      <td>2570</td>\n",
       "      <td>7242</td>\n",
       "      <td>2.00</td>\n",
       "      <td>0</td>\n",
       "      <td>...</td>\n",
       "      <td>0</td>\n",
       "      <td>435520.36</td>\n",
       "      <td>-102479.64</td>\n",
       "      <td>prejudice</td>\n",
       "      <td>Northeast 127th Street</td>\n",
       "      <td>837</td>\n",
       "      <td>NaN</td>\n",
       "      <td>Seattle</td>\n",
       "      <td>King County</td>\n",
       "      <td>Washington</td>\n",
       "    </tr>\n",
       "    <tr>\n",
       "      <th>2</th>\n",
       "      <td>2</td>\n",
       "      <td>5631500400</td>\n",
       "      <td>2015-02-25</td>\n",
       "      <td>180000</td>\n",
       "      <td>2</td>\n",
       "      <td>1.00</td>\n",
       "      <td>770</td>\n",
       "      <td>10000</td>\n",
       "      <td>1.00</td>\n",
       "      <td>0</td>\n",
       "      <td>...</td>\n",
       "      <td>1</td>\n",
       "      <td>445259.30</td>\n",
       "      <td>265259.30</td>\n",
       "      <td>high profit</td>\n",
       "      <td>81st Avenue Northeast</td>\n",
       "      <td>15109</td>\n",
       "      <td>NaN</td>\n",
       "      <td>NaN</td>\n",
       "      <td>King County</td>\n",
       "      <td>Washington</td>\n",
       "    </tr>\n",
       "    <tr>\n",
       "      <th>3</th>\n",
       "      <td>3</td>\n",
       "      <td>2487200875</td>\n",
       "      <td>2014-12-09</td>\n",
       "      <td>604000</td>\n",
       "      <td>4</td>\n",
       "      <td>3.00</td>\n",
       "      <td>1960</td>\n",
       "      <td>5000</td>\n",
       "      <td>1.00</td>\n",
       "      <td>0</td>\n",
       "      <td>...</td>\n",
       "      <td>0</td>\n",
       "      <td>490196.08</td>\n",
       "      <td>-113803.92</td>\n",
       "      <td>prejudice</td>\n",
       "      <td>Fauntleroy Way Southwest</td>\n",
       "      <td>9236</td>\n",
       "      <td>NaN</td>\n",
       "      <td>Seattle</td>\n",
       "      <td>King County</td>\n",
       "      <td>Washington</td>\n",
       "    </tr>\n",
       "    <tr>\n",
       "      <th>4</th>\n",
       "      <td>4</td>\n",
       "      <td>1954400510</td>\n",
       "      <td>2015-02-18</td>\n",
       "      <td>510000</td>\n",
       "      <td>3</td>\n",
       "      <td>2.00</td>\n",
       "      <td>1680</td>\n",
       "      <td>8080</td>\n",
       "      <td>1.00</td>\n",
       "      <td>0</td>\n",
       "      <td>...</td>\n",
       "      <td>0</td>\n",
       "      <td>501928.99</td>\n",
       "      <td>-8071.01</td>\n",
       "      <td>prejudice</td>\n",
       "      <td>221st Avenue Northeast</td>\n",
       "      <td>923</td>\n",
       "      <td>NaN</td>\n",
       "      <td>NaN</td>\n",
       "      <td>King County</td>\n",
       "      <td>Washington</td>\n",
       "    </tr>\n",
       "  </tbody>\n",
       "</table>\n",
       "<p>5 rows × 40 columns</p>\n",
       "</div>"
      ],
      "text/plain": [
       "   Unnamed: 0          id       date   price  bedrooms  bathrooms  \\\n",
       "0           0  7129300520 2014-10-13  221900         3       1.00   \n",
       "1           1  6414100192 2014-12-09  538000         3       2.25   \n",
       "2           2  5631500400 2015-02-25  180000         2       1.00   \n",
       "3           3  2487200875 2014-12-09  604000         4       3.00   \n",
       "4           4  1954400510 2015-02-18  510000         3       2.00   \n",
       "\n",
       "   sqft_living  sqft_lot  floors  waterfront  ...  decision  price_suggestion  \\\n",
       "0         1180      5650    1.00           0  ...         0         217112.93   \n",
       "1         2570      7242    2.00           0  ...         0         435520.36   \n",
       "2          770     10000    1.00           0  ...         1         445259.30   \n",
       "3         1960      5000    1.00           0  ...         0         490196.08   \n",
       "4         1680      8080    1.00           0  ...         0         501928.99   \n",
       "\n",
       "      profit  profitable_purchase                      road  house_number  \\\n",
       "0   -4787.07            prejudice         61st Avenue South         10012   \n",
       "1 -102479.64            prejudice    Northeast 127th Street           837   \n",
       "2  265259.30          high profit     81st Avenue Northeast         15109   \n",
       "3 -113803.92            prejudice  Fauntleroy Way Southwest          9236   \n",
       "4   -8071.01            prejudice    221st Avenue Northeast           923   \n",
       "\n",
       "   neighbourhood     city       county       state  \n",
       "0  Rainier Beach  Seattle  King County  Washington  \n",
       "1            NaN  Seattle  King County  Washington  \n",
       "2            NaN      NaN  King County  Washington  \n",
       "3            NaN  Seattle  King County  Washington  \n",
       "4            NaN      NaN  King County  Washington  \n",
       "\n",
       "[5 rows x 40 columns]"
      ]
     },
     "execution_count": 35,
     "metadata": {},
     "output_type": "execute_result"
    }
   ],
   "source": [
    "df3.head()"
   ]
  },
  {
   "cell_type": "markdown",
   "id": "2dc1a224",
   "metadata": {
    "ExecuteTime": {
     "end_time": "2021-08-23T12:27:27.250818Z",
     "start_time": "2021-08-23T12:27:27.246610Z"
    },
    "heading_collapsed": true,
    "hidden": true
   },
   "source": [
    "### Removing Duplicates"
   ]
  },
  {
   "cell_type": "code",
   "execution_count": 36,
   "id": "0f820d23",
   "metadata": {
    "ExecuteTime": {
     "end_time": "2021-08-23T23:29:06.237183Z",
     "start_time": "2021-08-23T23:29:06.110043Z"
    },
    "hidden": true
   },
   "outputs": [],
   "source": [
    "# Dropping Duplicates: here we will keep the most recent sales proposal\n",
    "df3 = df3.sort_values('date', ascending=True)\n",
    "df3 = df3.drop_duplicates(subset='id', keep='last')"
   ]
  },
  {
   "cell_type": "markdown",
   "id": "8812d41e",
   "metadata": {
    "heading_collapsed": true,
    "hidden": true
   },
   "source": [
    "### Handling missing values"
   ]
  },
  {
   "cell_type": "code",
   "execution_count": 37,
   "id": "f0f58808",
   "metadata": {
    "ExecuteTime": {
     "end_time": "2021-08-23T23:29:06.285976Z",
     "start_time": "2021-08-23T23:29:06.239286Z"
    },
    "hidden": true,
    "scrolled": true
   },
   "outputs": [
    {
     "data": {
      "text/plain": [
       "Unnamed: 0                      0\n",
       "id                              0\n",
       "date                            0\n",
       "price                           0\n",
       "bedrooms                        0\n",
       "bathrooms                       0\n",
       "sqft_living                     0\n",
       "sqft_lot                        0\n",
       "floors                          0\n",
       "waterfront                      0\n",
       "view                            0\n",
       "condition                       0\n",
       "grade                           0\n",
       "sqft_above                      0\n",
       "sqft_basement                   0\n",
       "yr_built                        0\n",
       "yr_renovated                    0\n",
       "zipcode                         0\n",
       "lat                             0\n",
       "long                            0\n",
       "sqft_living15                   0\n",
       "sqft_lot15                      0\n",
       "standard                        0\n",
       "level                           0\n",
       "year                            0\n",
       "year_week                       0\n",
       "month                           0\n",
       "day                             0\n",
       "price/ft2                       0\n",
       "median_price/ft2_zipcode        0\n",
       "decision                        0\n",
       "price_suggestion                0\n",
       "profit                          0\n",
       "profitable_purchase             0\n",
       "road                          218\n",
       "house_number                 1272\n",
       "neighbourhood               14248\n",
       "city                        12467\n",
       "county                          0\n",
       "state                           0\n",
       "dtype: int64"
      ]
     },
     "execution_count": 37,
     "metadata": {},
     "output_type": "execute_result"
    }
   ],
   "source": [
    "df3.isnull().sum()"
   ]
  },
  {
   "cell_type": "markdown",
   "id": "8d33a60e",
   "metadata": {
    "heading_collapsed": true,
    "hidden": true
   },
   "source": [
    "#### City"
   ]
  },
  {
   "cell_type": "code",
   "execution_count": 38,
   "id": "a52a5a55",
   "metadata": {
    "ExecuteTime": {
     "end_time": "2021-08-23T23:29:06.351861Z",
     "start_time": "2021-08-23T23:29:06.289388Z"
    },
    "hidden": true
   },
   "outputs": [],
   "source": [
    "## we will delete the lines that do not have the street name, as they represent only 0.01% of the data.\n",
    "\n",
    "df3 = df3[df3['road'].notnull()]"
   ]
  },
  {
   "cell_type": "code",
   "execution_count": 39,
   "id": "a01039b6",
   "metadata": {
    "ExecuteTime": {
     "end_time": "2021-08-23T23:29:06.427616Z",
     "start_time": "2021-08-23T23:29:06.355228Z"
    },
    "hidden": true
   },
   "outputs": [
    {
     "data": {
      "text/plain": [
       "Seattle        7029\n",
       "Bellevue       1279\n",
       "Shoreline       607\n",
       "Kent              5\n",
       "King County       2\n",
       "Name: city, dtype: int64"
      ]
     },
     "execution_count": 39,
     "metadata": {},
     "output_type": "execute_result"
    }
   ],
   "source": [
    "df3['city'].value_counts()"
   ]
  },
  {
   "cell_type": "code",
   "execution_count": 40,
   "id": "bc1c392b",
   "metadata": {
    "ExecuteTime": {
     "end_time": "2021-08-23T23:29:06.519549Z",
     "start_time": "2021-08-23T23:29:06.430972Z"
    },
    "hidden": true
   },
   "outputs": [
    {
     "data": {
      "text/plain": [
       "148     98032\n",
       "3403    98032\n",
       "Name: zipcode, dtype: int64"
      ]
     },
     "execution_count": 40,
     "metadata": {},
     "output_type": "execute_result"
    }
   ],
   "source": [
    "aux1 = df3[df3['city']=='King County']\n",
    "aux1['zipcode']"
   ]
  },
  {
   "cell_type": "code",
   "execution_count": 41,
   "id": "8af9942a",
   "metadata": {
    "ExecuteTime": {
     "end_time": "2021-08-23T23:29:07.149598Z",
     "start_time": "2021-08-23T23:29:06.522257Z"
    },
    "hidden": true
   },
   "outputs": [],
   "source": [
    "df3['city'] = df3[['city']].apply(lambda x: 'Kent' if (x['city']=='King County') else x['city'], axis = 1)"
   ]
  },
  {
   "cell_type": "code",
   "execution_count": 42,
   "id": "affb6ce9",
   "metadata": {
    "ExecuteTime": {
     "end_time": "2021-08-23T23:29:07.160722Z",
     "start_time": "2021-08-23T23:29:07.151380Z"
    },
    "hidden": true
   },
   "outputs": [
    {
     "name": "stdout",
     "output_type": "stream",
     "text": [
      "unique: [nan 'Seattle' 'Bellevue' 'Shoreline' 'Kent']\n",
      "NAN: 12296\n"
     ]
    }
   ],
   "source": [
    "print('unique:', df3['city'].unique())\n",
    "print('NAN:', df3['city'].isna().sum())"
   ]
  },
  {
   "cell_type": "code",
   "execution_count": 43,
   "id": "5838cefb",
   "metadata": {
    "ExecuteTime": {
     "end_time": "2021-08-23T23:29:20.761643Z",
     "start_time": "2021-08-23T23:29:07.163288Z"
    },
    "hidden": true
   },
   "outputs": [
    {
     "data": {
      "text/html": [
       "<div>\n",
       "<style scoped>\n",
       "    .dataframe tbody tr th:only-of-type {\n",
       "        vertical-align: middle;\n",
       "    }\n",
       "\n",
       "    .dataframe tbody tr th {\n",
       "        vertical-align: top;\n",
       "    }\n",
       "\n",
       "    .dataframe thead th {\n",
       "        text-align: right;\n",
       "    }\n",
       "</style>\n",
       "<table border=\"1\" class=\"dataframe\">\n",
       "  <thead>\n",
       "    <tr style=\"text-align: right;\">\n",
       "      <th></th>\n",
       "      <th>zipcode</th>\n",
       "      <th>type</th>\n",
       "      <th>primary_city</th>\n",
       "      <th>acceptable_cities</th>\n",
       "      <th>unacceptable_cities</th>\n",
       "      <th>state</th>\n",
       "      <th>county</th>\n",
       "      <th>area_codes</th>\n",
       "      <th>world_region</th>\n",
       "      <th>latitude</th>\n",
       "      <th>longitude</th>\n",
       "    </tr>\n",
       "  </thead>\n",
       "  <tbody>\n",
       "    <tr>\n",
       "      <th>0</th>\n",
       "      <td>501</td>\n",
       "      <td>UNIQUE</td>\n",
       "      <td>Holtsville</td>\n",
       "      <td>NaN</td>\n",
       "      <td>I R S Service Center</td>\n",
       "      <td>NY</td>\n",
       "      <td>Suffolk County</td>\n",
       "      <td>631</td>\n",
       "      <td>NaN</td>\n",
       "      <td>40.81</td>\n",
       "      <td>-73.04</td>\n",
       "    </tr>\n",
       "    <tr>\n",
       "      <th>1</th>\n",
       "      <td>544</td>\n",
       "      <td>UNIQUE</td>\n",
       "      <td>Holtsville</td>\n",
       "      <td>NaN</td>\n",
       "      <td>Irs Service Center</td>\n",
       "      <td>NY</td>\n",
       "      <td>Suffolk County</td>\n",
       "      <td>631</td>\n",
       "      <td>NaN</td>\n",
       "      <td>40.81</td>\n",
       "      <td>-73.04</td>\n",
       "    </tr>\n",
       "  </tbody>\n",
       "</table>\n",
       "</div>"
      ],
      "text/plain": [
       "   zipcode    type primary_city acceptable_cities   unacceptable_cities state  \\\n",
       "0      501  UNIQUE   Holtsville               NaN  I R S Service Center    NY   \n",
       "1      544  UNIQUE   Holtsville               NaN    Irs Service Center    NY   \n",
       "\n",
       "           county area_codes world_region  latitude  longitude  \n",
       "0  Suffolk County        631          NaN     40.81     -73.04  \n",
       "1  Suffolk County        631          NaN     40.81     -73.04  "
      ]
     },
     "execution_count": 43,
     "metadata": {},
     "output_type": "execute_result"
    }
   ],
   "source": [
    "df_zipcode = pd.read_excel('zip_code_database.xlsx')\n",
    "df_zipcode.head(2)"
   ]
  },
  {
   "cell_type": "code",
   "execution_count": 44,
   "id": "437a12d6",
   "metadata": {
    "ExecuteTime": {
     "end_time": "2021-08-23T23:29:20.847039Z",
     "start_time": "2021-08-23T23:29:20.764649Z"
    },
    "hidden": true,
    "scrolled": true
   },
   "outputs": [
    {
     "data": {
      "text/html": [
       "<div>\n",
       "<style scoped>\n",
       "    .dataframe tbody tr th:only-of-type {\n",
       "        vertical-align: middle;\n",
       "    }\n",
       "\n",
       "    .dataframe tbody tr th {\n",
       "        vertical-align: top;\n",
       "    }\n",
       "\n",
       "    .dataframe thead th {\n",
       "        text-align: right;\n",
       "    }\n",
       "</style>\n",
       "<table border=\"1\" class=\"dataframe\">\n",
       "  <thead>\n",
       "    <tr style=\"text-align: right;\">\n",
       "      <th></th>\n",
       "      <th>Unnamed: 0</th>\n",
       "      <th>id</th>\n",
       "      <th>date</th>\n",
       "      <th>price</th>\n",
       "      <th>bedrooms</th>\n",
       "      <th>bathrooms</th>\n",
       "      <th>sqft_living</th>\n",
       "      <th>sqft_lot</th>\n",
       "      <th>floors</th>\n",
       "      <th>waterfront</th>\n",
       "      <th>...</th>\n",
       "      <th>price_suggestion</th>\n",
       "      <th>profit</th>\n",
       "      <th>profitable_purchase</th>\n",
       "      <th>road</th>\n",
       "      <th>house_number</th>\n",
       "      <th>neighbourhood</th>\n",
       "      <th>city</th>\n",
       "      <th>county</th>\n",
       "      <th>state</th>\n",
       "      <th>primary_city</th>\n",
       "    </tr>\n",
       "  </thead>\n",
       "  <tbody>\n",
       "    <tr>\n",
       "      <th>0</th>\n",
       "      <td>16768</td>\n",
       "      <td>5561000190</td>\n",
       "      <td>2014-05-02</td>\n",
       "      <td>437500</td>\n",
       "      <td>3</td>\n",
       "      <td>2.25</td>\n",
       "      <td>1970</td>\n",
       "      <td>35100</td>\n",
       "      <td>2.00</td>\n",
       "      <td>0</td>\n",
       "      <td>...</td>\n",
       "      <td>1944210.49</td>\n",
       "      <td>1506710.49</td>\n",
       "      <td>high profit</td>\n",
       "      <td>Southeast 154th Street</td>\n",
       "      <td>26069</td>\n",
       "      <td>NaN</td>\n",
       "      <td>NaN</td>\n",
       "      <td>King County</td>\n",
       "      <td>Washington</td>\n",
       "      <td>Issaquah</td>\n",
       "    </tr>\n",
       "    <tr>\n",
       "      <th>1</th>\n",
       "      <td>9596</td>\n",
       "      <td>472000620</td>\n",
       "      <td>2014-05-02</td>\n",
       "      <td>790000</td>\n",
       "      <td>3</td>\n",
       "      <td>2.50</td>\n",
       "      <td>2600</td>\n",
       "      <td>4750</td>\n",
       "      <td>1.00</td>\n",
       "      <td>0</td>\n",
       "      <td>...</td>\n",
       "      <td>614705.88</td>\n",
       "      <td>-175294.12</td>\n",
       "      <td>prejudice</td>\n",
       "      <td>34th Avenue Northwest</td>\n",
       "      <td>7506</td>\n",
       "      <td>Sunset Hill</td>\n",
       "      <td>Seattle</td>\n",
       "      <td>King County</td>\n",
       "      <td>Washington</td>\n",
       "      <td>Seattle</td>\n",
       "    </tr>\n",
       "    <tr>\n",
       "      <th>2</th>\n",
       "      <td>9587</td>\n",
       "      <td>1024069009</td>\n",
       "      <td>2014-05-02</td>\n",
       "      <td>675000</td>\n",
       "      <td>5</td>\n",
       "      <td>2.50</td>\n",
       "      <td>2820</td>\n",
       "      <td>67518</td>\n",
       "      <td>2.00</td>\n",
       "      <td>0</td>\n",
       "      <td>...</td>\n",
       "      <td>7629236.56</td>\n",
       "      <td>6954236.56</td>\n",
       "      <td>high profit</td>\n",
       "      <td>Southeast 32nd Way</td>\n",
       "      <td>23601</td>\n",
       "      <td>NaN</td>\n",
       "      <td>NaN</td>\n",
       "      <td>King County</td>\n",
       "      <td>Washington</td>\n",
       "      <td>Issaquah</td>\n",
       "    </tr>\n",
       "    <tr>\n",
       "      <th>3</th>\n",
       "      <td>20602</td>\n",
       "      <td>7853361370</td>\n",
       "      <td>2014-05-02</td>\n",
       "      <td>555000</td>\n",
       "      <td>4</td>\n",
       "      <td>2.50</td>\n",
       "      <td>3310</td>\n",
       "      <td>6500</td>\n",
       "      <td>2.00</td>\n",
       "      <td>0</td>\n",
       "      <td>...</td>\n",
       "      <td>560243.14</td>\n",
       "      <td>5243.14</td>\n",
       "      <td>low profit</td>\n",
       "      <td>Southeast Terrace Street</td>\n",
       "      <td>35246</td>\n",
       "      <td>NaN</td>\n",
       "      <td>NaN</td>\n",
       "      <td>King County</td>\n",
       "      <td>Washington</td>\n",
       "      <td>Snoqualmie</td>\n",
       "    </tr>\n",
       "    <tr>\n",
       "      <th>4</th>\n",
       "      <td>11577</td>\n",
       "      <td>5056500260</td>\n",
       "      <td>2014-05-02</td>\n",
       "      <td>440000</td>\n",
       "      <td>4</td>\n",
       "      <td>2.25</td>\n",
       "      <td>2160</td>\n",
       "      <td>8119</td>\n",
       "      <td>1.00</td>\n",
       "      <td>0</td>\n",
       "      <td>...</td>\n",
       "      <td>551499.46</td>\n",
       "      <td>111499.46</td>\n",
       "      <td>medium profit</td>\n",
       "      <td>Southeast 65th Street</td>\n",
       "      <td>12201</td>\n",
       "      <td>NaN</td>\n",
       "      <td>Bellevue</td>\n",
       "      <td>King County</td>\n",
       "      <td>Washington</td>\n",
       "      <td>Bellevue</td>\n",
       "    </tr>\n",
       "  </tbody>\n",
       "</table>\n",
       "<p>5 rows × 41 columns</p>\n",
       "</div>"
      ],
      "text/plain": [
       "   Unnamed: 0          id       date   price  bedrooms  bathrooms  \\\n",
       "0       16768  5561000190 2014-05-02  437500         3       2.25   \n",
       "1        9596   472000620 2014-05-02  790000         3       2.50   \n",
       "2        9587  1024069009 2014-05-02  675000         5       2.50   \n",
       "3       20602  7853361370 2014-05-02  555000         4       2.50   \n",
       "4       11577  5056500260 2014-05-02  440000         4       2.25   \n",
       "\n",
       "   sqft_living  sqft_lot  floors  waterfront  ...  price_suggestion  \\\n",
       "0         1970     35100    2.00           0  ...        1944210.49   \n",
       "1         2600      4750    1.00           0  ...         614705.88   \n",
       "2         2820     67518    2.00           0  ...        7629236.56   \n",
       "3         3310      6500    2.00           0  ...         560243.14   \n",
       "4         2160      8119    1.00           0  ...         551499.46   \n",
       "\n",
       "      profit  profitable_purchase                      road  house_number  \\\n",
       "0 1506710.49          high profit    Southeast 154th Street         26069   \n",
       "1 -175294.12            prejudice     34th Avenue Northwest          7506   \n",
       "2 6954236.56          high profit        Southeast 32nd Way         23601   \n",
       "3    5243.14           low profit  Southeast Terrace Street         35246   \n",
       "4  111499.46        medium profit     Southeast 65th Street         12201   \n",
       "\n",
       "   neighbourhood      city       county       state  primary_city  \n",
       "0            NaN       NaN  King County  Washington      Issaquah  \n",
       "1    Sunset Hill   Seattle  King County  Washington       Seattle  \n",
       "2            NaN       NaN  King County  Washington      Issaquah  \n",
       "3            NaN       NaN  King County  Washington    Snoqualmie  \n",
       "4            NaN  Bellevue  King County  Washington      Bellevue  \n",
       "\n",
       "[5 rows x 41 columns]"
      ]
     },
     "execution_count": 44,
     "metadata": {},
     "output_type": "execute_result"
    }
   ],
   "source": [
    "df3 = pd.merge(df3, df_zipcode[['zipcode', 'primary_city']], on = 'zipcode', how='left')\n",
    "df3.head()"
   ]
  },
  {
   "cell_type": "code",
   "execution_count": 45,
   "id": "3e591f55",
   "metadata": {
    "ExecuteTime": {
     "end_time": "2021-08-23T23:29:21.674021Z",
     "start_time": "2021-08-23T23:29:20.848615Z"
    },
    "hidden": true
   },
   "outputs": [],
   "source": [
    "df3['city'] = df3.apply(lambda x: x['primary_city'] if pd.isnull(x['city']) else x['city'], axis=1)"
   ]
  },
  {
   "cell_type": "markdown",
   "id": "2c8fed50",
   "metadata": {
    "ExecuteTime": {
     "end_time": "2021-08-23T13:19:30.042963Z",
     "start_time": "2021-08-23T13:19:30.038101Z"
    },
    "heading_collapsed": true,
    "hidden": true
   },
   "source": [
    "#### House Number"
   ]
  },
  {
   "cell_type": "code",
   "execution_count": 46,
   "id": "a68cf354",
   "metadata": {
    "ExecuteTime": {
     "end_time": "2021-08-23T23:29:21.704297Z",
     "start_time": "2021-08-23T23:29:21.676273Z"
    },
    "hidden": true
   },
   "outputs": [
    {
     "data": {
      "text/plain": [
       "neighbourhood    14049\n",
       "Unnamed: 0           0\n",
       "decision             0\n",
       "level                0\n",
       "year                 0\n",
       "dtype: int64"
      ]
     },
     "execution_count": 46,
     "metadata": {},
     "output_type": "execute_result"
    }
   ],
   "source": [
    "# We will fill the missing values with w/n for without number\n",
    "df3['house_number'].fillna('w/n', inplace=True)\n",
    "\n",
    "df3.isna().sum().sort_values(ascending = False)[:5]"
   ]
  },
  {
   "cell_type": "code",
   "execution_count": null,
   "id": "69cc0987",
   "metadata": {
    "hidden": true
   },
   "outputs": [],
   "source": []
  },
  {
   "cell_type": "markdown",
   "id": "971ba6f2",
   "metadata": {
    "heading_collapsed": true,
    "hidden": true
   },
   "source": [
    "## Features Selection"
   ]
  },
  {
   "cell_type": "code",
   "execution_count": 47,
   "id": "f1cd4bea",
   "metadata": {
    "ExecuteTime": {
     "end_time": "2021-08-23T23:29:21.808760Z",
     "start_time": "2021-08-23T23:29:21.706581Z"
    },
    "hidden": true
   },
   "outputs": [
    {
     "data": {
      "text/plain": [
       "Washington    21218\n",
       "Name: state, dtype: int64"
      ]
     },
     "execution_count": 47,
     "metadata": {},
     "output_type": "execute_result"
    }
   ],
   "source": [
    "df3['state'].value_counts()"
   ]
  },
  {
   "cell_type": "code",
   "execution_count": 48,
   "id": "7199fd38",
   "metadata": {
    "ExecuteTime": {
     "end_time": "2021-08-23T23:29:21.909238Z",
     "start_time": "2021-08-23T23:29:21.811664Z"
    },
    "hidden": true
   },
   "outputs": [
    {
     "data": {
      "text/plain": [
       "King County         21201\n",
       "Pierce County          15\n",
       "Snohomish County        2\n",
       "Name: county, dtype: int64"
      ]
     },
     "execution_count": 48,
     "metadata": {},
     "output_type": "execute_result"
    }
   ],
   "source": [
    "df3['county'].value_counts()"
   ]
  },
  {
   "cell_type": "code",
   "execution_count": 49,
   "id": "cf526e84",
   "metadata": {
    "ExecuteTime": {
     "end_time": "2021-08-23T23:29:21.992633Z",
     "start_time": "2021-08-23T23:29:21.911783Z"
    },
    "hidden": true
   },
   "outputs": [
    {
     "data": {
      "text/plain": [
       "Index(['Unnamed: 0', 'id', 'date', 'price', 'bedrooms', 'bathrooms',\n",
       "       'sqft_living', 'sqft_lot', 'floors', 'waterfront', 'view', 'condition',\n",
       "       'grade', 'sqft_above', 'sqft_basement', 'yr_built', 'yr_renovated',\n",
       "       'zipcode', 'lat', 'long', 'sqft_living15', 'sqft_lot15', 'standard',\n",
       "       'level', 'year', 'year_week', 'month', 'day', 'price/ft2',\n",
       "       'median_price/ft2_zipcode', 'decision', 'price_suggestion', 'profit',\n",
       "       'profitable_purchase', 'road', 'house_number', 'neighbourhood', 'city',\n",
       "       'county', 'state', 'primary_city'],\n",
       "      dtype='object')"
      ]
     },
     "execution_count": 49,
     "metadata": {},
     "output_type": "execute_result"
    }
   ],
   "source": [
    "df3.columns"
   ]
  },
  {
   "cell_type": "code",
   "execution_count": 50,
   "id": "5198550d",
   "metadata": {
    "ExecuteTime": {
     "end_time": "2021-08-23T23:29:22.070662Z",
     "start_time": "2021-08-23T23:29:21.995503Z"
    },
    "hidden": true
   },
   "outputs": [],
   "source": [
    "df3 = df3.drop(['Unnamed: 0', 'neighbourhood', 'state', 'primary_city'], axis=1)"
   ]
  },
  {
   "cell_type": "code",
   "execution_count": 51,
   "id": "748bcb8d",
   "metadata": {
    "ExecuteTime": {
     "end_time": "2021-08-23T23:29:23.158088Z",
     "start_time": "2021-08-23T23:29:22.072502Z"
    },
    "hidden": true
   },
   "outputs": [],
   "source": [
    "df3.to_csv(\"houses_sales.csv\")"
   ]
  },
  {
   "cell_type": "markdown",
   "id": "ebd2941a",
   "metadata": {
    "heading_collapsed": true,
    "hidden": true
   },
   "source": [
    "## Outliers"
   ]
  },
  {
   "cell_type": "markdown",
   "id": "8d19bd9b",
   "metadata": {
    "heading_collapsed": true,
    "hidden": true
   },
   "source": [
    "### Checking Outliers"
   ]
  },
  {
   "cell_type": "code",
   "execution_count": 52,
   "id": "4e0403f8",
   "metadata": {
    "ExecuteTime": {
     "end_time": "2021-08-23T23:29:23.173494Z",
     "start_time": "2021-08-23T23:29:23.161532Z"
    },
    "hidden": true
   },
   "outputs": [
    {
     "data": {
      "text/plain": [
       "id                                   int64\n",
       "date                        datetime64[ns]\n",
       "price                                int64\n",
       "bedrooms                             int64\n",
       "bathrooms                          float64\n",
       "sqft_living                          int64\n",
       "sqft_lot                             int64\n",
       "floors                             float64\n",
       "waterfront                           int64\n",
       "view                                 int64\n",
       "condition                            int64\n",
       "grade                                int64\n",
       "sqft_above                           int64\n",
       "sqft_basement                        int64\n",
       "yr_built                             int64\n",
       "yr_renovated                         int64\n",
       "zipcode                              int64\n",
       "lat                                float64\n",
       "long                               float64\n",
       "sqft_living15                        int64\n",
       "sqft_lot15                           int64\n",
       "standard                            object\n",
       "level                                int64\n",
       "year                                 int64\n",
       "year_week                            int64\n",
       "month                                int64\n",
       "day                                  int64\n",
       "price/ft2                          float64\n",
       "median_price/ft2_zipcode           float64\n",
       "decision                             int64\n",
       "price_suggestion                   float64\n",
       "profit                             float64\n",
       "profitable_purchase                 object\n",
       "road                                object\n",
       "house_number                        object\n",
       "city                                object\n",
       "county                              object\n",
       "dtype: object"
      ]
     },
     "execution_count": 52,
     "metadata": {},
     "output_type": "execute_result"
    }
   ],
   "source": [
    "df3.dtypes"
   ]
  },
  {
   "cell_type": "code",
   "execution_count": 53,
   "id": "4b318b88",
   "metadata": {
    "ExecuteTime": {
     "end_time": "2021-08-23T23:29:23.307805Z",
     "start_time": "2021-08-23T23:29:23.176111Z"
    },
    "hidden": true
   },
   "outputs": [],
   "source": [
    "num_attributes = df3.select_dtypes(include = ['int64','float64'])\n",
    "cat_atributes  = df3.select_dtypes(include = ['int64','float64']) "
   ]
  },
  {
   "cell_type": "code",
   "execution_count": 54,
   "id": "674d1b60",
   "metadata": {
    "ExecuteTime": {
     "end_time": "2021-08-23T23:29:23.713872Z",
     "start_time": "2021-08-23T23:29:23.310486Z"
    },
    "hidden": true
   },
   "outputs": [
    {
     "data": {
      "text/html": [
       "<div>\n",
       "<style scoped>\n",
       "    .dataframe tbody tr th:only-of-type {\n",
       "        vertical-align: middle;\n",
       "    }\n",
       "\n",
       "    .dataframe tbody tr th {\n",
       "        vertical-align: top;\n",
       "    }\n",
       "\n",
       "    .dataframe thead th {\n",
       "        text-align: right;\n",
       "    }\n",
       "</style>\n",
       "<table border=\"1\" class=\"dataframe\">\n",
       "  <thead>\n",
       "    <tr style=\"text-align: right;\">\n",
       "      <th></th>\n",
       "      <th>attributes</th>\n",
       "      <th>min</th>\n",
       "      <th>max</th>\n",
       "      <th>range</th>\n",
       "      <th>mean</th>\n",
       "      <th>median</th>\n",
       "      <th>std</th>\n",
       "      <th>skew</th>\n",
       "      <th>kurtosis</th>\n",
       "    </tr>\n",
       "  </thead>\n",
       "  <tbody>\n",
       "    <tr>\n",
       "      <th>0</th>\n",
       "      <td>id</td>\n",
       "      <td>1000102.00</td>\n",
       "      <td>9900000190.00</td>\n",
       "      <td>9899000088.00</td>\n",
       "      <td>4576768698.57</td>\n",
       "      <td>3904921110.00</td>\n",
       "      <td>2875912741.26</td>\n",
       "      <td>0.24</td>\n",
       "      <td>-1.26</td>\n",
       "    </tr>\n",
       "    <tr>\n",
       "      <th>1</th>\n",
       "      <td>price</td>\n",
       "      <td>75000.00</td>\n",
       "      <td>7700000.00</td>\n",
       "      <td>7625000.00</td>\n",
       "      <td>539443.35</td>\n",
       "      <td>450000.00</td>\n",
       "      <td>362679.93</td>\n",
       "      <td>3.83</td>\n",
       "      <td>30.67</td>\n",
       "    </tr>\n",
       "    <tr>\n",
       "      <th>2</th>\n",
       "      <td>bedrooms</td>\n",
       "      <td>0.00</td>\n",
       "      <td>33.00</td>\n",
       "      <td>33.00</td>\n",
       "      <td>3.37</td>\n",
       "      <td>3.00</td>\n",
       "      <td>0.93</td>\n",
       "      <td>2.01</td>\n",
       "      <td>50.21</td>\n",
       "    </tr>\n",
       "    <tr>\n",
       "      <th>3</th>\n",
       "      <td>bathrooms</td>\n",
       "      <td>0.00</td>\n",
       "      <td>8.00</td>\n",
       "      <td>8.00</td>\n",
       "      <td>2.11</td>\n",
       "      <td>2.25</td>\n",
       "      <td>0.77</td>\n",
       "      <td>0.51</td>\n",
       "      <td>1.28</td>\n",
       "    </tr>\n",
       "    <tr>\n",
       "      <th>4</th>\n",
       "      <td>sqft_living</td>\n",
       "      <td>290.00</td>\n",
       "      <td>13540.00</td>\n",
       "      <td>13250.00</td>\n",
       "      <td>2076.05</td>\n",
       "      <td>1910.00</td>\n",
       "      <td>913.81</td>\n",
       "      <td>1.46</td>\n",
       "      <td>5.14</td>\n",
       "    </tr>\n",
       "    <tr>\n",
       "      <th>5</th>\n",
       "      <td>sqft_lot</td>\n",
       "      <td>520.00</td>\n",
       "      <td>1651359.00</td>\n",
       "      <td>1650839.00</td>\n",
       "      <td>14978.03</td>\n",
       "      <td>7604.50</td>\n",
       "      <td>40725.11</td>\n",
       "      <td>13.08</td>\n",
       "      <td>290.97</td>\n",
       "    </tr>\n",
       "    <tr>\n",
       "      <th>6</th>\n",
       "      <td>floors</td>\n",
       "      <td>1.00</td>\n",
       "      <td>3.50</td>\n",
       "      <td>2.50</td>\n",
       "      <td>1.49</td>\n",
       "      <td>1.50</td>\n",
       "      <td>0.54</td>\n",
       "      <td>0.62</td>\n",
       "      <td>-0.47</td>\n",
       "    </tr>\n",
       "    <tr>\n",
       "      <th>7</th>\n",
       "      <td>waterfront</td>\n",
       "      <td>0.00</td>\n",
       "      <td>1.00</td>\n",
       "      <td>1.00</td>\n",
       "      <td>0.01</td>\n",
       "      <td>0.00</td>\n",
       "      <td>0.09</td>\n",
       "      <td>11.53</td>\n",
       "      <td>131.05</td>\n",
       "    </tr>\n",
       "    <tr>\n",
       "      <th>8</th>\n",
       "      <td>view</td>\n",
       "      <td>0.00</td>\n",
       "      <td>4.00</td>\n",
       "      <td>4.00</td>\n",
       "      <td>0.23</td>\n",
       "      <td>0.00</td>\n",
       "      <td>0.77</td>\n",
       "      <td>3.39</td>\n",
       "      <td>10.88</td>\n",
       "    </tr>\n",
       "    <tr>\n",
       "      <th>9</th>\n",
       "      <td>condition</td>\n",
       "      <td>1.00</td>\n",
       "      <td>5.00</td>\n",
       "      <td>4.00</td>\n",
       "      <td>3.41</td>\n",
       "      <td>3.00</td>\n",
       "      <td>0.65</td>\n",
       "      <td>1.03</td>\n",
       "      <td>0.51</td>\n",
       "    </tr>\n",
       "    <tr>\n",
       "      <th>10</th>\n",
       "      <td>grade</td>\n",
       "      <td>1.00</td>\n",
       "      <td>13.00</td>\n",
       "      <td>12.00</td>\n",
       "      <td>7.66</td>\n",
       "      <td>7.00</td>\n",
       "      <td>1.17</td>\n",
       "      <td>0.78</td>\n",
       "      <td>1.21</td>\n",
       "    </tr>\n",
       "    <tr>\n",
       "      <th>11</th>\n",
       "      <td>sqft_above</td>\n",
       "      <td>290.00</td>\n",
       "      <td>9410.00</td>\n",
       "      <td>9120.00</td>\n",
       "      <td>1783.66</td>\n",
       "      <td>1560.00</td>\n",
       "      <td>823.63</td>\n",
       "      <td>1.45</td>\n",
       "      <td>3.41</td>\n",
       "    </tr>\n",
       "    <tr>\n",
       "      <th>12</th>\n",
       "      <td>sqft_basement</td>\n",
       "      <td>0.00</td>\n",
       "      <td>4820.00</td>\n",
       "      <td>4820.00</td>\n",
       "      <td>292.39</td>\n",
       "      <td>0.00</td>\n",
       "      <td>442.51</td>\n",
       "      <td>1.57</td>\n",
       "      <td>2.68</td>\n",
       "    </tr>\n",
       "    <tr>\n",
       "      <th>13</th>\n",
       "      <td>yr_built</td>\n",
       "      <td>1900.00</td>\n",
       "      <td>2015.00</td>\n",
       "      <td>115.00</td>\n",
       "      <td>1970.92</td>\n",
       "      <td>1975.00</td>\n",
       "      <td>29.37</td>\n",
       "      <td>-0.47</td>\n",
       "      <td>-0.66</td>\n",
       "    </tr>\n",
       "    <tr>\n",
       "      <th>14</th>\n",
       "      <td>yr_renovated</td>\n",
       "      <td>0.00</td>\n",
       "      <td>2015.00</td>\n",
       "      <td>2015.00</td>\n",
       "      <td>84.19</td>\n",
       "      <td>0.00</td>\n",
       "      <td>401.19</td>\n",
       "      <td>4.56</td>\n",
       "      <td>18.76</td>\n",
       "    </tr>\n",
       "    <tr>\n",
       "      <th>15</th>\n",
       "      <td>zipcode</td>\n",
       "      <td>98001.00</td>\n",
       "      <td>98199.00</td>\n",
       "      <td>198.00</td>\n",
       "      <td>98078.13</td>\n",
       "      <td>98065.00</td>\n",
       "      <td>53.52</td>\n",
       "      <td>0.40</td>\n",
       "      <td>-0.86</td>\n",
       "    </tr>\n",
       "    <tr>\n",
       "      <th>16</th>\n",
       "      <td>lat</td>\n",
       "      <td>47.16</td>\n",
       "      <td>47.78</td>\n",
       "      <td>0.62</td>\n",
       "      <td>47.56</td>\n",
       "      <td>47.57</td>\n",
       "      <td>0.14</td>\n",
       "      <td>-0.49</td>\n",
       "      <td>-0.68</td>\n",
       "    </tr>\n",
       "    <tr>\n",
       "      <th>17</th>\n",
       "      <td>long</td>\n",
       "      <td>-122.52</td>\n",
       "      <td>-121.31</td>\n",
       "      <td>1.20</td>\n",
       "      <td>-122.21</td>\n",
       "      <td>-122.23</td>\n",
       "      <td>0.14</td>\n",
       "      <td>0.88</td>\n",
       "      <td>1.04</td>\n",
       "    </tr>\n",
       "    <tr>\n",
       "      <th>18</th>\n",
       "      <td>sqft_living15</td>\n",
       "      <td>399.00</td>\n",
       "      <td>6210.00</td>\n",
       "      <td>5811.00</td>\n",
       "      <td>1982.74</td>\n",
       "      <td>1840.00</td>\n",
       "      <td>681.87</td>\n",
       "      <td>1.11</td>\n",
       "      <td>1.61</td>\n",
       "    </tr>\n",
       "    <tr>\n",
       "      <th>19</th>\n",
       "      <td>sqft_lot15</td>\n",
       "      <td>651.00</td>\n",
       "      <td>871200.00</td>\n",
       "      <td>870549.00</td>\n",
       "      <td>12671.83</td>\n",
       "      <td>7620.00</td>\n",
       "      <td>26937.73</td>\n",
       "      <td>9.65</td>\n",
       "      <td>157.43</td>\n",
       "    </tr>\n",
       "    <tr>\n",
       "      <th>20</th>\n",
       "      <td>level</td>\n",
       "      <td>0.00</td>\n",
       "      <td>3.00</td>\n",
       "      <td>3.00</td>\n",
       "      <td>1.51</td>\n",
       "      <td>2.00</td>\n",
       "      <td>1.12</td>\n",
       "      <td>-0.01</td>\n",
       "      <td>-1.36</td>\n",
       "    </tr>\n",
       "    <tr>\n",
       "      <th>21</th>\n",
       "      <td>year</td>\n",
       "      <td>2014.00</td>\n",
       "      <td>2015.00</td>\n",
       "      <td>1.00</td>\n",
       "      <td>2014.33</td>\n",
       "      <td>2014.00</td>\n",
       "      <td>0.47</td>\n",
       "      <td>0.74</td>\n",
       "      <td>-1.45</td>\n",
       "    </tr>\n",
       "    <tr>\n",
       "      <th>22</th>\n",
       "      <td>year_week</td>\n",
       "      <td>1.00</td>\n",
       "      <td>52.00</td>\n",
       "      <td>51.00</td>\n",
       "      <td>26.82</td>\n",
       "      <td>26.00</td>\n",
       "      <td>13.51</td>\n",
       "      <td>0.06</td>\n",
       "      <td>-1.01</td>\n",
       "    </tr>\n",
       "    <tr>\n",
       "      <th>23</th>\n",
       "      <td>month</td>\n",
       "      <td>1.00</td>\n",
       "      <td>12.00</td>\n",
       "      <td>11.00</td>\n",
       "      <td>6.56</td>\n",
       "      <td>6.00</td>\n",
       "      <td>3.12</td>\n",
       "      <td>0.07</td>\n",
       "      <td>-1.01</td>\n",
       "    </tr>\n",
       "    <tr>\n",
       "      <th>24</th>\n",
       "      <td>day</td>\n",
       "      <td>1.00</td>\n",
       "      <td>31.00</td>\n",
       "      <td>30.00</td>\n",
       "      <td>15.69</td>\n",
       "      <td>16.00</td>\n",
       "      <td>8.64</td>\n",
       "      <td>-0.01</td>\n",
       "      <td>-1.20</td>\n",
       "    </tr>\n",
       "    <tr>\n",
       "      <th>25</th>\n",
       "      <td>price/ft2</td>\n",
       "      <td>0.16</td>\n",
       "      <td>2027.21</td>\n",
       "      <td>2027.05</td>\n",
       "      <td>89.25</td>\n",
       "      <td>59.38</td>\n",
       "      <td>94.43</td>\n",
       "      <td>3.16</td>\n",
       "      <td>19.89</td>\n",
       "    </tr>\n",
       "    <tr>\n",
       "      <th>26</th>\n",
       "      <td>median_price/ft2_zipcode</td>\n",
       "      <td>9.70</td>\n",
       "      <td>285.71</td>\n",
       "      <td>276.02</td>\n",
       "      <td>74.23</td>\n",
       "      <td>60.05</td>\n",
       "      <td>52.17</td>\n",
       "      <td>1.59</td>\n",
       "      <td>2.23</td>\n",
       "    </tr>\n",
       "    <tr>\n",
       "      <th>27</th>\n",
       "      <td>decision</td>\n",
       "      <td>0.00</td>\n",
       "      <td>1.00</td>\n",
       "      <td>1.00</td>\n",
       "      <td>0.50</td>\n",
       "      <td>0.00</td>\n",
       "      <td>0.50</td>\n",
       "      <td>0.00</td>\n",
       "      <td>-2.00</td>\n",
       "    </tr>\n",
       "    <tr>\n",
       "      <th>28</th>\n",
       "      <td>price_suggestion</td>\n",
       "      <td>35864.40</td>\n",
       "      <td>79332410.63</td>\n",
       "      <td>79296546.23</td>\n",
       "      <td>761924.42</td>\n",
       "      <td>457564.34</td>\n",
       "      <td>1598786.69</td>\n",
       "      <td>15.44</td>\n",
       "      <td>463.08</td>\n",
       "    </tr>\n",
       "    <tr>\n",
       "      <th>29</th>\n",
       "      <td>profit</td>\n",
       "      <td>-3558470.55</td>\n",
       "      <td>77334410.63</td>\n",
       "      <td>80892881.18</td>\n",
       "      <td>222481.07</td>\n",
       "      <td>-601.00</td>\n",
       "      <td>1557817.94</td>\n",
       "      <td>15.95</td>\n",
       "      <td>485.24</td>\n",
       "    </tr>\n",
       "  </tbody>\n",
       "</table>\n",
       "</div>"
      ],
      "text/plain": [
       "                  attributes         min           max         range  \\\n",
       "0                         id  1000102.00 9900000190.00 9899000088.00   \n",
       "1                      price    75000.00    7700000.00    7625000.00   \n",
       "2                   bedrooms        0.00         33.00         33.00   \n",
       "3                  bathrooms        0.00          8.00          8.00   \n",
       "4                sqft_living      290.00      13540.00      13250.00   \n",
       "5                   sqft_lot      520.00    1651359.00    1650839.00   \n",
       "6                     floors        1.00          3.50          2.50   \n",
       "7                 waterfront        0.00          1.00          1.00   \n",
       "8                       view        0.00          4.00          4.00   \n",
       "9                  condition        1.00          5.00          4.00   \n",
       "10                     grade        1.00         13.00         12.00   \n",
       "11                sqft_above      290.00       9410.00       9120.00   \n",
       "12             sqft_basement        0.00       4820.00       4820.00   \n",
       "13                  yr_built     1900.00       2015.00        115.00   \n",
       "14              yr_renovated        0.00       2015.00       2015.00   \n",
       "15                   zipcode    98001.00      98199.00        198.00   \n",
       "16                       lat       47.16         47.78          0.62   \n",
       "17                      long     -122.52       -121.31          1.20   \n",
       "18             sqft_living15      399.00       6210.00       5811.00   \n",
       "19                sqft_lot15      651.00     871200.00     870549.00   \n",
       "20                     level        0.00          3.00          3.00   \n",
       "21                      year     2014.00       2015.00          1.00   \n",
       "22                 year_week        1.00         52.00         51.00   \n",
       "23                     month        1.00         12.00         11.00   \n",
       "24                       day        1.00         31.00         30.00   \n",
       "25                 price/ft2        0.16       2027.21       2027.05   \n",
       "26  median_price/ft2_zipcode        9.70        285.71        276.02   \n",
       "27                  decision        0.00          1.00          1.00   \n",
       "28          price_suggestion    35864.40   79332410.63   79296546.23   \n",
       "29                    profit -3558470.55   77334410.63   80892881.18   \n",
       "\n",
       "            mean        median           std  skew  kurtosis  \n",
       "0  4576768698.57 3904921110.00 2875912741.26  0.24     -1.26  \n",
       "1      539443.35     450000.00     362679.93  3.83     30.67  \n",
       "2           3.37          3.00          0.93  2.01     50.21  \n",
       "3           2.11          2.25          0.77  0.51      1.28  \n",
       "4        2076.05       1910.00        913.81  1.46      5.14  \n",
       "5       14978.03       7604.50      40725.11 13.08    290.97  \n",
       "6           1.49          1.50          0.54  0.62     -0.47  \n",
       "7           0.01          0.00          0.09 11.53    131.05  \n",
       "8           0.23          0.00          0.77  3.39     10.88  \n",
       "9           3.41          3.00          0.65  1.03      0.51  \n",
       "10          7.66          7.00          1.17  0.78      1.21  \n",
       "11       1783.66       1560.00        823.63  1.45      3.41  \n",
       "12        292.39          0.00        442.51  1.57      2.68  \n",
       "13       1970.92       1975.00         29.37 -0.47     -0.66  \n",
       "14         84.19          0.00        401.19  4.56     18.76  \n",
       "15      98078.13      98065.00         53.52  0.40     -0.86  \n",
       "16         47.56         47.57          0.14 -0.49     -0.68  \n",
       "17       -122.21       -122.23          0.14  0.88      1.04  \n",
       "18       1982.74       1840.00        681.87  1.11      1.61  \n",
       "19      12671.83       7620.00      26937.73  9.65    157.43  \n",
       "20          1.51          2.00          1.12 -0.01     -1.36  \n",
       "21       2014.33       2014.00          0.47  0.74     -1.45  \n",
       "22         26.82         26.00         13.51  0.06     -1.01  \n",
       "23          6.56          6.00          3.12  0.07     -1.01  \n",
       "24         15.69         16.00          8.64 -0.01     -1.20  \n",
       "25         89.25         59.38         94.43  3.16     19.89  \n",
       "26         74.23         60.05         52.17  1.59      2.23  \n",
       "27          0.50          0.00          0.50  0.00     -2.00  \n",
       "28     761924.42     457564.34    1598786.69 15.44    463.08  \n",
       "29     222481.07       -601.00    1557817.94 15.95    485.24  "
      ]
     },
     "execution_count": 54,
     "metadata": {},
     "output_type": "execute_result"
    }
   ],
   "source": [
    "descriptive_statistics(num_attributes)"
   ]
  },
  {
   "cell_type": "markdown",
   "id": "4ad26846",
   "metadata": {
    "hidden": true
   },
   "source": [
    "**Features with high Kurtosis values usually indicates outliers. Thus, we will focus on that data.**"
   ]
  },
  {
   "cell_type": "markdown",
   "id": "dc4689a7",
   "metadata": {
    "ExecuteTime": {
     "end_time": "2021-08-23T18:30:59.211325Z",
     "start_time": "2021-08-23T18:30:59.206897Z"
    },
    "hidden": true
   },
   "source": [
    "#### Bedrooms"
   ]
  },
  {
   "cell_type": "code",
   "execution_count": 55,
   "id": "6087f4e2",
   "metadata": {
    "ExecuteTime": {
     "end_time": "2021-08-23T23:29:23.726827Z",
     "start_time": "2021-08-23T23:29:23.716118Z"
    },
    "hidden": true
   },
   "outputs": [
    {
     "data": {
      "text/plain": [
       "3     9644\n",
       "4     6765\n",
       "2     2721\n",
       "5     1562\n",
       "6      259\n",
       "1      193\n",
       "7       37\n",
       "0       13\n",
       "8       13\n",
       "9        6\n",
       "10       3\n",
       "33       1\n",
       "11       1\n",
       "Name: bedrooms, dtype: int64"
      ]
     },
     "execution_count": 55,
     "metadata": {},
     "output_type": "execute_result"
    }
   ],
   "source": [
    "df3['bedrooms'].value_counts()"
   ]
  },
  {
   "cell_type": "code",
   "execution_count": 56,
   "id": "d009703c",
   "metadata": {
    "ExecuteTime": {
     "end_time": "2021-08-23T23:29:24.536511Z",
     "start_time": "2021-08-23T23:29:23.730196Z"
    },
    "hidden": true
   },
   "outputs": [
    {
     "data": {
      "image/png": "[encoded data removed]",
      "text/plain": [
       "<Figure size 1296x360 with 1 Axes>"
      ]
     },
     "metadata": {},
     "output_type": "display_data"
    }
   ],
   "source": [
    "sns.set(rc = {'figure.figsize':(18,5)})\n",
    "sns.boxplot(df3['bedrooms']);"
   ]
  },
  {
   "cell_type": "code",
   "execution_count": 57,
   "id": "585c5aab",
   "metadata": {
    "ExecuteTime": {
     "end_time": "2021-08-23T23:29:24.577854Z",
     "start_time": "2021-08-23T23:29:24.539954Z"
    },
    "hidden": true
   },
   "outputs": [
    {
     "data": {
      "text/html": [
       "<div>\n",
       "<style scoped>\n",
       "    .dataframe tbody tr th:only-of-type {\n",
       "        vertical-align: middle;\n",
       "    }\n",
       "\n",
       "    .dataframe tbody tr th {\n",
       "        vertical-align: top;\n",
       "    }\n",
       "\n",
       "    .dataframe thead th {\n",
       "        text-align: right;\n",
       "    }\n",
       "</style>\n",
       "<table border=\"1\" class=\"dataframe\">\n",
       "  <thead>\n",
       "    <tr style=\"text-align: right;\">\n",
       "      <th></th>\n",
       "      <th>id</th>\n",
       "      <th>date</th>\n",
       "      <th>price</th>\n",
       "      <th>bedrooms</th>\n",
       "      <th>bathrooms</th>\n",
       "      <th>sqft_living</th>\n",
       "      <th>sqft_lot</th>\n",
       "      <th>floors</th>\n",
       "      <th>waterfront</th>\n",
       "      <th>view</th>\n",
       "      <th>...</th>\n",
       "      <th>price/ft2</th>\n",
       "      <th>median_price/ft2_zipcode</th>\n",
       "      <th>decision</th>\n",
       "      <th>price_suggestion</th>\n",
       "      <th>profit</th>\n",
       "      <th>profitable_purchase</th>\n",
       "      <th>road</th>\n",
       "      <th>house_number</th>\n",
       "      <th>city</th>\n",
       "      <th>county</th>\n",
       "    </tr>\n",
       "  </thead>\n",
       "  <tbody>\n",
       "    <tr>\n",
       "      <th>3519</th>\n",
       "      <td>2402100895</td>\n",
       "      <td>2014-06-25</td>\n",
       "      <td>640000</td>\n",
       "      <td>33</td>\n",
       "      <td>1.75</td>\n",
       "      <td>1620</td>\n",
       "      <td>6000</td>\n",
       "      <td>1.00</td>\n",
       "      <td>0</td>\n",
       "      <td>0</td>\n",
       "      <td>...</td>\n",
       "      <td>106.67</td>\n",
       "      <td>178.73</td>\n",
       "      <td>1</td>\n",
       "      <td>1072380.95</td>\n",
       "      <td>432380.95</td>\n",
       "      <td>high profit</td>\n",
       "      <td>Corliss Avenue North</td>\n",
       "      <td>8028</td>\n",
       "      <td>Seattle</td>\n",
       "      <td>King County</td>\n",
       "    </tr>\n",
       "    <tr>\n",
       "      <th>6884</th>\n",
       "      <td>627300145</td>\n",
       "      <td>2014-08-14</td>\n",
       "      <td>1148000</td>\n",
       "      <td>10</td>\n",
       "      <td>5.25</td>\n",
       "      <td>4590</td>\n",
       "      <td>10920</td>\n",
       "      <td>1.00</td>\n",
       "      <td>0</td>\n",
       "      <td>2</td>\n",
       "      <td>...</td>\n",
       "      <td>105.13</td>\n",
       "      <td>95.00</td>\n",
       "      <td>0</td>\n",
       "      <td>1037385.29</td>\n",
       "      <td>-110614.71</td>\n",
       "      <td>prejudice</td>\n",
       "      <td>Southeast 26th Street</td>\n",
       "      <td>17079</td>\n",
       "      <td>Bellevue</td>\n",
       "      <td>King County</td>\n",
       "    </tr>\n",
       "    <tr>\n",
       "      <th>7277</th>\n",
       "      <td>1773100755</td>\n",
       "      <td>2014-08-21</td>\n",
       "      <td>520000</td>\n",
       "      <td>11</td>\n",
       "      <td>3.00</td>\n",
       "      <td>3000</td>\n",
       "      <td>4960</td>\n",
       "      <td>2.00</td>\n",
       "      <td>0</td>\n",
       "      <td>0</td>\n",
       "      <td>...</td>\n",
       "      <td>104.84</td>\n",
       "      <td>62.70</td>\n",
       "      <td>0</td>\n",
       "      <td>310992.00</td>\n",
       "      <td>-209008.00</td>\n",
       "      <td>prejudice</td>\n",
       "      <td>Delridge Way Southwest</td>\n",
       "      <td>5055</td>\n",
       "      <td>Seattle</td>\n",
       "      <td>King County</td>\n",
       "    </tr>\n",
       "    <tr>\n",
       "      <th>11362</th>\n",
       "      <td>5566100170</td>\n",
       "      <td>2014-10-29</td>\n",
       "      <td>650000</td>\n",
       "      <td>10</td>\n",
       "      <td>2.00</td>\n",
       "      <td>3610</td>\n",
       "      <td>11914</td>\n",
       "      <td>2.00</td>\n",
       "      <td>0</td>\n",
       "      <td>0</td>\n",
       "      <td>...</td>\n",
       "      <td>54.56</td>\n",
       "      <td>67.93</td>\n",
       "      <td>1</td>\n",
       "      <td>809282.49</td>\n",
       "      <td>159282.49</td>\n",
       "      <td>low profit</td>\n",
       "      <td>Southeast 42nd Street</td>\n",
       "      <td>12353</td>\n",
       "      <td>Bellevue</td>\n",
       "      <td>King County</td>\n",
       "    </tr>\n",
       "    <tr>\n",
       "      <th>14181</th>\n",
       "      <td>8812401450</td>\n",
       "      <td>2014-12-29</td>\n",
       "      <td>660000</td>\n",
       "      <td>10</td>\n",
       "      <td>3.00</td>\n",
       "      <td>2920</td>\n",
       "      <td>3745</td>\n",
       "      <td>2.00</td>\n",
       "      <td>0</td>\n",
       "      <td>0</td>\n",
       "      <td>...</td>\n",
       "      <td>176.23</td>\n",
       "      <td>163.92</td>\n",
       "      <td>0</td>\n",
       "      <td>613898.35</td>\n",
       "      <td>-46101.65</td>\n",
       "      <td>prejudice</td>\n",
       "      <td>8th Avenue Northeast</td>\n",
       "      <td>4711</td>\n",
       "      <td>Seattle</td>\n",
       "      <td>King County</td>\n",
       "    </tr>\n",
       "  </tbody>\n",
       "</table>\n",
       "<p>5 rows × 37 columns</p>\n",
       "</div>"
      ],
      "text/plain": [
       "               id       date    price  bedrooms  bathrooms  sqft_living  \\\n",
       "3519   2402100895 2014-06-25   640000        33       1.75         1620   \n",
       "6884    627300145 2014-08-14  1148000        10       5.25         4590   \n",
       "7277   1773100755 2014-08-21   520000        11       3.00         3000   \n",
       "11362  5566100170 2014-10-29   650000        10       2.00         3610   \n",
       "14181  8812401450 2014-12-29   660000        10       3.00         2920   \n",
       "\n",
       "       sqft_lot  floors  waterfront  view  ...  price/ft2  \\\n",
       "3519       6000    1.00           0     0  ...     106.67   \n",
       "6884      10920    1.00           0     2  ...     105.13   \n",
       "7277       4960    2.00           0     0  ...     104.84   \n",
       "11362     11914    2.00           0     0  ...      54.56   \n",
       "14181      3745    2.00           0     0  ...     176.23   \n",
       "\n",
       "       median_price/ft2_zipcode  decision  price_suggestion     profit  \\\n",
       "3519                     178.73         1        1072380.95  432380.95   \n",
       "6884                      95.00         0        1037385.29 -110614.71   \n",
       "7277                      62.70         0         310992.00 -209008.00   \n",
       "11362                     67.93         1         809282.49  159282.49   \n",
       "14181                    163.92         0         613898.35  -46101.65   \n",
       "\n",
       "       profitable_purchase                    road  house_number      city  \\\n",
       "3519           high profit    Corliss Avenue North          8028   Seattle   \n",
       "6884             prejudice   Southeast 26th Street         17079  Bellevue   \n",
       "7277             prejudice  Delridge Way Southwest          5055   Seattle   \n",
       "11362           low profit   Southeast 42nd Street         12353  Bellevue   \n",
       "14181            prejudice    8th Avenue Northeast          4711   Seattle   \n",
       "\n",
       "            county  \n",
       "3519   King County  \n",
       "6884   King County  \n",
       "7277   King County  \n",
       "11362  King County  \n",
       "14181  King County  \n",
       "\n",
       "[5 rows x 37 columns]"
      ]
     },
     "execution_count": 57,
     "metadata": {},
     "output_type": "execute_result"
    }
   ],
   "source": [
    "df3[df3['bedrooms'] >= 10]"
   ]
  },
  {
   "cell_type": "markdown",
   "id": "a5910902",
   "metadata": {
    "hidden": true
   },
   "source": [
    "**Considering that price, number of bathrooms and size of build area are incompatible with the number of bedrooms, we will consider this ad as an outlier to be removed.**  "
   ]
  },
  {
   "cell_type": "markdown",
   "id": "8d0c69d8",
   "metadata": {
    "hidden": true
   },
   "source": [
    "#### Lot size in square feet"
   ]
  },
  {
   "cell_type": "code",
   "execution_count": 58,
   "id": "f7574326",
   "metadata": {
    "ExecuteTime": {
     "end_time": "2021-08-23T23:29:24.961811Z",
     "start_time": "2021-08-23T23:29:24.581083Z"
    },
    "hidden": true
   },
   "outputs": [
    {
     "data": {
      "image/png": "[encoded data removed]",
      "text/plain": [
       "<Figure size 1296x360 with 1 Axes>"
      ]
     },
     "metadata": {},
     "output_type": "display_data"
    }
   ],
   "source": [
    "sns.set(rc={'figure.figsize':(18,5)})\n",
    "sns.boxplot(df3['sqft_lot']);"
   ]
  },
  {
   "cell_type": "code",
   "execution_count": 59,
   "id": "966d150b",
   "metadata": {
    "ExecuteTime": {
     "end_time": "2021-08-23T23:29:25.000130Z",
     "start_time": "2021-08-23T23:29:24.965577Z"
    },
    "hidden": true
   },
   "outputs": [
    {
     "data": {
      "text/html": [
       "<div>\n",
       "<style scoped>\n",
       "    .dataframe tbody tr th:only-of-type {\n",
       "        vertical-align: middle;\n",
       "    }\n",
       "\n",
       "    .dataframe tbody tr th {\n",
       "        vertical-align: top;\n",
       "    }\n",
       "\n",
       "    .dataframe thead th {\n",
       "        text-align: right;\n",
       "    }\n",
       "</style>\n",
       "<table border=\"1\" class=\"dataframe\">\n",
       "  <thead>\n",
       "    <tr style=\"text-align: right;\">\n",
       "      <th></th>\n",
       "      <th>id</th>\n",
       "      <th>date</th>\n",
       "      <th>price</th>\n",
       "      <th>bedrooms</th>\n",
       "      <th>bathrooms</th>\n",
       "      <th>sqft_living</th>\n",
       "      <th>sqft_lot</th>\n",
       "      <th>floors</th>\n",
       "      <th>waterfront</th>\n",
       "      <th>view</th>\n",
       "      <th>...</th>\n",
       "      <th>price/ft2</th>\n",
       "      <th>median_price/ft2_zipcode</th>\n",
       "      <th>decision</th>\n",
       "      <th>price_suggestion</th>\n",
       "      <th>profit</th>\n",
       "      <th>profitable_purchase</th>\n",
       "      <th>road</th>\n",
       "      <th>house_number</th>\n",
       "      <th>city</th>\n",
       "      <th>county</th>\n",
       "    </tr>\n",
       "  </thead>\n",
       "  <tbody>\n",
       "    <tr>\n",
       "      <th>1128</th>\n",
       "      <td>2623069031</td>\n",
       "      <td>2014-05-21</td>\n",
       "      <td>542500</td>\n",
       "      <td>5</td>\n",
       "      <td>3.25</td>\n",
       "      <td>3010</td>\n",
       "      <td>1074218</td>\n",
       "      <td>1.50</td>\n",
       "      <td>0</td>\n",
       "      <td>0</td>\n",
       "      <td>...</td>\n",
       "      <td>0.51</td>\n",
       "      <td>55.39</td>\n",
       "      <td>1</td>\n",
       "      <td>59501592.57</td>\n",
       "      <td>58959092.57</td>\n",
       "      <td>high profit</td>\n",
       "      <td>252nd Avenue Southeast</td>\n",
       "      <td>16206</td>\n",
       "      <td>Issaquah</td>\n",
       "      <td>King County</td>\n",
       "    </tr>\n",
       "    <tr>\n",
       "      <th>5898</th>\n",
       "      <td>3626079040</td>\n",
       "      <td>2014-07-30</td>\n",
       "      <td>790000</td>\n",
       "      <td>2</td>\n",
       "      <td>3.00</td>\n",
       "      <td>2560</td>\n",
       "      <td>982278</td>\n",
       "      <td>1.00</td>\n",
       "      <td>0</td>\n",
       "      <td>0</td>\n",
       "      <td>...</td>\n",
       "      <td>0.80</td>\n",
       "      <td>16.17</td>\n",
       "      <td>1</td>\n",
       "      <td>15884992.68</td>\n",
       "      <td>15094992.68</td>\n",
       "      <td>high profit</td>\n",
       "      <td>Northeast Moss Lake Road</td>\n",
       "      <td>w/n</td>\n",
       "      <td>Carnation</td>\n",
       "      <td>King County</td>\n",
       "    </tr>\n",
       "    <tr>\n",
       "      <th>8192</th>\n",
       "      <td>722069232</td>\n",
       "      <td>2014-09-05</td>\n",
       "      <td>998000</td>\n",
       "      <td>4</td>\n",
       "      <td>3.25</td>\n",
       "      <td>3770</td>\n",
       "      <td>982998</td>\n",
       "      <td>2.00</td>\n",
       "      <td>0</td>\n",
       "      <td>0</td>\n",
       "      <td>...</td>\n",
       "      <td>1.02</td>\n",
       "      <td>35.83</td>\n",
       "      <td>1</td>\n",
       "      <td>35224095.00</td>\n",
       "      <td>34226095.00</td>\n",
       "      <td>high profit</td>\n",
       "      <td>Southeast 209th Place</td>\n",
       "      <td>19115</td>\n",
       "      <td>Renton</td>\n",
       "      <td>King County</td>\n",
       "    </tr>\n",
       "    <tr>\n",
       "      <th>17643</th>\n",
       "      <td>2624089007</td>\n",
       "      <td>2015-03-20</td>\n",
       "      <td>1998000</td>\n",
       "      <td>2</td>\n",
       "      <td>2.50</td>\n",
       "      <td>3900</td>\n",
       "      <td>920423</td>\n",
       "      <td>2.00</td>\n",
       "      <td>0</td>\n",
       "      <td>0</td>\n",
       "      <td>...</td>\n",
       "      <td>2.17</td>\n",
       "      <td>86.19</td>\n",
       "      <td>1</td>\n",
       "      <td>79332410.63</td>\n",
       "      <td>77334410.63</td>\n",
       "      <td>high profit</td>\n",
       "      <td>North Fork Road Southeast</td>\n",
       "      <td>w/n</td>\n",
       "      <td>Snoqualmie</td>\n",
       "      <td>King County</td>\n",
       "    </tr>\n",
       "    <tr>\n",
       "      <th>18100</th>\n",
       "      <td>1020069017</td>\n",
       "      <td>2015-03-27</td>\n",
       "      <td>700000</td>\n",
       "      <td>4</td>\n",
       "      <td>1.00</td>\n",
       "      <td>1300</td>\n",
       "      <td>1651359</td>\n",
       "      <td>1.00</td>\n",
       "      <td>0</td>\n",
       "      <td>3</td>\n",
       "      <td>...</td>\n",
       "      <td>0.42</td>\n",
       "      <td>24.44</td>\n",
       "      <td>1</td>\n",
       "      <td>40351123.41</td>\n",
       "      <td>39651123.41</td>\n",
       "      <td>high profit</td>\n",
       "      <td>236th Avenue Southeast</td>\n",
       "      <td>41226</td>\n",
       "      <td>Enumclaw</td>\n",
       "      <td>King County</td>\n",
       "    </tr>\n",
       "    <tr>\n",
       "      <th>20757</th>\n",
       "      <td>3326079016</td>\n",
       "      <td>2015-05-04</td>\n",
       "      <td>190000</td>\n",
       "      <td>2</td>\n",
       "      <td>1.00</td>\n",
       "      <td>710</td>\n",
       "      <td>1164794</td>\n",
       "      <td>1.00</td>\n",
       "      <td>0</td>\n",
       "      <td>0</td>\n",
       "      <td>...</td>\n",
       "      <td>0.16</td>\n",
       "      <td>16.17</td>\n",
       "      <td>1</td>\n",
       "      <td>15069252.63</td>\n",
       "      <td>14879252.63</td>\n",
       "      <td>high profit</td>\n",
       "      <td>Kelly Road Northeast</td>\n",
       "      <td>10001</td>\n",
       "      <td>Carnation</td>\n",
       "      <td>King County</td>\n",
       "    </tr>\n",
       "  </tbody>\n",
       "</table>\n",
       "<p>6 rows × 37 columns</p>\n",
       "</div>"
      ],
      "text/plain": [
       "               id       date    price  bedrooms  bathrooms  sqft_living  \\\n",
       "1128   2623069031 2014-05-21   542500         5       3.25         3010   \n",
       "5898   3626079040 2014-07-30   790000         2       3.00         2560   \n",
       "8192    722069232 2014-09-05   998000         4       3.25         3770   \n",
       "17643  2624089007 2015-03-20  1998000         2       2.50         3900   \n",
       "18100  1020069017 2015-03-27   700000         4       1.00         1300   \n",
       "20757  3326079016 2015-05-04   190000         2       1.00          710   \n",
       "\n",
       "       sqft_lot  floors  waterfront  view  ...  price/ft2  \\\n",
       "1128    1074218    1.50           0     0  ...       0.51   \n",
       "5898     982278    1.00           0     0  ...       0.80   \n",
       "8192     982998    2.00           0     0  ...       1.02   \n",
       "17643    920423    2.00           0     0  ...       2.17   \n",
       "18100   1651359    1.00           0     3  ...       0.42   \n",
       "20757   1164794    1.00           0     0  ...       0.16   \n",
       "\n",
       "       median_price/ft2_zipcode  decision  price_suggestion      profit  \\\n",
       "1128                      55.39         1       59501592.57 58959092.57   \n",
       "5898                      16.17         1       15884992.68 15094992.68   \n",
       "8192                      35.83         1       35224095.00 34226095.00   \n",
       "17643                     86.19         1       79332410.63 77334410.63   \n",
       "18100                     24.44         1       40351123.41 39651123.41   \n",
       "20757                     16.17         1       15069252.63 14879252.63   \n",
       "\n",
       "       profitable_purchase                       road  house_number  \\\n",
       "1128           high profit     252nd Avenue Southeast         16206   \n",
       "5898           high profit   Northeast Moss Lake Road           w/n   \n",
       "8192           high profit      Southeast 209th Place         19115   \n",
       "17643          high profit  North Fork Road Southeast           w/n   \n",
       "18100          high profit     236th Avenue Southeast         41226   \n",
       "20757          high profit       Kelly Road Northeast         10001   \n",
       "\n",
       "             city       county  \n",
       "1128     Issaquah  King County  \n",
       "5898    Carnation  King County  \n",
       "8192       Renton  King County  \n",
       "17643  Snoqualmie  King County  \n",
       "18100    Enumclaw  King County  \n",
       "20757   Carnation  King County  \n",
       "\n",
       "[6 rows x 37 columns]"
      ]
     },
     "execution_count": 59,
     "metadata": {},
     "output_type": "execute_result"
    }
   ],
   "source": [
    "df3[df3['sqft_lot'] >= 900000]"
   ]
  },
  {
   "cell_type": "markdown",
   "id": "dcbff460",
   "metadata": {
    "hidden": true
   },
   "source": [
    "**We will remove the 3 ads with the biggest sqft_lot.** "
   ]
  },
  {
   "cell_type": "markdown",
   "id": "8966338a",
   "metadata": {
    "heading_collapsed": true,
    "hidden": true
   },
   "source": [
    "### Removing Outliers"
   ]
  },
  {
   "cell_type": "code",
   "execution_count": 60,
   "id": "0ff583f6",
   "metadata": {
    "ExecuteTime": {
     "end_time": "2021-08-23T23:29:25.112022Z",
     "start_time": "2021-08-23T23:29:25.002176Z"
    },
    "hidden": true
   },
   "outputs": [],
   "source": [
    "# acredito que a remoção precisa ser em cada etapa"
   ]
  },
  {
   "cell_type": "code",
   "execution_count": 61,
   "id": "cb0b1084",
   "metadata": {
    "ExecuteTime": {
     "end_time": "2021-08-23T23:29:25.290592Z",
     "start_time": "2021-08-23T23:29:25.115729Z"
    },
    "hidden": true
   },
   "outputs": [
    {
     "name": "stdout",
     "output_type": "stream",
     "text": [
      "<class 'pandas.core.frame.DataFrame'>\n",
      "Int64Index: 21214 entries, 0 to 21217\n",
      "Data columns (total 37 columns):\n",
      " #   Column                    Non-Null Count  Dtype         \n",
      "---  ------                    --------------  -----         \n",
      " 0   id                        21214 non-null  int64         \n",
      " 1   date                      21214 non-null  datetime64[ns]\n",
      " 2   price                     21214 non-null  int64         \n",
      " 3   bedrooms                  21214 non-null  int64         \n",
      " 4   bathrooms                 21214 non-null  float64       \n",
      " 5   sqft_living               21214 non-null  int64         \n",
      " 6   sqft_lot                  21214 non-null  int64         \n",
      " 7   floors                    21214 non-null  float64       \n",
      " 8   waterfront                21214 non-null  int64         \n",
      " 9   view                      21214 non-null  int64         \n",
      " 10  condition                 21214 non-null  int64         \n",
      " 11  grade                     21214 non-null  int64         \n",
      " 12  sqft_above                21214 non-null  int64         \n",
      " 13  sqft_basement             21214 non-null  int64         \n",
      " 14  yr_built                  21214 non-null  int64         \n",
      " 15  yr_renovated              21214 non-null  int64         \n",
      " 16  zipcode                   21214 non-null  int64         \n",
      " 17  lat                       21214 non-null  float64       \n",
      " 18  long                      21214 non-null  float64       \n",
      " 19  sqft_living15             21214 non-null  int64         \n",
      " 20  sqft_lot15                21214 non-null  int64         \n",
      " 21  standard                  21214 non-null  object        \n",
      " 22  level                     21214 non-null  int64         \n",
      " 23  year                      21214 non-null  int64         \n",
      " 24  year_week                 21214 non-null  int64         \n",
      " 25  month                     21214 non-null  int64         \n",
      " 26  day                       21214 non-null  int64         \n",
      " 27  price/ft2                 21214 non-null  float64       \n",
      " 28  median_price/ft2_zipcode  21214 non-null  float64       \n",
      " 29  decision                  21214 non-null  int64         \n",
      " 30  price_suggestion          21214 non-null  float64       \n",
      " 31  profit                    21214 non-null  float64       \n",
      " 32  profitable_purchase       21214 non-null  object        \n",
      " 33  road                      21214 non-null  object        \n",
      " 34  house_number              21214 non-null  object        \n",
      " 35  city                      21214 non-null  object        \n",
      " 36  county                    21214 non-null  object        \n",
      "dtypes: datetime64[ns](1), float64(8), int64(22), object(6)\n",
      "memory usage: 6.2+ MB\n"
     ]
    }
   ],
   "source": [
    "# Removing outliers : Beddrooms\n",
    "df_removed = df3[~(df3['bedrooms'] >= 12)]\n",
    "\n",
    "# Removing outliers : Lot size in square feet\n",
    "df_removed = df_removed[~(df3['sqft_lot'] >= 1000000.00)]\n",
    "\n",
    "df_removed.info()"
   ]
  },
  {
   "cell_type": "code",
   "execution_count": 62,
   "id": "cc57734c",
   "metadata": {
    "ExecuteTime": {
     "end_time": "2021-08-23T23:29:25.312344Z",
     "start_time": "2021-08-23T23:29:25.292727Z"
    },
    "hidden": true
   },
   "outputs": [
    {
     "name": "stdout",
     "output_type": "stream",
     "text": [
      "Ratio of removed outliers:0.02%\n"
     ]
    }
   ],
   "source": [
    "ratio_of_outliers_removed = 100 - (df_removed.shape[0]/df3.shape[0]*100)\n",
    "print(f'Ratio of removed outliers:{round(ratio_of_outliers_removed,2)}%')"
   ]
  },
  {
   "cell_type": "markdown",
   "id": "1e20f736",
   "metadata": {},
   "source": [
    "# Exploratory Data Analysys"
   ]
  },
  {
   "cell_type": "code",
   "execution_count": 63,
   "id": "dab60c55",
   "metadata": {
    "ExecuteTime": {
     "end_time": "2021-08-23T23:29:25.390320Z",
     "start_time": "2021-08-23T23:29:25.315345Z"
    }
   },
   "outputs": [],
   "source": [
    "df4 = df_removed.copy()"
   ]
  },
  {
   "cell_type": "markdown",
   "id": "5fca804c",
   "metadata": {},
   "source": [
    "## Univariate Analysis"
   ]
  },
  {
   "cell_type": "code",
   "execution_count": 65,
   "id": "7b72fb84",
   "metadata": {
    "ExecuteTime": {
     "end_time": "2021-08-23T23:29:25.594737Z",
     "start_time": "2021-08-23T23:29:25.503627Z"
    }
   },
   "outputs": [],
   "source": [
    "num_attributes = df4.select_dtypes(include = ['int64','float64'])\n",
    "cat_attributes = df4.select_dtypes(exclude = ['int64','float64'])\n",
    "\n",
    "num_attributes = num_attributes.drop(columns = ['waterfront','id','decision'])\n",
    "bin_attributes = df4[['waterfront','decision']]"
   ]
  },
  {
   "cell_type": "markdown",
   "id": "24899bca",
   "metadata": {
    "heading_collapsed": true
   },
   "source": [
    "### Response Variable"
   ]
  },
  {
   "cell_type": "code",
   "execution_count": 66,
   "id": "1e8cf9b0",
   "metadata": {
    "ExecuteTime": {
     "end_time": "2021-08-23T23:29:26.644346Z",
     "start_time": "2021-08-23T23:29:25.596929Z"
    },
    "hidden": true
   },
   "outputs": [
    {
     "data": {
      "image/png": "[encoded data removed]",
      "text/plain": [
       "<Figure size 1080x360 with 1 Axes>"
      ]
     },
     "metadata": {},
     "output_type": "display_data"
    }
   ],
   "source": [
    "plt.figure(figsize = (15,5))\n",
    "sns.distplot(df4['price']);"
   ]
  },
  {
   "cell_type": "markdown",
   "id": "84780aaa",
   "metadata": {
    "heading_collapsed": true
   },
   "source": [
    "### Numerical Variable"
   ]
  },
  {
   "cell_type": "code",
   "execution_count": 67,
   "id": "7cbe316a",
   "metadata": {
    "ExecuteTime": {
     "end_time": "2021-08-23T23:29:32.769987Z",
     "start_time": "2021-08-23T23:29:26.646678Z"
    },
    "hidden": true
   },
   "outputs": [
    {
     "data": {
      "image/png": "[encoded data removed]",
      "text/plain": [
       "<Figure size 1080x1080 with 30 Axes>"
      ]
     },
     "metadata": {},
     "output_type": "display_data"
    }
   ],
   "source": [
    "fig = plt.figure(figsize = (15,15))\n",
    "num_attributes.hist(bins = 25, ax = fig.gca() ,grid = False);"
   ]
  },
  {
   "cell_type": "code",
   "execution_count": 68,
   "id": "cdbe45c9",
   "metadata": {
    "ExecuteTime": {
     "end_time": "2021-08-23T23:29:33.048449Z",
     "start_time": "2021-08-23T23:29:32.780230Z"
    },
    "hidden": true
   },
   "outputs": [
    {
     "data": {
      "text/html": [
       "<div>\n",
       "<style scoped>\n",
       "    .dataframe tbody tr th:only-of-type {\n",
       "        vertical-align: middle;\n",
       "    }\n",
       "\n",
       "    .dataframe tbody tr th {\n",
       "        vertical-align: top;\n",
       "    }\n",
       "\n",
       "    .dataframe thead th {\n",
       "        text-align: right;\n",
       "    }\n",
       "</style>\n",
       "<table border=\"1\" class=\"dataframe\">\n",
       "  <thead>\n",
       "    <tr style=\"text-align: right;\">\n",
       "      <th></th>\n",
       "      <th>attributes</th>\n",
       "      <th>min</th>\n",
       "      <th>max</th>\n",
       "      <th>range</th>\n",
       "      <th>mean</th>\n",
       "      <th>median</th>\n",
       "      <th>std</th>\n",
       "      <th>skew</th>\n",
       "      <th>kurtosis</th>\n",
       "    </tr>\n",
       "  </thead>\n",
       "  <tbody>\n",
       "    <tr>\n",
       "      <th>0</th>\n",
       "      <td>price</td>\n",
       "      <td>75000.00</td>\n",
       "      <td>7700000.00</td>\n",
       "      <td>7625000.00</td>\n",
       "      <td>539447.37</td>\n",
       "      <td>450000.00</td>\n",
       "      <td>362703.86</td>\n",
       "      <td>3.83</td>\n",
       "      <td>30.67</td>\n",
       "    </tr>\n",
       "    <tr>\n",
       "      <th>1</th>\n",
       "      <td>bedrooms</td>\n",
       "      <td>0.00</td>\n",
       "      <td>11.00</td>\n",
       "      <td>11.00</td>\n",
       "      <td>3.37</td>\n",
       "      <td>3.00</td>\n",
       "      <td>0.91</td>\n",
       "      <td>0.52</td>\n",
       "      <td>1.87</td>\n",
       "    </tr>\n",
       "    <tr>\n",
       "      <th>2</th>\n",
       "      <td>bathrooms</td>\n",
       "      <td>0.00</td>\n",
       "      <td>8.00</td>\n",
       "      <td>8.00</td>\n",
       "      <td>2.11</td>\n",
       "      <td>2.25</td>\n",
       "      <td>0.77</td>\n",
       "      <td>0.51</td>\n",
       "      <td>1.28</td>\n",
       "    </tr>\n",
       "    <tr>\n",
       "      <th>3</th>\n",
       "      <td>sqft_living</td>\n",
       "      <td>290.00</td>\n",
       "      <td>13540.00</td>\n",
       "      <td>13250.00</td>\n",
       "      <td>2076.13</td>\n",
       "      <td>1910.00</td>\n",
       "      <td>913.80</td>\n",
       "      <td>1.46</td>\n",
       "      <td>5.14</td>\n",
       "    </tr>\n",
       "    <tr>\n",
       "      <th>4</th>\n",
       "      <td>sqft_lot</td>\n",
       "      <td>520.00</td>\n",
       "      <td>982998.00</td>\n",
       "      <td>982478.00</td>\n",
       "      <td>14797.18</td>\n",
       "      <td>7603.50</td>\n",
       "      <td>37648.05</td>\n",
       "      <td>10.30</td>\n",
       "      <td>160.94</td>\n",
       "    </tr>\n",
       "    <tr>\n",
       "      <th>5</th>\n",
       "      <td>floors</td>\n",
       "      <td>1.00</td>\n",
       "      <td>3.50</td>\n",
       "      <td>2.50</td>\n",
       "      <td>1.49</td>\n",
       "      <td>1.50</td>\n",
       "      <td>0.54</td>\n",
       "      <td>0.62</td>\n",
       "      <td>-0.47</td>\n",
       "    </tr>\n",
       "    <tr>\n",
       "      <th>6</th>\n",
       "      <td>view</td>\n",
       "      <td>0.00</td>\n",
       "      <td>4.00</td>\n",
       "      <td>4.00</td>\n",
       "      <td>0.23</td>\n",
       "      <td>0.00</td>\n",
       "      <td>0.77</td>\n",
       "      <td>3.39</td>\n",
       "      <td>10.88</td>\n",
       "    </tr>\n",
       "    <tr>\n",
       "      <th>7</th>\n",
       "      <td>condition</td>\n",
       "      <td>1.00</td>\n",
       "      <td>5.00</td>\n",
       "      <td>4.00</td>\n",
       "      <td>3.41</td>\n",
       "      <td>3.00</td>\n",
       "      <td>0.65</td>\n",
       "      <td>1.03</td>\n",
       "      <td>0.51</td>\n",
       "    </tr>\n",
       "    <tr>\n",
       "      <th>8</th>\n",
       "      <td>grade</td>\n",
       "      <td>1.00</td>\n",
       "      <td>13.00</td>\n",
       "      <td>12.00</td>\n",
       "      <td>7.66</td>\n",
       "      <td>7.00</td>\n",
       "      <td>1.17</td>\n",
       "      <td>0.78</td>\n",
       "      <td>1.21</td>\n",
       "    </tr>\n",
       "    <tr>\n",
       "      <th>9</th>\n",
       "      <td>sqft_above</td>\n",
       "      <td>290.00</td>\n",
       "      <td>9410.00</td>\n",
       "      <td>9120.00</td>\n",
       "      <td>1783.76</td>\n",
       "      <td>1560.00</td>\n",
       "      <td>823.65</td>\n",
       "      <td>1.45</td>\n",
       "      <td>3.41</td>\n",
       "    </tr>\n",
       "    <tr>\n",
       "      <th>10</th>\n",
       "      <td>sqft_basement</td>\n",
       "      <td>0.00</td>\n",
       "      <td>4820.00</td>\n",
       "      <td>4820.00</td>\n",
       "      <td>292.37</td>\n",
       "      <td>0.00</td>\n",
       "      <td>442.51</td>\n",
       "      <td>1.57</td>\n",
       "      <td>2.68</td>\n",
       "    </tr>\n",
       "    <tr>\n",
       "      <th>11</th>\n",
       "      <td>yr_built</td>\n",
       "      <td>1900.00</td>\n",
       "      <td>2015.00</td>\n",
       "      <td>115.00</td>\n",
       "      <td>1970.93</td>\n",
       "      <td>1975.00</td>\n",
       "      <td>29.36</td>\n",
       "      <td>-0.47</td>\n",
       "      <td>-0.66</td>\n",
       "    </tr>\n",
       "    <tr>\n",
       "      <th>12</th>\n",
       "      <td>yr_renovated</td>\n",
       "      <td>0.00</td>\n",
       "      <td>2015.00</td>\n",
       "      <td>2015.00</td>\n",
       "      <td>84.21</td>\n",
       "      <td>0.00</td>\n",
       "      <td>401.23</td>\n",
       "      <td>4.56</td>\n",
       "      <td>18.76</td>\n",
       "    </tr>\n",
       "    <tr>\n",
       "      <th>13</th>\n",
       "      <td>zipcode</td>\n",
       "      <td>98001.00</td>\n",
       "      <td>98199.00</td>\n",
       "      <td>198.00</td>\n",
       "      <td>98078.14</td>\n",
       "      <td>98065.00</td>\n",
       "      <td>53.52</td>\n",
       "      <td>0.40</td>\n",
       "      <td>-0.86</td>\n",
       "    </tr>\n",
       "    <tr>\n",
       "      <th>14</th>\n",
       "      <td>lat</td>\n",
       "      <td>47.16</td>\n",
       "      <td>47.78</td>\n",
       "      <td>0.62</td>\n",
       "      <td>47.56</td>\n",
       "      <td>47.57</td>\n",
       "      <td>0.14</td>\n",
       "      <td>-0.49</td>\n",
       "      <td>-0.68</td>\n",
       "    </tr>\n",
       "    <tr>\n",
       "      <th>15</th>\n",
       "      <td>long</td>\n",
       "      <td>-122.52</td>\n",
       "      <td>-121.31</td>\n",
       "      <td>1.20</td>\n",
       "      <td>-122.21</td>\n",
       "      <td>-122.23</td>\n",
       "      <td>0.14</td>\n",
       "      <td>0.89</td>\n",
       "      <td>1.04</td>\n",
       "    </tr>\n",
       "    <tr>\n",
       "      <th>16</th>\n",
       "      <td>sqft_living15</td>\n",
       "      <td>399.00</td>\n",
       "      <td>6210.00</td>\n",
       "      <td>5811.00</td>\n",
       "      <td>1982.74</td>\n",
       "      <td>1840.00</td>\n",
       "      <td>681.90</td>\n",
       "      <td>1.11</td>\n",
       "      <td>1.61</td>\n",
       "    </tr>\n",
       "    <tr>\n",
       "      <th>17</th>\n",
       "      <td>sqft_lot15</td>\n",
       "      <td>651.00</td>\n",
       "      <td>871200.00</td>\n",
       "      <td>870549.00</td>\n",
       "      <td>12649.91</td>\n",
       "      <td>7620.00</td>\n",
       "      <td>26787.84</td>\n",
       "      <td>9.64</td>\n",
       "      <td>158.45</td>\n",
       "    </tr>\n",
       "    <tr>\n",
       "      <th>18</th>\n",
       "      <td>level</td>\n",
       "      <td>0.00</td>\n",
       "      <td>3.00</td>\n",
       "      <td>3.00</td>\n",
       "      <td>1.51</td>\n",
       "      <td>2.00</td>\n",
       "      <td>1.12</td>\n",
       "      <td>-0.01</td>\n",
       "      <td>-1.36</td>\n",
       "    </tr>\n",
       "    <tr>\n",
       "      <th>19</th>\n",
       "      <td>year</td>\n",
       "      <td>2014.00</td>\n",
       "      <td>2015.00</td>\n",
       "      <td>1.00</td>\n",
       "      <td>2014.33</td>\n",
       "      <td>2014.00</td>\n",
       "      <td>0.47</td>\n",
       "      <td>0.75</td>\n",
       "      <td>-1.44</td>\n",
       "    </tr>\n",
       "    <tr>\n",
       "      <th>20</th>\n",
       "      <td>year_week</td>\n",
       "      <td>1.00</td>\n",
       "      <td>52.00</td>\n",
       "      <td>51.00</td>\n",
       "      <td>26.82</td>\n",
       "      <td>26.00</td>\n",
       "      <td>13.51</td>\n",
       "      <td>0.06</td>\n",
       "      <td>-1.01</td>\n",
       "    </tr>\n",
       "    <tr>\n",
       "      <th>21</th>\n",
       "      <td>month</td>\n",
       "      <td>1.00</td>\n",
       "      <td>12.00</td>\n",
       "      <td>11.00</td>\n",
       "      <td>6.56</td>\n",
       "      <td>6.00</td>\n",
       "      <td>3.12</td>\n",
       "      <td>0.07</td>\n",
       "      <td>-1.01</td>\n",
       "    </tr>\n",
       "    <tr>\n",
       "      <th>22</th>\n",
       "      <td>day</td>\n",
       "      <td>1.00</td>\n",
       "      <td>31.00</td>\n",
       "      <td>30.00</td>\n",
       "      <td>15.69</td>\n",
       "      <td>16.00</td>\n",
       "      <td>8.64</td>\n",
       "      <td>-0.01</td>\n",
       "      <td>-1.20</td>\n",
       "    </tr>\n",
       "    <tr>\n",
       "      <th>23</th>\n",
       "      <td>price/ft2</td>\n",
       "      <td>0.59</td>\n",
       "      <td>2027.21</td>\n",
       "      <td>2026.62</td>\n",
       "      <td>89.26</td>\n",
       "      <td>59.39</td>\n",
       "      <td>94.43</td>\n",
       "      <td>3.16</td>\n",
       "      <td>19.89</td>\n",
       "    </tr>\n",
       "    <tr>\n",
       "      <th>24</th>\n",
       "      <td>median_price/ft2_zipcode</td>\n",
       "      <td>9.70</td>\n",
       "      <td>285.71</td>\n",
       "      <td>276.02</td>\n",
       "      <td>74.23</td>\n",
       "      <td>60.05</td>\n",
       "      <td>52.17</td>\n",
       "      <td>1.59</td>\n",
       "      <td>2.23</td>\n",
       "    </tr>\n",
       "    <tr>\n",
       "      <th>25</th>\n",
       "      <td>price_suggestion</td>\n",
       "      <td>35864.40</td>\n",
       "      <td>79332410.63</td>\n",
       "      <td>79296546.23</td>\n",
       "      <td>756600.26</td>\n",
       "      <td>457494.73</td>\n",
       "      <td>1519997.74</td>\n",
       "      <td>14.39</td>\n",
       "      <td>440.58</td>\n",
       "    </tr>\n",
       "    <tr>\n",
       "      <th>26</th>\n",
       "      <td>profit</td>\n",
       "      <td>-3558470.55</td>\n",
       "      <td>77334410.63</td>\n",
       "      <td>80892881.18</td>\n",
       "      <td>217152.89</td>\n",
       "      <td>-627.10</td>\n",
       "      <td>1476884.18</td>\n",
       "      <td>14.82</td>\n",
       "      <td>459.35</td>\n",
       "    </tr>\n",
       "  </tbody>\n",
       "</table>\n",
       "</div>"
      ],
      "text/plain": [
       "                  attributes         min         max       range      mean  \\\n",
       "0                      price    75000.00  7700000.00  7625000.00 539447.37   \n",
       "1                   bedrooms        0.00       11.00       11.00      3.37   \n",
       "2                  bathrooms        0.00        8.00        8.00      2.11   \n",
       "3                sqft_living      290.00    13540.00    13250.00   2076.13   \n",
       "4                   sqft_lot      520.00   982998.00   982478.00  14797.18   \n",
       "5                     floors        1.00        3.50        2.50      1.49   \n",
       "6                       view        0.00        4.00        4.00      0.23   \n",
       "7                  condition        1.00        5.00        4.00      3.41   \n",
       "8                      grade        1.00       13.00       12.00      7.66   \n",
       "9                 sqft_above      290.00     9410.00     9120.00   1783.76   \n",
       "10             sqft_basement        0.00     4820.00     4820.00    292.37   \n",
       "11                  yr_built     1900.00     2015.00      115.00   1970.93   \n",
       "12              yr_renovated        0.00     2015.00     2015.00     84.21   \n",
       "13                   zipcode    98001.00    98199.00      198.00  98078.14   \n",
       "14                       lat       47.16       47.78        0.62     47.56   \n",
       "15                      long     -122.52     -121.31        1.20   -122.21   \n",
       "16             sqft_living15      399.00     6210.00     5811.00   1982.74   \n",
       "17                sqft_lot15      651.00   871200.00   870549.00  12649.91   \n",
       "18                     level        0.00        3.00        3.00      1.51   \n",
       "19                      year     2014.00     2015.00        1.00   2014.33   \n",
       "20                 year_week        1.00       52.00       51.00     26.82   \n",
       "21                     month        1.00       12.00       11.00      6.56   \n",
       "22                       day        1.00       31.00       30.00     15.69   \n",
       "23                 price/ft2        0.59     2027.21     2026.62     89.26   \n",
       "24  median_price/ft2_zipcode        9.70      285.71      276.02     74.23   \n",
       "25          price_suggestion    35864.40 79332410.63 79296546.23 756600.26   \n",
       "26                    profit -3558470.55 77334410.63 80892881.18 217152.89   \n",
       "\n",
       "      median        std  skew  kurtosis  \n",
       "0  450000.00  362703.86  3.83     30.67  \n",
       "1       3.00       0.91  0.52      1.87  \n",
       "2       2.25       0.77  0.51      1.28  \n",
       "3    1910.00     913.80  1.46      5.14  \n",
       "4    7603.50   37648.05 10.30    160.94  \n",
       "5       1.50       0.54  0.62     -0.47  \n",
       "6       0.00       0.77  3.39     10.88  \n",
       "7       3.00       0.65  1.03      0.51  \n",
       "8       7.00       1.17  0.78      1.21  \n",
       "9    1560.00     823.65  1.45      3.41  \n",
       "10      0.00     442.51  1.57      2.68  \n",
       "11   1975.00      29.36 -0.47     -0.66  \n",
       "12      0.00     401.23  4.56     18.76  \n",
       "13  98065.00      53.52  0.40     -0.86  \n",
       "14     47.57       0.14 -0.49     -0.68  \n",
       "15   -122.23       0.14  0.89      1.04  \n",
       "16   1840.00     681.90  1.11      1.61  \n",
       "17   7620.00   26787.84  9.64    158.45  \n",
       "18      2.00       1.12 -0.01     -1.36  \n",
       "19   2014.00       0.47  0.75     -1.44  \n",
       "20     26.00      13.51  0.06     -1.01  \n",
       "21      6.00       3.12  0.07     -1.01  \n",
       "22     16.00       8.64 -0.01     -1.20  \n",
       "23     59.39      94.43  3.16     19.89  \n",
       "24     60.05      52.17  1.59      2.23  \n",
       "25 457494.73 1519997.74 14.39    440.58  \n",
       "26   -627.10 1476884.18 14.82    459.35  "
      ]
     },
     "execution_count": 68,
     "metadata": {},
     "output_type": "execute_result"
    }
   ],
   "source": [
    "descriptive_statistics(num_attributes)"
   ]
  },
  {
   "cell_type": "markdown",
   "id": "b6df76fc",
   "metadata": {
    "heading_collapsed": true
   },
   "source": [
    "### Categorical Variable"
   ]
  },
  {
   "cell_type": "code",
   "execution_count": 82,
   "id": "902ac4eb",
   "metadata": {
    "ExecuteTime": {
     "end_time": "2021-08-24T00:33:34.375298Z",
     "start_time": "2021-08-24T00:33:34.353447Z"
    },
    "hidden": true
   },
   "outputs": [
    {
     "data": {
      "text/html": [
       "<div>\n",
       "<style scoped>\n",
       "    .dataframe tbody tr th:only-of-type {\n",
       "        vertical-align: middle;\n",
       "    }\n",
       "\n",
       "    .dataframe tbody tr th {\n",
       "        vertical-align: top;\n",
       "    }\n",
       "\n",
       "    .dataframe thead th {\n",
       "        text-align: right;\n",
       "    }\n",
       "</style>\n",
       "<table border=\"1\" class=\"dataframe\">\n",
       "  <thead>\n",
       "    <tr style=\"text-align: right;\">\n",
       "      <th></th>\n",
       "      <th>date</th>\n",
       "      <th>standard</th>\n",
       "      <th>profitable_purchase</th>\n",
       "      <th>road</th>\n",
       "      <th>house_number</th>\n",
       "      <th>city</th>\n",
       "      <th>county</th>\n",
       "    </tr>\n",
       "  </thead>\n",
       "  <tbody>\n",
       "    <tr>\n",
       "      <th>0</th>\n",
       "      <td>2014-05-02</td>\n",
       "      <td>low standard</td>\n",
       "      <td>high profit</td>\n",
       "      <td>Southeast 154th Street</td>\n",
       "      <td>26069</td>\n",
       "      <td>Issaquah</td>\n",
       "      <td>King County</td>\n",
       "    </tr>\n",
       "    <tr>\n",
       "      <th>1</th>\n",
       "      <td>2014-05-02</td>\n",
       "      <td>high standard</td>\n",
       "      <td>prejudice</td>\n",
       "      <td>34th Avenue Northwest</td>\n",
       "      <td>7506</td>\n",
       "      <td>Seattle</td>\n",
       "      <td>King County</td>\n",
       "    </tr>\n",
       "    <tr>\n",
       "      <th>2</th>\n",
       "      <td>2014-05-02</td>\n",
       "      <td>high standard</td>\n",
       "      <td>high profit</td>\n",
       "      <td>Southeast 32nd Way</td>\n",
       "      <td>23601</td>\n",
       "      <td>Issaquah</td>\n",
       "      <td>King County</td>\n",
       "    </tr>\n",
       "    <tr>\n",
       "      <th>3</th>\n",
       "      <td>2014-05-02</td>\n",
       "      <td>high standard</td>\n",
       "      <td>low profit</td>\n",
       "      <td>Southeast Terrace Street</td>\n",
       "      <td>35246</td>\n",
       "      <td>Snoqualmie</td>\n",
       "      <td>King County</td>\n",
       "    </tr>\n",
       "    <tr>\n",
       "      <th>4</th>\n",
       "      <td>2014-05-02</td>\n",
       "      <td>low standard</td>\n",
       "      <td>medium profit</td>\n",
       "      <td>Southeast 65th Street</td>\n",
       "      <td>12201</td>\n",
       "      <td>Bellevue</td>\n",
       "      <td>King County</td>\n",
       "    </tr>\n",
       "  </tbody>\n",
       "</table>\n",
       "</div>"
      ],
      "text/plain": [
       "        date       standard profitable_purchase                      road  \\\n",
       "0 2014-05-02   low standard         high profit    Southeast 154th Street   \n",
       "1 2014-05-02  high standard           prejudice     34th Avenue Northwest   \n",
       "2 2014-05-02  high standard         high profit        Southeast 32nd Way   \n",
       "3 2014-05-02  high standard          low profit  Southeast Terrace Street   \n",
       "4 2014-05-02   low standard       medium profit     Southeast 65th Street   \n",
       "\n",
       "  house_number        city       county  \n",
       "0        26069    Issaquah  King County  \n",
       "1         7506     Seattle  King County  \n",
       "2        23601    Issaquah  King County  \n",
       "3        35246  Snoqualmie  King County  \n",
       "4        12201    Bellevue  King County  "
      ]
     },
     "execution_count": 82,
     "metadata": {},
     "output_type": "execute_result"
    }
   ],
   "source": [
    "cat_attributes.head()"
   ]
  },
  {
   "cell_type": "markdown",
   "id": "92d5642f",
   "metadata": {},
   "source": [
    "### Binary Variable "
   ]
  },
  {
   "cell_type": "markdown",
   "id": "2dd2d7cb",
   "metadata": {},
   "source": [
    "**Hypothesis 1: Properties with a view of the water are on average 30% more expensive.**\n",
    "\n",
    "**False** Ocean view properties are much more than 30% more expensive."
   ]
  },
  {
   "cell_type": "code",
   "execution_count": 138,
   "id": "547b21e1",
   "metadata": {
    "ExecuteTime": {
     "end_time": "2021-08-24T01:23:45.851988Z",
     "start_time": "2021-08-24T01:23:45.651822Z"
    }
   },
   "outputs": [
    {
     "data": {
      "image/png": "[encoded data removed]",
      "text/plain": [
       "<Figure size 1296x360 with 1 Axes>"
      ]
     },
     "metadata": {},
     "output_type": "display_data"
    }
   ],
   "source": [
    "#Vendas de casas waterfront\n",
    "\n",
    "aux1=df4[['waterfront','price']].groupby('waterfront').mean().reset_index()\n",
    "sns.barplot (x = 'waterfront', y = 'price', data = aux1,palette = 'crest');"
   ]
  },
  {
   "cell_type": "markdown",
   "id": "0b5475f0",
   "metadata": {},
   "source": [
    "**Hypothesis 2: Properties with a construction date less than 1955 are on average 50% cheaper.**\n",
    " "
   ]
  },
  {
   "cell_type": "code",
   "execution_count": 152,
   "id": "254a4585",
   "metadata": {
    "ExecuteTime": {
     "end_time": "2021-08-24T01:34:12.108803Z",
     "start_time": "2021-08-24T01:34:09.839645Z"
    }
   },
   "outputs": [
    {
     "data": {
      "image/png": "[encoded data removed]",
      "text/plain": [
       "<Figure size 1296x360 with 1 Axes>"
      ]
     },
     "metadata": {},
     "output_type": "display_data"
    }
   ],
   "source": [
    "\n",
    "plt.figure(figsize=(18,5))\n",
    "aux1=df4[(df4['yr_built']>=1955)][['yr_built','price']].groupby('yr_built').mean().reset_index()\n",
    "\n",
    "sns.lineplot (x = 'yr_built', y = 'price',hue='yr_built' ,data = aux1,palette = 'crest');\n",
    "plt.xticks ( rotation =90);\n",
    "\n",
    "\n",
    "aux2 = df4 [( df4['yr_built'] < 1955)] [['yr_built','price']].groupby('yr_built').sum().reset_index()\n",
    "sns.lineplot (x = 'yr_built', y = 'price',hue='yr_built', data = aux2,palette = 'crest')\n",
    "plt.xticks ( rotation =90);"
   ]
  },
  {
   "cell_type": "code",
   "execution_count": 139,
   "id": "59836a2c",
   "metadata": {
    "ExecuteTime": {
     "end_time": "2021-08-24T01:23:56.345937Z",
     "start_time": "2021-08-24T01:23:52.114819Z"
    }
   },
   "outputs": [
    {
     "data": {
      "image/png": "[encoded data removed]",
      "text/plain": [
       "<Figure size 1296x360 with 1 Axes>"
      ]
     },
     "metadata": {},
     "output_type": "display_data"
    },
    {
     "data": {
      "image/png": "[encoded data removed]",
      "text/plain": [
       "<Figure size 1296x360 with 1 Axes>"
      ]
     },
     "metadata": {},
     "output_type": "display_data"
    },
    {
     "data": {
      "image/png": "[encoded data removed]",
      "text/plain": [
       "<Figure size 1296x360 with 1 Axes>"
      ]
     },
     "metadata": {},
     "output_type": "display_data"
    }
   ],
   "source": [
    "plt.figure(figsize=(18,5))\n",
    "\n",
    "aux1 = df4 [( df4['yr_built'] >=1955)] [['yr_built','price']].groupby('yr_built').sum().reset_index()\n",
    "sns.barplot (x = 'yr_built', y = 'price', data = aux1,palette = 'crest')\n",
    "\n",
    "aux1.plot()\n",
    "plt.xticks ( rotation =90);\n",
    "\n",
    "\n",
    "aux2 = df4 [( df4['yr_built'] < 1955)] [['yr_built','price']].groupby('yr_built').sum().reset_index()\n",
    "sns.barplot (x = 'yr_built', y = 'price', data = aux2,palette = 'crest')\n",
    "\n",
    "aux2.plot()\n",
    "plt.xticks ( rotation =90);"
   ]
  },
  {
   "cell_type": "markdown",
   "id": "95a59f28",
   "metadata": {},
   "source": [
    "## Multivariate Analysis"
   ]
  },
  {
   "cell_type": "code",
   "execution_count": null,
   "id": "951392b3",
   "metadata": {
    "ExecuteTime": {
     "end_time": "2021-08-23T23:29:33.605365Z",
     "start_time": "2021-08-23T23:27:42.210Z"
    }
   },
   "outputs": [],
   "source": [
    "fig = plt.figure(figsize = (25,15))\n",
    "correlation = num_attributes.corr(method = 'pearson')\n",
    "sns.heatmap(correlation,annot = True , annot_kws = {'fontsize': 14}, cmap='Blues')\n",
    "plt,title('Numerical Correlation',size= 20, color= 'gray')"
   ]
  },
  {
   "cell_type": "code",
   "execution_count": null,
   "id": "33e7d918",
   "metadata": {},
   "outputs": [],
   "source": [
    "          "
   ]
  }
 ],
 "metadata": {
  "celltoolbar": "Initialization Cell",
  "kernelspec": {
   "display_name": "Python 3",
   "language": "python",
   "name": "python3"
  },
  "language_info": {
   "codemirror_mode": {
    "name": "ipython",
    "version": 3
   },
   "file_extension": ".py",
   "mimetype": "text/x-python",
   "name": "python",
   "nbconvert_exporter": "python",
   "pygments_lexer": "ipython3",
   "version": "3.8.0"
  },
  "notify_time": "5",
  "toc": {
   "base_numbering": "0",
   "nav_menu": {},
   "number_sections": true,
   "sideBar": true,
   "skip_h1_title": false,
   "title_cell": "Table of Contents",
   "title_sidebar": "Contents",
   "toc_cell": false,
   "toc_position": {
    "height": "calc(100% - 180px)",
    "left": "10px",
    "top": "150px",
    "width": "246.4px"
   },
   "toc_section_display": true,
   "toc_window_display": false
  }
 },
 "nbformat": 4,
 "nbformat_minor": 5
}
