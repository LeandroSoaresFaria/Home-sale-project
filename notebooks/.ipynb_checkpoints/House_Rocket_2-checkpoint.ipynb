{
 "cells": [
  {
   "cell_type": "markdown",
   "id": "d5b55b10",
   "metadata": {},
   "source": [
    "# Imports"
   ]
  },
  {
   "cell_type": "code",
   "execution_count": 4,
   "id": "eb825981",
   "metadata": {
    "ExecuteTime": {
     "end_time": "2021-06-24T13:31:54.654670Z",
     "start_time": "2021-06-24T13:31:54.646546Z"
    },
    "init_cell": true
   },
   "outputs": [],
   "source": [
    "import pandas as pd\n",
    "import numpy as np\n",
    "from matplotlib import pyplot as plt\n",
    "from matplotlib import gridspec"
   ]
  },
  {
   "cell_type": "markdown",
   "id": "74e66653",
   "metadata": {},
   "source": [
    "## Helper Function"
   ]
  },
  {
   "cell_type": "code",
   "execution_count": 5,
   "id": "45b29776",
   "metadata": {
    "ExecuteTime": {
     "end_time": "2021-06-24T13:31:54.732517Z",
     "start_time": "2021-06-24T13:31:54.657589Z"
    },
    "init_cell": true
   },
   "outputs": [],
   "source": [
    "pd.set_option('display.float_format', lambda x: '%.2f' % x)\n",
    "caminho ='/home/leandro/repos/House_Rocket_repo'"
   ]
  },
  {
   "cell_type": "markdown",
   "id": "05943999",
   "metadata": {},
   "source": [
    "## House Horcket"
   ]
  },
  {
   "cell_type": "markdown",
   "id": "a2962791",
   "metadata": {},
   "source": [
    "## Loading Data"
   ]
  },
  {
   "cell_type": "markdown",
   "id": "ca9ce0b3",
   "metadata": {},
   "source": [
    "## "
   ]
  },
  {
   "cell_type": "markdown",
   "id": "e05ebda3",
   "metadata": {
    "ExecuteTime": {
     "end_time": "2021-06-17T17:15:28.400352Z",
     "start_time": "2021-06-17T17:15:28.397722Z"
    }
   },
   "source": [
    "## "
   ]
  },
  {
   "cell_type": "code",
   "execution_count": 6,
   "id": "33c122b9",
   "metadata": {
    "ExecuteTime": {
     "end_time": "2021-06-24T13:31:54.865360Z",
     "start_time": "2021-06-24T13:31:54.735826Z"
    },
    "init_cell": true
   },
   "outputs": [],
   "source": [
    "\n",
    "data = pd.read_csv(caminho+'/data/raw/kc_house_data.csv')"
   ]
  },
  {
   "cell_type": "code",
   "execution_count": 7,
   "id": "499874ee",
   "metadata": {
    "ExecuteTime": {
     "end_time": "2021-06-24T13:31:55.180431Z",
     "start_time": "2021-06-24T13:31:54.872965Z"
    }
   },
   "outputs": [
    {
     "data": {
      "text/html": [
       "<div>\n",
       "<style scoped>\n",
       "    .dataframe tbody tr th:only-of-type {\n",
       "        vertical-align: middle;\n",
       "    }\n",
       "\n",
       "    .dataframe tbody tr th {\n",
       "        vertical-align: top;\n",
       "    }\n",
       "\n",
       "    .dataframe thead th {\n",
       "        text-align: right;\n",
       "    }\n",
       "</style>\n",
       "<table border=\"1\" class=\"dataframe\">\n",
       "  <thead>\n",
       "    <tr style=\"text-align: right;\">\n",
       "      <th></th>\n",
       "      <th>id</th>\n",
       "      <th>date</th>\n",
       "      <th>price</th>\n",
       "      <th>bedrooms</th>\n",
       "      <th>bathrooms</th>\n",
       "      <th>sqft_living</th>\n",
       "      <th>sqft_lot</th>\n",
       "      <th>floors</th>\n",
       "      <th>waterfront</th>\n",
       "      <th>view</th>\n",
       "      <th>...</th>\n",
       "      <th>grade</th>\n",
       "      <th>sqft_above</th>\n",
       "      <th>sqft_basement</th>\n",
       "      <th>yr_built</th>\n",
       "      <th>yr_renovated</th>\n",
       "      <th>zipcode</th>\n",
       "      <th>lat</th>\n",
       "      <th>long</th>\n",
       "      <th>sqft_living15</th>\n",
       "      <th>sqft_lot15</th>\n",
       "    </tr>\n",
       "  </thead>\n",
       "  <tbody>\n",
       "    <tr>\n",
       "      <th>0</th>\n",
       "      <td>7129300520</td>\n",
       "      <td>20141013T000000</td>\n",
       "      <td>221900.00</td>\n",
       "      <td>3</td>\n",
       "      <td>1.00</td>\n",
       "      <td>1180</td>\n",
       "      <td>5650</td>\n",
       "      <td>1.00</td>\n",
       "      <td>0</td>\n",
       "      <td>0</td>\n",
       "      <td>...</td>\n",
       "      <td>7</td>\n",
       "      <td>1180</td>\n",
       "      <td>0</td>\n",
       "      <td>1955</td>\n",
       "      <td>0</td>\n",
       "      <td>98178</td>\n",
       "      <td>47.51</td>\n",
       "      <td>-122.26</td>\n",
       "      <td>1340</td>\n",
       "      <td>5650</td>\n",
       "    </tr>\n",
       "    <tr>\n",
       "      <th>1</th>\n",
       "      <td>6414100192</td>\n",
       "      <td>20141209T000000</td>\n",
       "      <td>538000.00</td>\n",
       "      <td>3</td>\n",
       "      <td>2.25</td>\n",
       "      <td>2570</td>\n",
       "      <td>7242</td>\n",
       "      <td>2.00</td>\n",
       "      <td>0</td>\n",
       "      <td>0</td>\n",
       "      <td>...</td>\n",
       "      <td>7</td>\n",
       "      <td>2170</td>\n",
       "      <td>400</td>\n",
       "      <td>1951</td>\n",
       "      <td>1991</td>\n",
       "      <td>98125</td>\n",
       "      <td>47.72</td>\n",
       "      <td>-122.32</td>\n",
       "      <td>1690</td>\n",
       "      <td>7639</td>\n",
       "    </tr>\n",
       "    <tr>\n",
       "      <th>2</th>\n",
       "      <td>5631500400</td>\n",
       "      <td>20150225T000000</td>\n",
       "      <td>180000.00</td>\n",
       "      <td>2</td>\n",
       "      <td>1.00</td>\n",
       "      <td>770</td>\n",
       "      <td>10000</td>\n",
       "      <td>1.00</td>\n",
       "      <td>0</td>\n",
       "      <td>0</td>\n",
       "      <td>...</td>\n",
       "      <td>6</td>\n",
       "      <td>770</td>\n",
       "      <td>0</td>\n",
       "      <td>1933</td>\n",
       "      <td>0</td>\n",
       "      <td>98028</td>\n",
       "      <td>47.74</td>\n",
       "      <td>-122.23</td>\n",
       "      <td>2720</td>\n",
       "      <td>8062</td>\n",
       "    </tr>\n",
       "    <tr>\n",
       "      <th>3</th>\n",
       "      <td>2487200875</td>\n",
       "      <td>20141209T000000</td>\n",
       "      <td>604000.00</td>\n",
       "      <td>4</td>\n",
       "      <td>3.00</td>\n",
       "      <td>1960</td>\n",
       "      <td>5000</td>\n",
       "      <td>1.00</td>\n",
       "      <td>0</td>\n",
       "      <td>0</td>\n",
       "      <td>...</td>\n",
       "      <td>7</td>\n",
       "      <td>1050</td>\n",
       "      <td>910</td>\n",
       "      <td>1965</td>\n",
       "      <td>0</td>\n",
       "      <td>98136</td>\n",
       "      <td>47.52</td>\n",
       "      <td>-122.39</td>\n",
       "      <td>1360</td>\n",
       "      <td>5000</td>\n",
       "    </tr>\n",
       "    <tr>\n",
       "      <th>4</th>\n",
       "      <td>1954400510</td>\n",
       "      <td>20150218T000000</td>\n",
       "      <td>510000.00</td>\n",
       "      <td>3</td>\n",
       "      <td>2.00</td>\n",
       "      <td>1680</td>\n",
       "      <td>8080</td>\n",
       "      <td>1.00</td>\n",
       "      <td>0</td>\n",
       "      <td>0</td>\n",
       "      <td>...</td>\n",
       "      <td>8</td>\n",
       "      <td>1680</td>\n",
       "      <td>0</td>\n",
       "      <td>1987</td>\n",
       "      <td>0</td>\n",
       "      <td>98074</td>\n",
       "      <td>47.62</td>\n",
       "      <td>-122.05</td>\n",
       "      <td>1800</td>\n",
       "      <td>7503</td>\n",
       "    </tr>\n",
       "  </tbody>\n",
       "</table>\n",
       "<p>5 rows × 21 columns</p>\n",
       "</div>"
      ],
      "text/plain": [
       "           id             date     price  bedrooms  bathrooms  sqft_living  \\\n",
       "0  7129300520  20141013T000000 221900.00         3       1.00         1180   \n",
       "1  6414100192  20141209T000000 538000.00         3       2.25         2570   \n",
       "2  5631500400  20150225T000000 180000.00         2       1.00          770   \n",
       "3  2487200875  20141209T000000 604000.00         4       3.00         1960   \n",
       "4  1954400510  20150218T000000 510000.00         3       2.00         1680   \n",
       "\n",
       "   sqft_lot  floors  waterfront  view  ...  grade  sqft_above  sqft_basement  \\\n",
       "0      5650    1.00           0     0  ...      7        1180              0   \n",
       "1      7242    2.00           0     0  ...      7        2170            400   \n",
       "2     10000    1.00           0     0  ...      6         770              0   \n",
       "3      5000    1.00           0     0  ...      7        1050            910   \n",
       "4      8080    1.00           0     0  ...      8        1680              0   \n",
       "\n",
       "   yr_built  yr_renovated  zipcode   lat    long  sqft_living15  sqft_lot15  \n",
       "0      1955             0    98178 47.51 -122.26           1340        5650  \n",
       "1      1951          1991    98125 47.72 -122.32           1690        7639  \n",
       "2      1933             0    98028 47.74 -122.23           2720        8062  \n",
       "3      1965             0    98136 47.52 -122.39           1360        5000  \n",
       "4      1987             0    98074 47.62 -122.05           1800        7503  \n",
       "\n",
       "[5 rows x 21 columns]"
      ]
     },
     "execution_count": 7,
     "metadata": {},
     "output_type": "execute_result"
    }
   ],
   "source": [
    "data.head()"
   ]
  },
  {
   "cell_type": "code",
   "execution_count": 8,
   "id": "238f5ec2",
   "metadata": {
    "ExecuteTime": {
     "end_time": "2021-06-24T13:31:55.278198Z",
     "start_time": "2021-06-24T13:31:55.185706Z"
    }
   },
   "outputs": [
    {
     "name": "stdout",
     "output_type": "stream",
     "text": [
      "(13, 21)\n",
      "(199, 21)\n",
      "(2760, 21)\n",
      "(9824, 21)\n"
     ]
    }
   ],
   "source": [
    "#Quantos imoveis existem por número de quartos.\n",
    "print(data[data['bedrooms']== 0].shape)\n",
    "print(data[data['bedrooms']== 1].shape)\n",
    "print(data[data['bedrooms']== 2].shape)\n",
    "print(data[data['bedrooms']== 3].shape)"
   ]
  },
  {
   "cell_type": "code",
   "execution_count": 9,
   "id": "759549ac",
   "metadata": {
    "ExecuteTime": {
     "end_time": "2021-06-24T13:31:55.392560Z",
     "start_time": "2021-06-24T13:31:55.280659Z"
    }
   },
   "outputs": [],
   "source": [
    "df_grouped = data[['id','bedrooms']].groupby('bedrooms')"
   ]
  },
  {
   "cell_type": "code",
   "execution_count": 10,
   "id": "289e9b28",
   "metadata": {
    "ExecuteTime": {
     "end_time": "2021-06-24T13:31:55.494450Z",
     "start_time": "2021-06-24T13:31:55.395461Z"
    }
   },
   "outputs": [
    {
     "name": "stdout",
     "output_type": "stream",
     "text": [
      "number of bedrooms:0\n",
      "(13, 2)\n",
      "\n",
      "number of bedrooms:1\n",
      "(199, 2)\n",
      "\n",
      "number of bedrooms:2\n",
      "(2760, 2)\n",
      "\n",
      "number of bedrooms:3\n",
      "(9824, 2)\n",
      "\n",
      "number of bedrooms:4\n",
      "(6882, 2)\n",
      "\n",
      "number of bedrooms:5\n",
      "(1601, 2)\n",
      "\n",
      "number of bedrooms:6\n",
      "(272, 2)\n",
      "\n",
      "number of bedrooms:7\n",
      "(38, 2)\n",
      "\n",
      "number of bedrooms:8\n",
      "(13, 2)\n",
      "\n",
      "number of bedrooms:9\n",
      "(6, 2)\n",
      "\n",
      "number of bedrooms:10\n",
      "(3, 2)\n",
      "\n",
      "number of bedrooms:11\n",
      "(1, 2)\n",
      "\n",
      "number of bedrooms:33\n",
      "(1, 2)\n",
      "\n"
     ]
    }
   ],
   "source": [
    "for bedrooms, frame in df_grouped:\n",
    "    print('number of bedrooms:{}'.format(bedrooms))\n",
    "    print( frame.shape, end= '\\n\\n')"
   ]
  },
  {
   "cell_type": "markdown",
   "id": "d6a093aa",
   "metadata": {},
   "source": [
    "# Answers for the CEO"
   ]
  },
  {
   "cell_type": "code",
   "execution_count": null,
   "id": "c04506c1",
   "metadata": {
    "ExecuteTime": {
     "end_time": "2021-06-18T12:55:23.673967Z",
     "start_time": "2021-06-18T12:55:23.608357Z"
    }
   },
   "outputs": [],
   "source": []
  },
  {
   "cell_type": "markdown",
   "id": "32a47d94",
   "metadata": {},
   "source": [
    "**What number of properties per year of construction?** \n"
   ]
  },
  {
   "cell_type": "code",
   "execution_count": 11,
   "id": "dac06bfb",
   "metadata": {
    "ExecuteTime": {
     "end_time": "2021-06-24T13:31:55.572541Z",
     "start_time": "2021-06-24T13:31:55.497259Z"
    }
   },
   "outputs": [
    {
     "data": {
      "text/html": [
       "<div>\n",
       "<style scoped>\n",
       "    .dataframe tbody tr th:only-of-type {\n",
       "        vertical-align: middle;\n",
       "    }\n",
       "\n",
       "    .dataframe tbody tr th {\n",
       "        vertical-align: top;\n",
       "    }\n",
       "\n",
       "    .dataframe thead th {\n",
       "        text-align: right;\n",
       "    }\n",
       "</style>\n",
       "<table border=\"1\" class=\"dataframe\">\n",
       "  <thead>\n",
       "    <tr style=\"text-align: right;\">\n",
       "      <th></th>\n",
       "      <th>yr_built</th>\n",
       "      <th>id</th>\n",
       "    </tr>\n",
       "  </thead>\n",
       "  <tbody>\n",
       "    <tr>\n",
       "      <th>0</th>\n",
       "      <td>1900</td>\n",
       "      <td>87</td>\n",
       "    </tr>\n",
       "    <tr>\n",
       "      <th>1</th>\n",
       "      <td>1901</td>\n",
       "      <td>29</td>\n",
       "    </tr>\n",
       "    <tr>\n",
       "      <th>2</th>\n",
       "      <td>1902</td>\n",
       "      <td>27</td>\n",
       "    </tr>\n",
       "    <tr>\n",
       "      <th>3</th>\n",
       "      <td>1903</td>\n",
       "      <td>46</td>\n",
       "    </tr>\n",
       "    <tr>\n",
       "      <th>4</th>\n",
       "      <td>1904</td>\n",
       "      <td>45</td>\n",
       "    </tr>\n",
       "    <tr>\n",
       "      <th>...</th>\n",
       "      <td>...</td>\n",
       "      <td>...</td>\n",
       "    </tr>\n",
       "    <tr>\n",
       "      <th>111</th>\n",
       "      <td>2011</td>\n",
       "      <td>130</td>\n",
       "    </tr>\n",
       "    <tr>\n",
       "      <th>112</th>\n",
       "      <td>2012</td>\n",
       "      <td>170</td>\n",
       "    </tr>\n",
       "    <tr>\n",
       "      <th>113</th>\n",
       "      <td>2013</td>\n",
       "      <td>201</td>\n",
       "    </tr>\n",
       "    <tr>\n",
       "      <th>114</th>\n",
       "      <td>2014</td>\n",
       "      <td>559</td>\n",
       "    </tr>\n",
       "    <tr>\n",
       "      <th>115</th>\n",
       "      <td>2015</td>\n",
       "      <td>38</td>\n",
       "    </tr>\n",
       "  </tbody>\n",
       "</table>\n",
       "<p>116 rows × 2 columns</p>\n",
       "</div>"
      ],
      "text/plain": [
       "     yr_built   id\n",
       "0        1900   87\n",
       "1        1901   29\n",
       "2        1902   27\n",
       "3        1903   46\n",
       "4        1904   45\n",
       "..        ...  ...\n",
       "111      2011  130\n",
       "112      2012  170\n",
       "113      2013  201\n",
       "114      2014  559\n",
       "115      2015   38\n",
       "\n",
       "[116 rows x 2 columns]"
      ]
     },
     "execution_count": 11,
     "metadata": {},
     "output_type": "execute_result"
    }
   ],
   "source": [
    "data[['id','yr_built']].groupby('yr_built').count().reset_index()"
   ]
  },
  {
   "cell_type": "code",
   "execution_count": 12,
   "id": "998d9597",
   "metadata": {
    "ExecuteTime": {
     "end_time": "2021-06-24T13:31:55.654335Z",
     "start_time": "2021-06-24T13:31:55.575882Z"
    }
   },
   "outputs": [
    {
     "data": {
      "text/plain": [
       "1900     87\n",
       "1901     29\n",
       "1902     27\n",
       "1903     46\n",
       "1904     45\n",
       "       ... \n",
       "2011    130\n",
       "2012    170\n",
       "2013    201\n",
       "2014    559\n",
       "2015     38\n",
       "Name: yr_built, Length: 116, dtype: int64"
      ]
     },
     "execution_count": 12,
     "metadata": {},
     "output_type": "execute_result"
    }
   ],
   "source": [
    "data['yr_built'].value_counts().sort_index()"
   ]
  },
  {
   "cell_type": "markdown",
   "id": "29771d44",
   "metadata": {},
   "source": [
    "**What is the smallest number of rooms per year of building construction ?** "
   ]
  },
  {
   "cell_type": "code",
   "execution_count": 13,
   "id": "24cf200c",
   "metadata": {
    "ExecuteTime": {
     "end_time": "2021-06-24T13:31:55.738064Z",
     "start_time": "2021-06-24T13:31:55.657078Z"
    }
   },
   "outputs": [
    {
     "data": {
      "text/html": [
       "<div>\n",
       "<style scoped>\n",
       "    .dataframe tbody tr th:only-of-type {\n",
       "        vertical-align: middle;\n",
       "    }\n",
       "\n",
       "    .dataframe tbody tr th {\n",
       "        vertical-align: top;\n",
       "    }\n",
       "\n",
       "    .dataframe thead th {\n",
       "        text-align: right;\n",
       "    }\n",
       "</style>\n",
       "<table border=\"1\" class=\"dataframe\">\n",
       "  <thead>\n",
       "    <tr style=\"text-align: right;\">\n",
       "      <th></th>\n",
       "      <th>yr_built</th>\n",
       "      <th>bedrooms</th>\n",
       "    </tr>\n",
       "  </thead>\n",
       "  <tbody>\n",
       "    <tr>\n",
       "      <th>0</th>\n",
       "      <td>1900</td>\n",
       "      <td>1</td>\n",
       "    </tr>\n",
       "    <tr>\n",
       "      <th>1</th>\n",
       "      <td>1901</td>\n",
       "      <td>2</td>\n",
       "    </tr>\n",
       "    <tr>\n",
       "      <th>2</th>\n",
       "      <td>1902</td>\n",
       "      <td>2</td>\n",
       "    </tr>\n",
       "    <tr>\n",
       "      <th>3</th>\n",
       "      <td>1903</td>\n",
       "      <td>1</td>\n",
       "    </tr>\n",
       "    <tr>\n",
       "      <th>4</th>\n",
       "      <td>1904</td>\n",
       "      <td>2</td>\n",
       "    </tr>\n",
       "    <tr>\n",
       "      <th>...</th>\n",
       "      <td>...</td>\n",
       "      <td>...</td>\n",
       "    </tr>\n",
       "    <tr>\n",
       "      <th>111</th>\n",
       "      <td>2011</td>\n",
       "      <td>1</td>\n",
       "    </tr>\n",
       "    <tr>\n",
       "      <th>112</th>\n",
       "      <td>2012</td>\n",
       "      <td>2</td>\n",
       "    </tr>\n",
       "    <tr>\n",
       "      <th>113</th>\n",
       "      <td>2013</td>\n",
       "      <td>2</td>\n",
       "    </tr>\n",
       "    <tr>\n",
       "      <th>114</th>\n",
       "      <td>2014</td>\n",
       "      <td>1</td>\n",
       "    </tr>\n",
       "    <tr>\n",
       "      <th>115</th>\n",
       "      <td>2015</td>\n",
       "      <td>1</td>\n",
       "    </tr>\n",
       "  </tbody>\n",
       "</table>\n",
       "<p>116 rows × 2 columns</p>\n",
       "</div>"
      ],
      "text/plain": [
       "     yr_built  bedrooms\n",
       "0        1900         1\n",
       "1        1901         2\n",
       "2        1902         2\n",
       "3        1903         1\n",
       "4        1904         2\n",
       "..        ...       ...\n",
       "111      2011         1\n",
       "112      2012         2\n",
       "113      2013         2\n",
       "114      2014         1\n",
       "115      2015         1\n",
       "\n",
       "[116 rows x 2 columns]"
      ]
     },
     "execution_count": 13,
     "metadata": {},
     "output_type": "execute_result"
    }
   ],
   "source": [
    "data[['bedrooms','yr_built']].groupby('yr_built').min().reset_index()"
   ]
  },
  {
   "cell_type": "markdown",
   "id": "cffd4bc7",
   "metadata": {},
   "source": [
    "**What is the highest purchase price for each room number?**"
   ]
  },
  {
   "cell_type": "code",
   "execution_count": 14,
   "id": "2c78eebe",
   "metadata": {
    "ExecuteTime": {
     "end_time": "2021-06-24T13:31:55.877111Z",
     "start_time": "2021-06-24T13:31:55.739675Z"
    }
   },
   "outputs": [
    {
     "data": {
      "text/html": [
       "<div>\n",
       "<style scoped>\n",
       "    .dataframe tbody tr th:only-of-type {\n",
       "        vertical-align: middle;\n",
       "    }\n",
       "\n",
       "    .dataframe tbody tr th {\n",
       "        vertical-align: top;\n",
       "    }\n",
       "\n",
       "    .dataframe thead th {\n",
       "        text-align: right;\n",
       "    }\n",
       "</style>\n",
       "<table border=\"1\" class=\"dataframe\">\n",
       "  <thead>\n",
       "    <tr style=\"text-align: right;\">\n",
       "      <th></th>\n",
       "      <th>bedrooms</th>\n",
       "      <th>price</th>\n",
       "    </tr>\n",
       "  </thead>\n",
       "  <tbody>\n",
       "    <tr>\n",
       "      <th>0</th>\n",
       "      <td>0</td>\n",
       "      <td>1295650.00</td>\n",
       "    </tr>\n",
       "    <tr>\n",
       "      <th>1</th>\n",
       "      <td>1</td>\n",
       "      <td>1247000.00</td>\n",
       "    </tr>\n",
       "    <tr>\n",
       "      <th>2</th>\n",
       "      <td>2</td>\n",
       "      <td>3278000.00</td>\n",
       "    </tr>\n",
       "    <tr>\n",
       "      <th>3</th>\n",
       "      <td>3</td>\n",
       "      <td>3800000.00</td>\n",
       "    </tr>\n",
       "    <tr>\n",
       "      <th>4</th>\n",
       "      <td>4</td>\n",
       "      <td>4489000.00</td>\n",
       "    </tr>\n",
       "    <tr>\n",
       "      <th>5</th>\n",
       "      <td>5</td>\n",
       "      <td>7062500.00</td>\n",
       "    </tr>\n",
       "    <tr>\n",
       "      <th>6</th>\n",
       "      <td>6</td>\n",
       "      <td>7700000.00</td>\n",
       "    </tr>\n",
       "    <tr>\n",
       "      <th>7</th>\n",
       "      <td>7</td>\n",
       "      <td>3200000.00</td>\n",
       "    </tr>\n",
       "    <tr>\n",
       "      <th>8</th>\n",
       "      <td>8</td>\n",
       "      <td>3300000.00</td>\n",
       "    </tr>\n",
       "    <tr>\n",
       "      <th>9</th>\n",
       "      <td>9</td>\n",
       "      <td>1400000.00</td>\n",
       "    </tr>\n",
       "    <tr>\n",
       "      <th>10</th>\n",
       "      <td>10</td>\n",
       "      <td>1148000.00</td>\n",
       "    </tr>\n",
       "    <tr>\n",
       "      <th>11</th>\n",
       "      <td>11</td>\n",
       "      <td>520000.00</td>\n",
       "    </tr>\n",
       "    <tr>\n",
       "      <th>12</th>\n",
       "      <td>33</td>\n",
       "      <td>640000.00</td>\n",
       "    </tr>\n",
       "  </tbody>\n",
       "</table>\n",
       "</div>"
      ],
      "text/plain": [
       "    bedrooms      price\n",
       "0          0 1295650.00\n",
       "1          1 1247000.00\n",
       "2          2 3278000.00\n",
       "3          3 3800000.00\n",
       "4          4 4489000.00\n",
       "5          5 7062500.00\n",
       "6          6 7700000.00\n",
       "7          7 3200000.00\n",
       "8          8 3300000.00\n",
       "9          9 1400000.00\n",
       "10        10 1148000.00\n",
       "11        11  520000.00\n",
       "12        33  640000.00"
      ]
     },
     "execution_count": 14,
     "metadata": {},
     "output_type": "execute_result"
    }
   ],
   "source": [
    "data[['bedrooms','price']].groupby('bedrooms').max().reset_index()"
   ]
  },
  {
   "cell_type": "markdown",
   "id": "909d5250",
   "metadata": {},
   "source": [
    "**What is the sum of all purchase prices by number of rooms?**"
   ]
  },
  {
   "cell_type": "code",
   "execution_count": 15,
   "id": "b3fe1914",
   "metadata": {
    "ExecuteTime": {
     "end_time": "2021-06-24T13:31:55.925498Z",
     "start_time": "2021-06-24T13:31:55.880748Z"
    }
   },
   "outputs": [
    {
     "data": {
      "text/html": [
       "<div>\n",
       "<style scoped>\n",
       "    .dataframe tbody tr th:only-of-type {\n",
       "        vertical-align: middle;\n",
       "    }\n",
       "\n",
       "    .dataframe tbody tr th {\n",
       "        vertical-align: top;\n",
       "    }\n",
       "\n",
       "    .dataframe thead th {\n",
       "        text-align: right;\n",
       "    }\n",
       "</style>\n",
       "<table border=\"1\" class=\"dataframe\">\n",
       "  <thead>\n",
       "    <tr style=\"text-align: right;\">\n",
       "      <th></th>\n",
       "      <th>bedrooms</th>\n",
       "      <th>price</th>\n",
       "    </tr>\n",
       "  </thead>\n",
       "  <tbody>\n",
       "    <tr>\n",
       "      <th>0</th>\n",
       "      <td>0</td>\n",
       "      <td>5323550.00</td>\n",
       "    </tr>\n",
       "    <tr>\n",
       "      <th>1</th>\n",
       "      <td>1</td>\n",
       "      <td>63210934.00</td>\n",
       "    </tr>\n",
       "    <tr>\n",
       "      <th>2</th>\n",
       "      <td>2</td>\n",
       "      <td>1107788602.00</td>\n",
       "    </tr>\n",
       "    <tr>\n",
       "      <th>3</th>\n",
       "      <td>3</td>\n",
       "      <td>4580263939.00</td>\n",
       "    </tr>\n",
       "    <tr>\n",
       "      <th>4</th>\n",
       "      <td>4</td>\n",
       "      <td>4372957028.00</td>\n",
       "    </tr>\n",
       "    <tr>\n",
       "      <th>5</th>\n",
       "      <td>5</td>\n",
       "      <td>1259346326.00</td>\n",
       "    </tr>\n",
       "    <tr>\n",
       "      <th>6</th>\n",
       "      <td>6</td>\n",
       "      <td>224541613.00</td>\n",
       "    </tr>\n",
       "    <tr>\n",
       "      <th>7</th>\n",
       "      <td>7</td>\n",
       "      <td>36145017.00</td>\n",
       "    </tr>\n",
       "    <tr>\n",
       "      <th>8</th>\n",
       "      <td>8</td>\n",
       "      <td>14366000.00</td>\n",
       "    </tr>\n",
       "    <tr>\n",
       "      <th>9</th>\n",
       "      <td>9</td>\n",
       "      <td>5363999.00</td>\n",
       "    </tr>\n",
       "    <tr>\n",
       "      <th>10</th>\n",
       "      <td>10</td>\n",
       "      <td>2458000.00</td>\n",
       "    </tr>\n",
       "    <tr>\n",
       "      <th>11</th>\n",
       "      <td>11</td>\n",
       "      <td>520000.00</td>\n",
       "    </tr>\n",
       "    <tr>\n",
       "      <th>12</th>\n",
       "      <td>33</td>\n",
       "      <td>640000.00</td>\n",
       "    </tr>\n",
       "  </tbody>\n",
       "</table>\n",
       "</div>"
      ],
      "text/plain": [
       "    bedrooms         price\n",
       "0          0    5323550.00\n",
       "1          1   63210934.00\n",
       "2          2 1107788602.00\n",
       "3          3 4580263939.00\n",
       "4          4 4372957028.00\n",
       "5          5 1259346326.00\n",
       "6          6  224541613.00\n",
       "7          7   36145017.00\n",
       "8          8   14366000.00\n",
       "9          9    5363999.00\n",
       "10        10    2458000.00\n",
       "11        11     520000.00\n",
       "12        33     640000.00"
      ]
     },
     "execution_count": 15,
     "metadata": {},
     "output_type": "execute_result"
    }
   ],
   "source": [
    "data[['bedrooms','price']].groupby('bedrooms').sum().reset_index()"
   ]
  },
  {
   "cell_type": "markdown",
   "id": "cd2cfd49",
   "metadata": {
    "ExecuteTime": {
     "end_time": "2021-06-18T13:32:30.818641Z",
     "start_time": "2021-06-18T13:32:30.811173Z"
    }
   },
   "source": [
    "**What is the sum of all purchase prices by number of bedrooms and bathrooms?**"
   ]
  },
  {
   "cell_type": "code",
   "execution_count": 16,
   "id": "681366b6",
   "metadata": {
    "ExecuteTime": {
     "end_time": "2021-06-24T13:31:56.059716Z",
     "start_time": "2021-06-24T13:31:55.929374Z"
    }
   },
   "outputs": [
    {
     "data": {
      "text/html": [
       "<div>\n",
       "<style scoped>\n",
       "    .dataframe tbody tr th:only-of-type {\n",
       "        vertical-align: middle;\n",
       "    }\n",
       "\n",
       "    .dataframe tbody tr th {\n",
       "        vertical-align: top;\n",
       "    }\n",
       "\n",
       "    .dataframe thead th {\n",
       "        text-align: right;\n",
       "    }\n",
       "</style>\n",
       "<table border=\"1\" class=\"dataframe\">\n",
       "  <thead>\n",
       "    <tr style=\"text-align: right;\">\n",
       "      <th></th>\n",
       "      <th>bedrooms</th>\n",
       "      <th>bathrooms</th>\n",
       "      <th>price</th>\n",
       "    </tr>\n",
       "  </thead>\n",
       "  <tbody>\n",
       "    <tr>\n",
       "      <th>0</th>\n",
       "      <td>0</td>\n",
       "      <td>0.00</td>\n",
       "      <td>3642600.00</td>\n",
       "    </tr>\n",
       "    <tr>\n",
       "      <th>1</th>\n",
       "      <td>0</td>\n",
       "      <td>0.75</td>\n",
       "      <td>265000.00</td>\n",
       "    </tr>\n",
       "    <tr>\n",
       "      <th>2</th>\n",
       "      <td>0</td>\n",
       "      <td>1.00</td>\n",
       "      <td>228000.00</td>\n",
       "    </tr>\n",
       "    <tr>\n",
       "      <th>3</th>\n",
       "      <td>0</td>\n",
       "      <td>1.50</td>\n",
       "      <td>288000.00</td>\n",
       "    </tr>\n",
       "    <tr>\n",
       "      <th>4</th>\n",
       "      <td>0</td>\n",
       "      <td>2.50</td>\n",
       "      <td>899950.00</td>\n",
       "    </tr>\n",
       "    <tr>\n",
       "      <th>...</th>\n",
       "      <td>...</td>\n",
       "      <td>...</td>\n",
       "      <td>...</td>\n",
       "    </tr>\n",
       "    <tr>\n",
       "      <th>139</th>\n",
       "      <td>10</td>\n",
       "      <td>2.00</td>\n",
       "      <td>650000.00</td>\n",
       "    </tr>\n",
       "    <tr>\n",
       "      <th>140</th>\n",
       "      <td>10</td>\n",
       "      <td>3.00</td>\n",
       "      <td>660000.00</td>\n",
       "    </tr>\n",
       "    <tr>\n",
       "      <th>141</th>\n",
       "      <td>10</td>\n",
       "      <td>5.25</td>\n",
       "      <td>1148000.00</td>\n",
       "    </tr>\n",
       "    <tr>\n",
       "      <th>142</th>\n",
       "      <td>11</td>\n",
       "      <td>3.00</td>\n",
       "      <td>520000.00</td>\n",
       "    </tr>\n",
       "    <tr>\n",
       "      <th>143</th>\n",
       "      <td>33</td>\n",
       "      <td>1.75</td>\n",
       "      <td>640000.00</td>\n",
       "    </tr>\n",
       "  </tbody>\n",
       "</table>\n",
       "<p>144 rows × 3 columns</p>\n",
       "</div>"
      ],
      "text/plain": [
       "     bedrooms  bathrooms      price\n",
       "0           0       0.00 3642600.00\n",
       "1           0       0.75  265000.00\n",
       "2           0       1.00  228000.00\n",
       "3           0       1.50  288000.00\n",
       "4           0       2.50  899950.00\n",
       "..        ...        ...        ...\n",
       "139        10       2.00  650000.00\n",
       "140        10       3.00  660000.00\n",
       "141        10       5.25 1148000.00\n",
       "142        11       3.00  520000.00\n",
       "143        33       1.75  640000.00\n",
       "\n",
       "[144 rows x 3 columns]"
      ]
     },
     "execution_count": 16,
     "metadata": {},
     "output_type": "execute_result"
    }
   ],
   "source": [
    "data[['price','bedrooms','bathrooms']].groupby(['bedrooms','bathrooms']).sum().reset_index()"
   ]
  },
  {
   "cell_type": "markdown",
   "id": "254c4193",
   "metadata": {},
   "source": [
    "**What average room size in real estate per year of construction?**"
   ]
  },
  {
   "cell_type": "code",
   "execution_count": 17,
   "id": "65a9c53c",
   "metadata": {
    "ExecuteTime": {
     "end_time": "2021-06-24T13:31:56.287717Z",
     "start_time": "2021-06-24T13:31:56.062711Z"
    }
   },
   "outputs": [
    {
     "data": {
      "text/html": [
       "<div>\n",
       "<style scoped>\n",
       "    .dataframe tbody tr th:only-of-type {\n",
       "        vertical-align: middle;\n",
       "    }\n",
       "\n",
       "    .dataframe tbody tr th {\n",
       "        vertical-align: top;\n",
       "    }\n",
       "\n",
       "    .dataframe thead th {\n",
       "        text-align: right;\n",
       "    }\n",
       "</style>\n",
       "<table border=\"1\" class=\"dataframe\">\n",
       "  <thead>\n",
       "    <tr style=\"text-align: right;\">\n",
       "      <th></th>\n",
       "      <th>yr_built</th>\n",
       "      <th>sqft_living</th>\n",
       "    </tr>\n",
       "  </thead>\n",
       "  <tbody>\n",
       "    <tr>\n",
       "      <th>0</th>\n",
       "      <td>1900</td>\n",
       "      <td>1732.01</td>\n",
       "    </tr>\n",
       "    <tr>\n",
       "      <th>1</th>\n",
       "      <td>1901</td>\n",
       "      <td>1763.62</td>\n",
       "    </tr>\n",
       "    <tr>\n",
       "      <th>2</th>\n",
       "      <td>1902</td>\n",
       "      <td>1919.63</td>\n",
       "    </tr>\n",
       "    <tr>\n",
       "      <th>3</th>\n",
       "      <td>1903</td>\n",
       "      <td>1507.74</td>\n",
       "    </tr>\n",
       "    <tr>\n",
       "      <th>4</th>\n",
       "      <td>1904</td>\n",
       "      <td>1603.18</td>\n",
       "    </tr>\n",
       "    <tr>\n",
       "      <th>...</th>\n",
       "      <td>...</td>\n",
       "      <td>...</td>\n",
       "    </tr>\n",
       "    <tr>\n",
       "      <th>111</th>\n",
       "      <td>2011</td>\n",
       "      <td>2313.68</td>\n",
       "    </tr>\n",
       "    <tr>\n",
       "      <th>112</th>\n",
       "      <td>2012</td>\n",
       "      <td>2378.74</td>\n",
       "    </tr>\n",
       "    <tr>\n",
       "      <th>113</th>\n",
       "      <td>2013</td>\n",
       "      <td>2636.59</td>\n",
       "    </tr>\n",
       "    <tr>\n",
       "      <th>114</th>\n",
       "      <td>2014</td>\n",
       "      <td>2615.39</td>\n",
       "    </tr>\n",
       "    <tr>\n",
       "      <th>115</th>\n",
       "      <td>2015</td>\n",
       "      <td>2596.32</td>\n",
       "    </tr>\n",
       "  </tbody>\n",
       "</table>\n",
       "<p>116 rows × 2 columns</p>\n",
       "</div>"
      ],
      "text/plain": [
       "     yr_built  sqft_living\n",
       "0        1900      1732.01\n",
       "1        1901      1763.62\n",
       "2        1902      1919.63\n",
       "3        1903      1507.74\n",
       "4        1904      1603.18\n",
       "..        ...          ...\n",
       "111      2011      2313.68\n",
       "112      2012      2378.74\n",
       "113      2013      2636.59\n",
       "114      2014      2615.39\n",
       "115      2015      2596.32\n",
       "\n",
       "[116 rows x 2 columns]"
      ]
     },
     "execution_count": 17,
     "metadata": {},
     "output_type": "execute_result"
    }
   ],
   "source": [
    "data[['sqft_living','yr_built']].groupby('yr_built').mean().reset_index()"
   ]
  },
  {
   "cell_type": "markdown",
   "id": "e716beed",
   "metadata": {},
   "source": [
    "**What average room size in real estate per year of construction?**\n"
   ]
  },
  {
   "cell_type": "code",
   "execution_count": 18,
   "id": "3c699c2e",
   "metadata": {
    "ExecuteTime": {
     "end_time": "2021-06-24T13:31:56.362824Z",
     "start_time": "2021-06-24T13:31:56.291453Z"
    }
   },
   "outputs": [
    {
     "data": {
      "text/html": [
       "<div>\n",
       "<style scoped>\n",
       "    .dataframe tbody tr th:only-of-type {\n",
       "        vertical-align: middle;\n",
       "    }\n",
       "\n",
       "    .dataframe tbody tr th {\n",
       "        vertical-align: top;\n",
       "    }\n",
       "\n",
       "    .dataframe thead th {\n",
       "        text-align: right;\n",
       "    }\n",
       "</style>\n",
       "<table border=\"1\" class=\"dataframe\">\n",
       "  <thead>\n",
       "    <tr style=\"text-align: right;\">\n",
       "      <th></th>\n",
       "      <th>yr_built</th>\n",
       "      <th>sqft_living</th>\n",
       "    </tr>\n",
       "  </thead>\n",
       "  <tbody>\n",
       "    <tr>\n",
       "      <th>0</th>\n",
       "      <td>1900</td>\n",
       "      <td>1540.00</td>\n",
       "    </tr>\n",
       "    <tr>\n",
       "      <th>1</th>\n",
       "      <td>1901</td>\n",
       "      <td>1610.00</td>\n",
       "    </tr>\n",
       "    <tr>\n",
       "      <th>2</th>\n",
       "      <td>1902</td>\n",
       "      <td>1600.00</td>\n",
       "    </tr>\n",
       "    <tr>\n",
       "      <th>3</th>\n",
       "      <td>1903</td>\n",
       "      <td>1505.00</td>\n",
       "    </tr>\n",
       "    <tr>\n",
       "      <th>4</th>\n",
       "      <td>1904</td>\n",
       "      <td>1280.00</td>\n",
       "    </tr>\n",
       "    <tr>\n",
       "      <th>...</th>\n",
       "      <td>...</td>\n",
       "      <td>...</td>\n",
       "    </tr>\n",
       "    <tr>\n",
       "      <th>111</th>\n",
       "      <td>2011</td>\n",
       "      <td>2270.00</td>\n",
       "    </tr>\n",
       "    <tr>\n",
       "      <th>112</th>\n",
       "      <td>2012</td>\n",
       "      <td>2237.50</td>\n",
       "    </tr>\n",
       "    <tr>\n",
       "      <th>113</th>\n",
       "      <td>2013</td>\n",
       "      <td>2580.00</td>\n",
       "    </tr>\n",
       "    <tr>\n",
       "      <th>114</th>\n",
       "      <td>2014</td>\n",
       "      <td>2650.00</td>\n",
       "    </tr>\n",
       "    <tr>\n",
       "      <th>115</th>\n",
       "      <td>2015</td>\n",
       "      <td>2590.00</td>\n",
       "    </tr>\n",
       "  </tbody>\n",
       "</table>\n",
       "<p>116 rows × 2 columns</p>\n",
       "</div>"
      ],
      "text/plain": [
       "     yr_built  sqft_living\n",
       "0        1900      1540.00\n",
       "1        1901      1610.00\n",
       "2        1902      1600.00\n",
       "3        1903      1505.00\n",
       "4        1904      1280.00\n",
       "..        ...          ...\n",
       "111      2011      2270.00\n",
       "112      2012      2237.50\n",
       "113      2013      2580.00\n",
       "114      2014      2650.00\n",
       "115      2015      2590.00\n",
       "\n",
       "[116 rows x 2 columns]"
      ]
     },
     "execution_count": 18,
     "metadata": {},
     "output_type": "execute_result"
    }
   ],
   "source": [
    "data[['sqft_living','yr_built']].groupby('yr_built').median().reset_index()"
   ]
  },
  {
   "cell_type": "markdown",
   "id": "6663fbb9",
   "metadata": {},
   "source": [
    "**What standard deviation of the room size of the buildings per year of construction?**"
   ]
  },
  {
   "cell_type": "code",
   "execution_count": 19,
   "id": "fada581e",
   "metadata": {
    "ExecuteTime": {
     "end_time": "2021-06-24T13:31:56.595387Z",
     "start_time": "2021-06-24T13:31:56.365775Z"
    }
   },
   "outputs": [
    {
     "data": {
      "text/html": [
       "<div>\n",
       "<style scoped>\n",
       "    .dataframe tbody tr th:only-of-type {\n",
       "        vertical-align: middle;\n",
       "    }\n",
       "\n",
       "    .dataframe tbody tr th {\n",
       "        vertical-align: top;\n",
       "    }\n",
       "\n",
       "    .dataframe thead th {\n",
       "        text-align: right;\n",
       "    }\n",
       "</style>\n",
       "<table border=\"1\" class=\"dataframe\">\n",
       "  <thead>\n",
       "    <tr style=\"text-align: right;\">\n",
       "      <th></th>\n",
       "      <th>yr_built</th>\n",
       "      <th>sqft_living</th>\n",
       "    </tr>\n",
       "  </thead>\n",
       "  <tbody>\n",
       "    <tr>\n",
       "      <th>0</th>\n",
       "      <td>1900</td>\n",
       "      <td>732.94</td>\n",
       "    </tr>\n",
       "    <tr>\n",
       "      <th>1</th>\n",
       "      <td>1901</td>\n",
       "      <td>668.23</td>\n",
       "    </tr>\n",
       "    <tr>\n",
       "      <th>2</th>\n",
       "      <td>1902</td>\n",
       "      <td>878.66</td>\n",
       "    </tr>\n",
       "    <tr>\n",
       "      <th>3</th>\n",
       "      <td>1903</td>\n",
       "      <td>469.72</td>\n",
       "    </tr>\n",
       "    <tr>\n",
       "      <th>4</th>\n",
       "      <td>1904</td>\n",
       "      <td>1076.87</td>\n",
       "    </tr>\n",
       "    <tr>\n",
       "      <th>...</th>\n",
       "      <td>...</td>\n",
       "      <td>...</td>\n",
       "    </tr>\n",
       "    <tr>\n",
       "      <th>111</th>\n",
       "      <td>2011</td>\n",
       "      <td>804.86</td>\n",
       "    </tr>\n",
       "    <tr>\n",
       "      <th>112</th>\n",
       "      <td>2012</td>\n",
       "      <td>771.43</td>\n",
       "    </tr>\n",
       "    <tr>\n",
       "      <th>113</th>\n",
       "      <td>2013</td>\n",
       "      <td>883.50</td>\n",
       "    </tr>\n",
       "    <tr>\n",
       "      <th>114</th>\n",
       "      <td>2014</td>\n",
       "      <td>893.81</td>\n",
       "    </tr>\n",
       "    <tr>\n",
       "      <th>115</th>\n",
       "      <td>2015</td>\n",
       "      <td>1155.61</td>\n",
       "    </tr>\n",
       "  </tbody>\n",
       "</table>\n",
       "<p>116 rows × 2 columns</p>\n",
       "</div>"
      ],
      "text/plain": [
       "     yr_built  sqft_living\n",
       "0        1900       732.94\n",
       "1        1901       668.23\n",
       "2        1902       878.66\n",
       "3        1903       469.72\n",
       "4        1904      1076.87\n",
       "..        ...          ...\n",
       "111      2011       804.86\n",
       "112      2012       771.43\n",
       "113      2013       883.50\n",
       "114      2014       893.81\n",
       "115      2015      1155.61\n",
       "\n",
       "[116 rows x 2 columns]"
      ]
     },
     "execution_count": 19,
     "metadata": {},
     "output_type": "execute_result"
    }
   ],
   "source": [
    "data[['sqft_living','yr_built']].groupby('yr_built').std().reset_index()"
   ]
  },
  {
   "cell_type": "markdown",
   "id": "446a2747",
   "metadata": {},
   "source": [
    "**How to calculate the average growth in property purchase prices per year and day?**"
   ]
  },
  {
   "cell_type": "code",
   "execution_count": 20,
   "id": "187f95e3",
   "metadata": {
    "ExecuteTime": {
     "end_time": "2021-06-24T13:31:57.253014Z",
     "start_time": "2021-06-24T13:31:56.597050Z"
    }
   },
   "outputs": [
    {
     "data": {
      "image/png": "[encoded data removed]",
      "text/plain": [
       "<Figure size 1440x864 with 1 Axes>"
      ]
     },
     "metadata": {
      "needs_background": "light"
     },
     "output_type": "display_data"
    }
   ],
   "source": [
    "# X axis : Year\n",
    "# Y axis : Price sums.\n",
    "#Graphic : Bars\n",
    "\n",
    "#Firt graph\n",
    "\n",
    "data['year'] = pd.to_datetime( data['date']).dt.year\n",
    "by_year = data[['price','year']].groupby('year').sum().reset_index()\n",
    "\n",
    "plt.figure(figsize=(20,12))\n",
    "plt.bar(by_year['year'],by_year['price']);\n",
    "\n"
   ]
  },
  {
   "cell_type": "code",
   "execution_count": 21,
   "id": "773db04b",
   "metadata": {
    "ExecuteTime": {
     "end_time": "2021-06-24T13:31:57.612130Z",
     "start_time": "2021-06-24T13:31:57.255629Z"
    }
   },
   "outputs": [
    {
     "data": {
      "image/png": "[encoded data removed]",
      "text/plain": [
       "<Figure size 1440x864 with 1 Axes>"
      ]
     },
     "metadata": {
      "needs_background": "light"
     },
     "output_type": "display_data"
    }
   ],
   "source": [
    "#Second Graph\n",
    "# X axis : Day\n",
    "# Y axis : Price sums.\n",
    "#Graphic : Lines\n",
    "\n",
    "\n",
    "data['day'] = pd.to_datetime( data['date'])\n",
    "by_day = data[['price','day']].groupby('day').mean().reset_index()\n",
    "\n",
    "plt.figure(figsize=(20,12))\n",
    "plt.plot(by_day['day'],by_day['price']);"
   ]
  },
  {
   "cell_type": "code",
   "execution_count": 22,
   "id": "b4f4a812",
   "metadata": {
    "ExecuteTime": {
     "end_time": "2021-06-24T13:31:58.866984Z",
     "start_time": "2021-06-24T13:31:57.623040Z"
    }
   },
   "outputs": [
    {
     "data": {
      "image/png": "[encoded data removed]",
      "text/plain": [
       "<Figure size 1440x864 with 1 Axes>"
      ]
     },
     "metadata": {
      "needs_background": "light"
     },
     "output_type": "display_data"
    }
   ],
   "source": [
    "#Third Graph\n",
    "# X axis : week\n",
    "# Y axis : Price sums.\n",
    "#Graphic : Lines\n",
    "\n",
    "\n",
    "data['year_week'] = pd.to_datetime( data['date']).dt.strftime('%Y-%U')\n",
    "by_year_week = data[['price','year_week']].groupby('year_week').mean().reset_index()\n",
    "\n",
    "plt.figure(figsize=(20,12))\n",
    "plt.plot(by_year_week['year_week'],by_year_week['price']);\n",
    "\n",
    "plt.xticks(rotation = 60);"
   ]
  },
  {
   "cell_type": "code",
   "execution_count": 23,
   "id": "a6b4a3c1",
   "metadata": {
    "ExecuteTime": {
     "end_time": "2021-06-24T13:32:00.797293Z",
     "start_time": "2021-06-24T13:31:58.873112Z"
    }
   },
   "outputs": [
    {
     "ename": "AttributeError",
     "evalue": "'AxesSubplot' object has no attribute 'xticks'",
     "output_type": "error",
     "traceback": [
      "\u001b[0;31m---------------------------------------------------------------------------\u001b[0m",
      "\u001b[0;31mAttributeError\u001b[0m                            Traceback (most recent call last)",
      "\u001b[0;32m<ipython-input-23-588b205e1e76>\u001b[0m in \u001b[0;36m<module>\u001b[0;34m\u001b[0m\n\u001b[1;32m     41\u001b[0m \u001b[0max3\u001b[0m\u001b[0;34m.\u001b[0m\u001b[0mplot\u001b[0m\u001b[0;34m(\u001b[0m\u001b[0mby_year_week\u001b[0m\u001b[0;34m[\u001b[0m\u001b[0;34m'year_week'\u001b[0m\u001b[0;34m]\u001b[0m\u001b[0;34m,\u001b[0m\u001b[0mby_year_week\u001b[0m\u001b[0;34m[\u001b[0m\u001b[0;34m'price'\u001b[0m\u001b[0;34m]\u001b[0m\u001b[0;34m)\u001b[0m\u001b[0;34m;\u001b[0m\u001b[0;34m\u001b[0m\u001b[0;34m\u001b[0m\u001b[0m\n\u001b[1;32m     42\u001b[0m \u001b[0;34m\u001b[0m\u001b[0m\n\u001b[0;32m---> 43\u001b[0;31m \u001b[0max3\u001b[0m\u001b[0;34m.\u001b[0m\u001b[0mxticks\u001b[0m\u001b[0;34m(\u001b[0m\u001b[0mrotation\u001b[0m\u001b[0;34m=\u001b[0m \u001b[0;36m60\u001b[0m\u001b[0;34m)\u001b[0m\u001b[0;34m;\u001b[0m\u001b[0;34m\u001b[0m\u001b[0;34m\u001b[0m\u001b[0m\n\u001b[0m",
      "\u001b[0;31mAttributeError\u001b[0m: 'AxesSubplot' object has no attribute 'xticks'"
     ]
    },
    {
     "data": {
      "image/png": "[encoded data removed]",
      "text/plain": [
       "<Figure size 1440x864 with 3 Axes>"
      ]
     },
     "metadata": {
      "needs_background": "light"
     },
     "output_type": "display_data"
    },
    {
     "data": {
      "text/plain": [
       "<Figure size 1440x864 with 0 Axes>"
      ]
     },
     "metadata": {},
     "output_type": "display_data"
    },
    {
     "data": {
      "text/plain": [
       "<Figure size 1440x864 with 0 Axes>"
      ]
     },
     "metadata": {},
     "output_type": "display_data"
    }
   ],
   "source": [
    "\n",
    "fig   = plt.figure(figsize = (20,12))\n",
    "specs =gridspec.GridSpec(ncols=2, nrows=2,figure=fig )\n",
    "\n",
    "# X axis : Year\n",
    "# Y axis : Price sums.\n",
    "#Graphic : Bars\n",
    "\n",
    "ax1 = fig.add_subplot(specs[0,:]) # First Row\n",
    "ax2 = fig.add_subplot(specs[1,0]) # First Column - First Column\n",
    "ax3 = fig.add_subplot(specs[1,1]) # second Row - Second Column\n",
    "\n",
    "#Firt graph\n",
    "\n",
    "data['year'] = pd.to_datetime( data['date']).dt.year\n",
    "by_year = data[['price','year']].groupby('year').sum().reset_index()\n",
    "\n",
    "plt.figure(figsize=(20,12))\n",
    "ax1.bar(by_year['year'],by_year['price']);                                      \n",
    "\n",
    "#Second Graph\n",
    "# X axis : Day\n",
    "# Y axis : Price sums.\n",
    "#Graphic : Lines\n",
    "\n",
    "\n",
    "data['day'] = pd.to_datetime( data['date'])\n",
    "by_day = data[['price','day']].groupby('day').mean().reset_index()\n",
    "\n",
    "plt.figure(figsize=(20,12))\n",
    "ax2.plot(by_day['day'],by_day['price']);\n",
    "\n",
    "#Third Graph\n",
    "# X axis : week\n",
    "# Y axis : Price sums.\n",
    "#Graphic : Lines\n",
    "\n",
    "\n",
    "data['year_week'] = pd.to_datetime( data['date']).dt.strftime('%Y-%U')\n",
    "by_year_week = data[['price','year_week']].groupby('year_week').mean().reset_index()\n",
    "\n",
    "ax3.plot(by_year_week['year_week'],by_year_week['price']);\n",
    "\n",
    "ax3.xticks(rotation= 60);"
   ]
  },
  {
   "cell_type": "markdown",
   "id": "01fd05a8",
   "metadata": {},
   "source": [
    "**I would like to look at the map and be able to identify the ones with the highest price.**"
   ]
  },
  {
   "cell_type": "code",
   "execution_count": null,
   "id": "577807cf",
   "metadata": {
    "ExecuteTime": {
     "end_time": "2021-06-24T13:32:00.799490Z",
     "start_time": "2021-06-24T13:31:53.893Z"
    }
   },
   "outputs": [],
   "source": [
    "import plotly.express as px"
   ]
  },
  {
   "cell_type": "code",
   "execution_count": null,
   "id": "4e803190",
   "metadata": {
    "ExecuteTime": {
     "end_time": "2021-06-24T13:32:00.800883Z",
     "start_time": "2021-06-24T13:31:53.896Z"
    }
   },
   "outputs": [],
   "source": [
    "houses = data[['id','lat','long', 'price']]\n",
    "\n",
    "fig = px.scatter_mapbox(houses,lat ='lat',lon = 'long',size = 'price',\n",
    "                        color_continuous_scale = px.colors.cyclical.IceFire,\n",
    "                        size_max = 15,zoom = 10)\n",
    "fig.update_layout(mapbox_style = 'open-street-map')\n",
    "fig.update_layout( height=600 ,margin={'r':0, 't': 0, 'l':0, 'b': 0})\n",
    "fig.show()"
   ]
  },
  {
   "cell_type": "markdown",
   "id": "81950ff4",
   "metadata": {
    "ExecuteTime": {
     "end_time": "2021-06-18T18:35:25.783001Z",
     "start_time": "2021-06-18T18:35:25.778720Z"
    }
   },
   "source": [
    "#  Aula 2|"
   ]
  },
  {
   "cell_type": "markdown",
   "id": "d5f92087",
   "metadata": {},
   "source": [
    "# Perguntas"
   ]
  },
  {
   "cell_type": "markdown",
   "id": "2bb2f5c9",
   "metadata": {},
   "source": [
    "# HOUSE SALES IN KING COUNTY, USA\n",
    "\n",
    "- *COMPANY:* House Rocket.\n",
    "\n",
    "\n",
    "- *BUSINESS MODEL:* Buy houses at a low price and review at the highest price.\n",
    "\n",
    "\n",
    "- *WHAT'S THE CHALLENGE:* Finding good deals within the available portfolio, that is, finding homes with a low price, in a great location and that have a great resale potential for a higher price.\n",
    "\n",
    "\n",
    "- *DATA:* This dataset contains house sale prices for King County, which includes Seattle. It includes homes sold between May 2014 and May 2015.\n",
    "\n",
    "\n",
    "- *SOURCE:* https://www.kaggle.com/harlfoxem/housesalesprediction\n",
    "\n",
    "\n",
    "## CEO'S REQUESTS FOR YOU:\n",
    "\n",
    "### FIRST MEETING REQUESTS:\n",
    "\n",
    "*1.* What is the date of the oldest property in the portfolio?\n",
    "\n",
    "*2.* How many properties have the maximum number of floors?\n",
    "\n",
    "*3.* Create a classification for the properties, separating them into low and high standard, according to price.\n",
    "- Above BRL 540,000 -> high standard\n",
    "- Below BRL 540,000 -> low standard\n",
    "\n",
    "*4.* I would like a report ordered by price and containing the following information:\n",
    "- property id,\n",
    "- date the property became available for purchase,\n",
    "- the number of rooms,\n",
    "- the total size of the terrain,\n",
    "- the price,\n",
    "- the classification of the property (high and low standard)\n",
    "\n",
    "*5.* I would like a Map indicating where the houses are located by geography.\n",
    "\n",
    "### SECOND MEETING REQUESTS:\n",
    "\n",
    "*1.* How many properties per level?\n",
    "- Level 0 -> Price between BRL 0 and BRL 321,950\n",
    "- Level 1 -> Price between BRL 321,950 and BRL 450,000\n",
    "- Level 2 -> Price between BRL 450,000 and BRL 645,000\n",
    "- Level 3 -> Above BRL 645,000\n",
    "\n",
    "*2.* Add the following information to the property:\n",
    "- The name of the street\n",
    "- Property number\n",
    "- The name of the neighborhood\n",
    "- The name of the city\n",
    "- The name of the state\n",
    "\n",
    "*3.* Add the Level of properties on the Map as a Color\n",
    "\n",
    "*4.* Add the Property Price as the point size on the map\n",
    "\n",
    "*5.* Add filter options so I can do my own analysis:\n",
    "- I want to choose to view properties with a water view or not.\n",
    "- I want to filter properties down to a certain price value.\n",
    "\n",
    "*6.* Add filter options in the last dashboard sent: only view value from a date available for purchase.\n",
    "\n",
    "### THIRD MEETING REQUESTS:\n",
    "\n",
    "*1.* What is the number of properties per year of construction?\n",
    "\n",
    "*2.* What is the smallest number of rooms per year of building construction?\n",
    "\n",
    "*3.* What is the highest purchase price for each number of rooms?\n",
    "\n",
    "*4.* What is the sum of all purchase prices for each number of rooms?\n",
    "\n",
    "*5.* What is the sum of all purchase prices by the number of bedrooms and bathrooms?\n",
    "\n",
    "*6.* What is the average room size of the buildings per year of construction?\n",
    "\n",
    "*7.* What is the median room size of the buildings per year of construction?\n",
    "\n",
    "*8.* What is the standard deviation of room size in buildings per year of construction?\n",
    "\n",
    "*9.* How is the average growth in real estate purchase prices, by day and week of the year?\n",
    "\n",
    "*10.* I would like to look at the map and be able to identify the houses with the highest price.\n",
    "\n",
    "\n"
   ]
  },
  {
   "cell_type": "code",
   "execution_count": null,
   "id": "94cc9573",
   "metadata": {
    "ExecuteTime": {
     "end_time": "2021-06-24T13:32:00.802351Z",
     "start_time": "2021-06-24T13:31:53.903Z"
    }
   },
   "outputs": [],
   "source": [
    "#1. How many properties per level?\n",
    "#\n",
    "# Level 0 -> Price between BRL 0 and BRL 321,950\n",
    "#Level 1 -> Price between BRL 321,950 and BRL 450,000\n",
    "#Level 2 -> Price between BRL 450,000 and BRL 645,000\n",
    "#Level 3 -> Above BRL 645,000\n",
    "\n",
    "data['nivel']= 'NA'\n",
    "#data.loc[data[(data['price'] >= 0) & (data['price'] < 321950)],'nivel']= 'nivel_0'\n",
    "#data.loc[data[(data['price'] > 321950) & (data['price'] < 450000) ], 'nivel'] = 'nivel_1'\n",
    "#data.loc[data[(data['price'] > 450000) & (data['price'] < 645000) ], 'nível'] = 'nivel_2'\n",
    "#data.loc[data[(data['price'] > 645000) ], 'nivel'] = 'nivel_3'\n"
   ]
  },
  {
   "cell_type": "code",
   "execution_count": null,
   "id": "d7b5affd",
   "metadata": {
    "ExecuteTime": {
     "end_time": "2021-06-24T13:32:00.803831Z",
     "start_time": "2021-06-24T13:31:53.907Z"
    }
   },
   "outputs": [],
   "source": [
    "for i in range( 0, len( data ) ):\n",
    "    if (data.loc[i, 'price'] > 0) & ( data.loc[i, 'price'] < 321950):\n",
    "        data.loc[i, 'nivel'] = 'nivel_0'\n",
    "        \n",
    "    elif (data.loc[i, 'price'] >= 321950) & ( data.loc[i, 'price'] < 450000):\n",
    "        data.loc[i, 'nivel'] = 'nivel_1'\n",
    "        \n",
    "    elif (data.loc[i, 'price'] >= 450000) & ( data.loc[i, 'price'] < 645000):\n",
    "        data.loc[i, 'nivel'] = 'nivel_2'\n",
    "        \n",
    "    else:\n",
    "        data.loc[i, 'nivel'] = 'nivel_3'"
   ]
  },
  {
   "cell_type": "code",
   "execution_count": null,
   "id": "985875f8",
   "metadata": {
    "ExecuteTime": {
     "end_time": "2021-06-24T13:32:00.805182Z",
     "start_time": "2021-06-24T13:31:53.911Z"
    }
   },
   "outputs": [],
   "source": [
    "data.head()"
   ]
  },
  {
   "cell_type": "code",
   "execution_count": null,
   "id": "debf83a0",
   "metadata": {
    "ExecuteTime": {
     "end_time": "2021-06-24T13:32:00.808398Z",
     "start_time": "2021-06-24T13:31:53.918Z"
    }
   },
   "outputs": [],
   "source": [
    "url='https://data.usajobs.gov/api/codelist/postalcodes'"
   ]
  },
  {
   "cell_type": "code",
   "execution_count": null,
   "id": "6fe09dc4",
   "metadata": {
    "ExecuteTime": {
     "end_time": "2021-06-24T13:32:00.809736Z",
     "start_time": "2021-06-24T13:31:53.921Z"
    }
   },
   "outputs": [],
   "source": [
    "import requests as r\n",
    "\n",
    "url='https://data.usajobs.gov/api/codelist/postalcodes'\n",
    "response = r.request('GET',url)"
   ]
  },
  {
   "cell_type": "markdown",
   "id": "d23c5e10",
   "metadata": {
    "ExecuteTime": {
     "end_time": "2021-06-21T18:30:32.479299Z",
     "start_time": "2021-06-21T18:30:32.400325Z"
    }
   },
   "source": [
    "# Respondendo as perguntas"
   ]
  },
  {
   "cell_type": "code",
   "execution_count": 27,
   "id": "38d38d6d",
   "metadata": {
    "ExecuteTime": {
     "end_time": "2021-06-24T13:59:53.094952Z",
     "start_time": "2021-06-24T13:59:52.569459Z"
    }
   },
   "outputs": [],
   "source": [
    "from geopy.geocoders import Nominatim"
   ]
  },
  {
   "cell_type": "code",
   "execution_count": 30,
   "id": "3219e096",
   "metadata": {
    "ExecuteTime": {
     "end_time": "2021-06-24T14:01:29.197747Z",
     "start_time": "2021-06-24T14:01:29.183724Z"
    }
   },
   "outputs": [
    {
     "ename": "NameError",
     "evalue": "name 'Nomination' is not defined",
     "output_type": "error",
     "traceback": [
      "\u001b[0;31m---------------------------------------------------------------------------\u001b[0m",
      "\u001b[0;31mNameError\u001b[0m                                 Traceback (most recent call last)",
      "\u001b[0;32m<ipython-input-30-8051725e1411>\u001b[0m in \u001b[0;36m<module>\u001b[0;34m\u001b[0m\n\u001b[1;32m      1\u001b[0m \u001b[0;31m# Initizlize Nominatim API\u001b[0m\u001b[0;34m\u001b[0m\u001b[0;34m\u001b[0m\u001b[0;34m\u001b[0m\u001b[0m\n\u001b[1;32m      2\u001b[0m \u001b[0;34m\u001b[0m\u001b[0m\n\u001b[0;32m----> 3\u001b[0;31m \u001b[0mgeolocator\u001b[0m \u001b[0;34m=\u001b[0m \u001b[0mNomination\u001b[0m\u001b[0;34m(\u001b[0m\u001b[0muser_agent\u001b[0m \u001b[0;34m=\u001b[0m \u001b[0;34m'geoapiExercises'\u001b[0m\u001b[0;34m)\u001b[0m\u001b[0;34m\u001b[0m\u001b[0;34m\u001b[0m\u001b[0m\n\u001b[0m\u001b[1;32m      4\u001b[0m \u001b[0;34m\u001b[0m\u001b[0m\n",
      "\u001b[0;31mNameError\u001b[0m: name 'Nomination' is not defined"
     ]
    }
   ],
   "source": [
    "# Initizlize Nominatim API\n",
    "\n",
    "geolocator = Nomination( user_agent = 'geoapiExercises')\n",
    "\n"
   ]
  },
  {
   "cell_type": "code",
   "execution_count": null,
   "id": "bd64caba",
   "metadata": {},
   "outputs": [],
   "source": []
  }
 ],
 "metadata": {
  "celltoolbar": "Initialization Cell",
  "kernelspec": {
   "display_name": "Python 3",
   "language": "python",
   "name": "python3"
  },
  "language_info": {
   "codemirror_mode": {
    "name": "ipython",
    "version": 3
   },
   "file_extension": ".py",
   "mimetype": "text/x-python",
   "name": "python",
   "nbconvert_exporter": "python",
   "pygments_lexer": "ipython3",
   "version": "3.8.0"
  },
  "notify_time": "0",
  "toc": {
   "base_numbering": 1,
   "nav_menu": {},
   "number_sections": true,
   "sideBar": true,
   "skip_h1_title": false,
   "title_cell": "Table of Contents",
   "title_sidebar": "Contents",
   "toc_cell": false,
   "toc_position": {},
   "toc_section_display": true,
   "toc_window_display": false
  }
 },
 "nbformat": 4,
 "nbformat_minor": 5
}
