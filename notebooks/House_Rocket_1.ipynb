{
 "cells": [
  {
   "cell_type": "markdown",
   "id": "d5b55b10",
   "metadata": {},
   "source": [
    "# House Sales in king County, USA"
   ]
  },
  {
   "cell_type": "markdown",
   "id": "f5f72a7c",
   "metadata": {
    "ExecuteTime": {
     "end_time": "2021-08-18T18:35:29.519127Z",
     "start_time": "2021-08-18T18:35:29.509682Z"
    }
   },
   "source": [
    "- **COMPANY:** House Rocket.\n",
    "\n",
    "\n",
    "- **BUSINESS MODEL:** Buy houses at a low price and review at the highest price.\n",
    "\n",
    "\n",
    "- **WHAT'S THE CHALLENGE:** Finding good deals within the available portfolio, that is, finding homes with a low price, in a great location and that have a great resale potential for a higher price.\n",
    "\n",
    "\n",
    "- **DATA:** This dataset contains house sale prices for King County, which includes Seattle. It includes homes sold between May 2014 and May 2015.\n",
    "\n",
    "\n",
    "- **SOURCE:** https://www.kaggle.com/harlfoxem/housesalesprediction"
   ]
  },
  {
   "cell_type": "markdown",
   "id": "7da647c2",
   "metadata": {},
   "source": [
    "# Setup"
   ]
  },
  {
   "cell_type": "markdown",
   "id": "7a57d024",
   "metadata": {
    "ExecuteTime": {
     "end_time": "2021-08-18T18:36:50.776942Z",
     "start_time": "2021-08-18T18:36:50.771817Z"
    }
   },
   "source": [
    "## Imports"
   ]
  },
  {
   "cell_type": "code",
   "execution_count": 1,
   "id": "ee3b35e9",
   "metadata": {
    "ExecuteTime": {
     "end_time": "2021-08-25T17:50:02.437730Z",
     "start_time": "2021-08-25T17:50:00.896596Z"
    },
    "init_cell": true
   },
   "outputs": [],
   "source": [
    "# Data Manipulation\n",
    "import csv\n",
    "import random\n",
    "import datetime\n",
    "import numpy               as np\n",
    "import pandas              as pd\n",
    "\n",
    "# Exploratory Data Analyses\n",
    "import seaborn             as sns\n",
    "import plotly.express      as px\n",
    "import matplotlib.pyplot   as plt\n",
    "#import matplotlib.gridspec as gridspec\n",
    "\n",
    "#from tqdm import tqdm_notebook\n",
    "#Configurations\n",
    "import warnings\n",
    "warnings.filterwarnings( 'ignore' )\n",
    "#from IPython.display       import Image\n",
    "#from IPython.core.display  import HTML\n",
    "\n",
    "# graphic visualization\n",
    "#import ipywidgets          as widgets\n",
    "#from ipywidgets            import fixed\n",
    "\n",
    "# data import\n",
    "from geopy.geocoders       import Nominatim\n",
    "\n",
    "#from scipy                 import stats     as ss\n",
    "#from scipy.stats           import pointbiserialr, chi2_contingency\n",
    "\n",
    "#import pickle\n",
    "\n",
    "\n",
    "\n",
    "\n",
    "\n",
    "#from boruta                import BorutaPy\n",
    "#from tabulate              import tabulate"
   ]
  },
  {
   "cell_type": "markdown",
   "id": "74e66653",
   "metadata": {},
   "source": [
    "## Helper Function"
   ]
  },
  {
   "cell_type": "code",
   "execution_count": 56,
   "id": "3398e706",
   "metadata": {
    "ExecuteTime": {
     "end_time": "2021-08-18T19:27:08.741572Z",
     "start_time": "2021-08-18T19:27:08.725008Z"
    }
   },
   "outputs": [],
   "source": [
    "def descriptive_statistics(num_df):\n",
    "    # Central Tendency - mean, median\n",
    "    ct1 = pd.DataFrame(num_df.apply(np.mean)).T\n",
    "    ct2 = pd.DataFrame(num_df.apply(np.median)).T\n",
    "\n",
    "    # Dispersion - Std, min, max, range, skew, kurtosis\n",
    "    d1 = pd.DataFrame(num_df.apply(np.std)).T\n",
    "    d2 = pd.DataFrame(num_df.apply(min)).T\n",
    "    d3 = pd.DataFrame(num_df.apply(max)).T\n",
    "    d4 = pd.DataFrame(num_df.apply(lambda x: x.max() - x.min())).T\n",
    "    d5 = pd.DataFrame(num_df.apply(lambda x: x.skew())).T\n",
    "    d6 = pd.DataFrame(num_df.apply(lambda x: x.kurtosis())).T\n",
    "\n",
    "    # Concatenate\n",
    "    m = pd.concat([d2, d3, d4, ct1, ct2, d1, d5, d6]).T.reset_index()\n",
    "    m.columns = ['attributes', 'min', 'max', 'range', 'mean', 'median', 'std', 'skew', 'kurtosis']\n",
    "    \n",
    "    pd.set_option('display.float_format', lambda x: '%.2f' % x)\n",
    "    \n",
    "    return m"
   ]
  },
  {
   "cell_type": "code",
   "execution_count": 2,
   "id": "45b29776",
   "metadata": {
    "ExecuteTime": {
     "end_time": "2021-08-25T17:50:02.445836Z",
     "start_time": "2021-08-25T17:50:02.441981Z"
    },
    "init_cell": true
   },
   "outputs": [],
   "source": [
    "pd.set_option('display.float_format', lambda x: '%.2f' % x)\n",
    "        "
   ]
  },
  {
   "cell_type": "markdown",
   "id": "ba682a1e",
   "metadata": {},
   "source": [
    "# Loading Data"
   ]
  },
  {
   "cell_type": "code",
   "execution_count": 3,
   "id": "353058ab",
   "metadata": {
    "ExecuteTime": {
     "end_time": "2021-08-25T17:50:02.867403Z",
     "start_time": "2021-08-25T17:50:02.449427Z"
    },
    "init_cell": true
   },
   "outputs": [],
   "source": [
    "df = pd.read_csv('/home/leandro/repos/House_Rocket_repo/data/raw/kc_house_data.csv')"
   ]
  },
  {
   "cell_type": "code",
   "execution_count": 18,
   "id": "ac90bb55",
   "metadata": {
    "ExecuteTime": {
     "end_time": "2021-08-18T18:51:44.957513Z",
     "start_time": "2021-08-18T18:51:44.917491Z"
    }
   },
   "outputs": [
    {
     "data": {
      "text/html": [
       "<div>\n",
       "<style scoped>\n",
       "    .dataframe tbody tr th:only-of-type {\n",
       "        vertical-align: middle;\n",
       "    }\n",
       "\n",
       "    .dataframe tbody tr th {\n",
       "        vertical-align: top;\n",
       "    }\n",
       "\n",
       "    .dataframe thead th {\n",
       "        text-align: right;\n",
       "    }\n",
       "</style>\n",
       "<table border=\"1\" class=\"dataframe\">\n",
       "  <thead>\n",
       "    <tr style=\"text-align: right;\">\n",
       "      <th></th>\n",
       "      <th>id</th>\n",
       "      <th>date</th>\n",
       "      <th>price</th>\n",
       "      <th>bedrooms</th>\n",
       "      <th>bathrooms</th>\n",
       "      <th>sqft_living</th>\n",
       "      <th>sqft_lot</th>\n",
       "      <th>floors</th>\n",
       "      <th>waterfront</th>\n",
       "      <th>view</th>\n",
       "      <th>...</th>\n",
       "      <th>grade</th>\n",
       "      <th>sqft_above</th>\n",
       "      <th>sqft_basement</th>\n",
       "      <th>yr_built</th>\n",
       "      <th>yr_renovated</th>\n",
       "      <th>zipcode</th>\n",
       "      <th>lat</th>\n",
       "      <th>long</th>\n",
       "      <th>sqft_living15</th>\n",
       "      <th>sqft_lot15</th>\n",
       "    </tr>\n",
       "  </thead>\n",
       "  <tbody>\n",
       "    <tr>\n",
       "      <th>0</th>\n",
       "      <td>7129300520</td>\n",
       "      <td>20141013T000000</td>\n",
       "      <td>221900.00</td>\n",
       "      <td>3</td>\n",
       "      <td>1.00</td>\n",
       "      <td>1180</td>\n",
       "      <td>5650</td>\n",
       "      <td>1.00</td>\n",
       "      <td>0</td>\n",
       "      <td>0</td>\n",
       "      <td>...</td>\n",
       "      <td>7</td>\n",
       "      <td>1180</td>\n",
       "      <td>0</td>\n",
       "      <td>1955</td>\n",
       "      <td>0</td>\n",
       "      <td>98178</td>\n",
       "      <td>47.51</td>\n",
       "      <td>-122.26</td>\n",
       "      <td>1340</td>\n",
       "      <td>5650</td>\n",
       "    </tr>\n",
       "    <tr>\n",
       "      <th>1</th>\n",
       "      <td>6414100192</td>\n",
       "      <td>20141209T000000</td>\n",
       "      <td>538000.00</td>\n",
       "      <td>3</td>\n",
       "      <td>2.25</td>\n",
       "      <td>2570</td>\n",
       "      <td>7242</td>\n",
       "      <td>2.00</td>\n",
       "      <td>0</td>\n",
       "      <td>0</td>\n",
       "      <td>...</td>\n",
       "      <td>7</td>\n",
       "      <td>2170</td>\n",
       "      <td>400</td>\n",
       "      <td>1951</td>\n",
       "      <td>1991</td>\n",
       "      <td>98125</td>\n",
       "      <td>47.72</td>\n",
       "      <td>-122.32</td>\n",
       "      <td>1690</td>\n",
       "      <td>7639</td>\n",
       "    </tr>\n",
       "    <tr>\n",
       "      <th>2</th>\n",
       "      <td>5631500400</td>\n",
       "      <td>20150225T000000</td>\n",
       "      <td>180000.00</td>\n",
       "      <td>2</td>\n",
       "      <td>1.00</td>\n",
       "      <td>770</td>\n",
       "      <td>10000</td>\n",
       "      <td>1.00</td>\n",
       "      <td>0</td>\n",
       "      <td>0</td>\n",
       "      <td>...</td>\n",
       "      <td>6</td>\n",
       "      <td>770</td>\n",
       "      <td>0</td>\n",
       "      <td>1933</td>\n",
       "      <td>0</td>\n",
       "      <td>98028</td>\n",
       "      <td>47.74</td>\n",
       "      <td>-122.23</td>\n",
       "      <td>2720</td>\n",
       "      <td>8062</td>\n",
       "    </tr>\n",
       "    <tr>\n",
       "      <th>3</th>\n",
       "      <td>2487200875</td>\n",
       "      <td>20141209T000000</td>\n",
       "      <td>604000.00</td>\n",
       "      <td>4</td>\n",
       "      <td>3.00</td>\n",
       "      <td>1960</td>\n",
       "      <td>5000</td>\n",
       "      <td>1.00</td>\n",
       "      <td>0</td>\n",
       "      <td>0</td>\n",
       "      <td>...</td>\n",
       "      <td>7</td>\n",
       "      <td>1050</td>\n",
       "      <td>910</td>\n",
       "      <td>1965</td>\n",
       "      <td>0</td>\n",
       "      <td>98136</td>\n",
       "      <td>47.52</td>\n",
       "      <td>-122.39</td>\n",
       "      <td>1360</td>\n",
       "      <td>5000</td>\n",
       "    </tr>\n",
       "    <tr>\n",
       "      <th>4</th>\n",
       "      <td>1954400510</td>\n",
       "      <td>20150218T000000</td>\n",
       "      <td>510000.00</td>\n",
       "      <td>3</td>\n",
       "      <td>2.00</td>\n",
       "      <td>1680</td>\n",
       "      <td>8080</td>\n",
       "      <td>1.00</td>\n",
       "      <td>0</td>\n",
       "      <td>0</td>\n",
       "      <td>...</td>\n",
       "      <td>8</td>\n",
       "      <td>1680</td>\n",
       "      <td>0</td>\n",
       "      <td>1987</td>\n",
       "      <td>0</td>\n",
       "      <td>98074</td>\n",
       "      <td>47.62</td>\n",
       "      <td>-122.05</td>\n",
       "      <td>1800</td>\n",
       "      <td>7503</td>\n",
       "    </tr>\n",
       "  </tbody>\n",
       "</table>\n",
       "<p>5 rows × 21 columns</p>\n",
       "</div>"
      ],
      "text/plain": [
       "           id             date     price  bedrooms  bathrooms  sqft_living  \\\n",
       "0  7129300520  20141013T000000 221900.00         3       1.00         1180   \n",
       "1  6414100192  20141209T000000 538000.00         3       2.25         2570   \n",
       "2  5631500400  20150225T000000 180000.00         2       1.00          770   \n",
       "3  2487200875  20141209T000000 604000.00         4       3.00         1960   \n",
       "4  1954400510  20150218T000000 510000.00         3       2.00         1680   \n",
       "\n",
       "   sqft_lot  floors  waterfront  view  ...  grade  sqft_above  sqft_basement  \\\n",
       "0      5650    1.00           0     0  ...      7        1180              0   \n",
       "1      7242    2.00           0     0  ...      7        2170            400   \n",
       "2     10000    1.00           0     0  ...      6         770              0   \n",
       "3      5000    1.00           0     0  ...      7        1050            910   \n",
       "4      8080    1.00           0     0  ...      8        1680              0   \n",
       "\n",
       "   yr_built  yr_renovated  zipcode   lat    long  sqft_living15  sqft_lot15  \n",
       "0      1955             0    98178 47.51 -122.26           1340        5650  \n",
       "1      1951          1991    98125 47.72 -122.32           1690        7639  \n",
       "2      1933             0    98028 47.74 -122.23           2720        8062  \n",
       "3      1965             0    98136 47.52 -122.39           1360        5000  \n",
       "4      1987             0    98074 47.62 -122.05           1800        7503  \n",
       "\n",
       "[5 rows x 21 columns]"
      ]
     },
     "execution_count": 18,
     "metadata": {},
     "output_type": "execute_result"
    }
   ],
   "source": [
    "df.head()"
   ]
  },
  {
   "cell_type": "markdown",
   "id": "d2ca91d6",
   "metadata": {},
   "source": [
    "# Data Descripition"
   ]
  },
  {
   "cell_type": "markdown",
   "id": "f50081c6",
   "metadata": {
    "ExecuteTime": {
     "end_time": "2021-08-18T18:52:21.133206Z",
     "start_time": "2021-08-18T18:52:21.129560Z"
    }
   },
   "source": [
    "## Features Description"
   ]
  },
  {
   "cell_type": "markdown",
   "id": "42b0c73e",
   "metadata": {
    "ExecuteTime": {
     "end_time": "2021-08-18T18:52:43.240192Z",
     "start_time": "2021-08-18T18:52:43.223763Z"
    }
   },
   "source": [
    "**id =**\tIdentification;\n",
    "\n",
    "**date =**\tDate sold;\n",
    "\n",
    "**price =**\tSale price;\n",
    "\n",
    "**bedrooms =**\tNumber of bedrooms;\n",
    "\n",
    "**bathrooms =**\tNumber of bathrooms;\n",
    "\n",
    "**sqft_liv =**\tSize of living area in square feet;\n",
    "\n",
    "**sqft_lot =**\tSize of the lot in square feet;\n",
    "\n",
    "**floors =**\tNumber of floors;\n",
    "\n",
    "**waterfront =**\t'1' if the property has a waterfront, '0' if not;\n",
    "\n",
    "**view =**\tAn index from 0 to 4 of how good the view of the property was;\n",
    "\n",
    "**condition =**\tCondition of the house, ranked from 1 to 5. See session 2.1.1;\n",
    "\n",
    "**grade =**\tClassification by construction quality, ranked from 1 to 13. See session 2.1.2;\n",
    "\n",
    "**sqft_above =**\tSquare feet above ground;\n",
    "\n",
    "**sqft_basmt =**\tSquare feet below ground;\n",
    "\n",
    "**yr_built =**\tYear built;\n",
    "\n",
    "**yr_renov =**\tYear renovated. '0' if never renovated;\n",
    "\n",
    "**zipcode =**\t5 digit zip code;\n",
    "\n",
    "**lat =**\tLatitude;\n",
    "\n",
    "**long =**\tLongitude;\n",
    "\n",
    "**squft_liv15 =**\tAverage size of interior housing living space for the closest 15 houses, in square feet;\n",
    "\n",
    "**squft_lot15 =**\tAverage size of land lots for the closest 15 houses, in square feet;\n",
    "\n",
    "**Shape_leng =**\tPolygon length in meters;\n",
    "\n",
    "**Shape_Area =**\tPolygon area in meters;\n",
    "\n",
    "\n",
    " **Source:** https://geodacenter.github.io/data-and-lab//KingCounty-HouseSales2015/ "
   ]
  },
  {
   "cell_type": "markdown",
   "id": "dc600c4a",
   "metadata": {},
   "source": [
    "### Relative to age and grade. Coded 1-5.\n",
    "\n",
    "1 = Poor- Worn out. Repair and overhaul needed on painted surfaces, roofing, plumbing, heating and numerous functional inadequacies. Excessive deferred maintenance and abuse, limited value-in-use, approaching abandonment or major reconstruction; reuse or change in occupancy is imminent. Effective age is near the end of the scale regardless of the actual chronological age.\n",
    "\n",
    "2 = Fair- Badly worn. Much repair needed. Many items need refinishing or overhauling, deferred maintenance obvious, inadequate building utility and systems all shortening the life expectancy and increasing the effective age.\n",
    "\n",
    "3 = Average- Some evidence of deferred maintenance and normal obsolescence with age in that a few minor repairs are needed, along with some refinishing. All major components still functional and contributing toward an extended life expectancy. Effective age and utility is standard for like properties of its class and usage.\n",
    "\n",
    "4 = Good- No obvious maintenance required but neither is everything new. Appearance and utility are above the standard and the overall effective age will be lower than the typical property.\n",
    "\n",
    "5 = Very Good- All items well maintained, many having been overhauled and repaired as they have shown signs of wear, increasing the life expectancy and lowering the effective age with little deterioration or obsolescence evident with a high degree of utility.\n",
    "\n",
    "Source: https://info.kingcounty.gov/assessor/esales/Glossary.aspx?type=r\n"
   ]
  },
  {
   "cell_type": "markdown",
   "id": "f3bfe44c",
   "metadata": {
    "ExecuteTime": {
     "end_time": "2021-08-18T18:53:36.966423Z",
     "start_time": "2021-08-18T18:53:36.961148Z"
    }
   },
   "source": [
    "### Building Grade"
   ]
  },
  {
   "cell_type": "markdown",
   "id": "a8661e04",
   "metadata": {
    "ExecuteTime": {
     "end_time": "2021-08-18T18:53:58.494903Z",
     "start_time": "2021-08-18T18:53:58.477806Z"
    }
   },
   "source": [
    "Represents the construction quality of improvements. Grades run from grade 1 to 13. Generally defined as:\n",
    "\n",
    "\n",
    "**1-3 =** Falls short of minimum building standards. Normally cabin or inferior structure.\n",
    "\n",
    "\n",
    "**4 =** Generally older, low quality construction. Does not meet code.\n",
    "\n",
    "\n",
    "**5 =** Low construction costs and workmanship. Small, simple design.\n",
    "\n",
    "\n",
    "**6 =** Lowest grade currently meeting building code. Low quality materials and simple designs.\n",
    "\n",
    "\n",
    "**7 =** Average grade of construction and design. Commonly seen in plats and older sub-divisions.\n",
    "\n",
    "\n",
    "**8 =** Just above average in construction and design. Usually better materials in both the exterior and interior finish work.\n",
    "\n",
    "\n",
    "**9 =** Better architectural design with extra interior and exterior design and quality.\n",
    "\n",
    "\n",
    "**10 =** Homes of this quality generally have high quality features. Finish work is better and more design quality is seen in the floor plans. Generally have a larger square footage.\n",
    "\n",
    "\n",
    "**11 =** Custom design and higher quality finish work with added amenities of solid woods, bathroom fixtures and more luxurious options.\n",
    "\n",
    "\n",
    "**12 =** Custom design and excellent builders. All materials are of the highest quality and all conveniences are present.\n",
    "\n",
    "\n",
    "**13 =** Generally custom designed and built. Mansion level. Large amount of highest quality cabinet work, wood trim, marble, entry ways etc.\n",
    "\n",
    "\n",
    "**Source:** https://info.kingcounty.gov/assessor/esales/Glossary.aspx?type=r"
   ]
  },
  {
   "cell_type": "markdown",
   "id": "d7454bec",
   "metadata": {},
   "source": [
    "### Bathrooms"
   ]
  },
  {
   "cell_type": "markdown",
   "id": "174a468c",
   "metadata": {},
   "source": [
    "0.25 = A 0.25 bathroom is a bathroom that has either a sink, a shower, toilet or a bathtub.\n",
    "\n",
    "0.50 = A 0.5 bathroom is a bathroom that does not contain a bath or a shower, just a toilet and sink.\n",
    "\n",
    "0.75 = A 0.75 bathroom is a bathroom that has either a shower or tub with 1 sink and 1 toilet.\n",
    "\n",
    "1.00 = A full bathroom (1.0) is a bathroom that contains exactly 1 sink, 1 bathtub, 1 shower and 1 toilet.\n",
    "\n",
    "Source: https://www.badeloftusa.com/buying-guides/bathrooms/\n"
   ]
  },
  {
   "cell_type": "markdown",
   "id": "f24bf051",
   "metadata": {},
   "source": [
    "## Data Dimentions"
   ]
  },
  {
   "cell_type": "code",
   "execution_count": 31,
   "id": "84d57ca8",
   "metadata": {
    "ExecuteTime": {
     "end_time": "2021-08-18T19:03:32.707854Z",
     "start_time": "2021-08-18T19:03:32.699759Z"
    }
   },
   "outputs": [
    {
     "name": "stdout",
     "output_type": "stream",
     "text": [
      "Number of rows : 21613\n",
      "\n",
      "Number of cols : 21\n",
      "\n"
     ]
    }
   ],
   "source": [
    "print('Number of rows : {}'.format(data.shape[0]),end = '\\n\\n')\n",
    "print('Number of cols : {}'.format(data.shape[1]),end = '\\n\\n' )"
   ]
  },
  {
   "cell_type": "code",
   "execution_count": 32,
   "id": "e97445b7",
   "metadata": {
    "ExecuteTime": {
     "end_time": "2021-08-18T19:04:58.335377Z",
     "start_time": "2021-08-18T19:04:58.330976Z"
    }
   },
   "outputs": [],
   "source": [
    "## I need explicar floors"
   ]
  },
  {
   "cell_type": "code",
   "execution_count": 33,
   "id": "873f3c88",
   "metadata": {
    "ExecuteTime": {
     "end_time": "2021-08-18T19:05:16.592546Z",
     "start_time": "2021-08-18T19:05:16.583397Z"
    }
   },
   "outputs": [
    {
     "data": {
      "text/plain": [
       "Index(['id', 'date', 'price', 'bedrooms', 'bathrooms', 'sqft_living',\n",
       "       'sqft_lot', 'floors', 'waterfront', 'view', 'condition', 'grade',\n",
       "       'sqft_above', 'sqft_basement', 'yr_built', 'yr_renovated', 'zipcode',\n",
       "       'lat', 'long', 'sqft_living15', 'sqft_lot15'],\n",
       "      dtype='object')"
      ]
     },
     "execution_count": 33,
     "metadata": {},
     "output_type": "execute_result"
    }
   ],
   "source": [
    "df.columns"
   ]
  },
  {
   "cell_type": "code",
   "execution_count": 48,
   "id": "bcab78ec",
   "metadata": {
    "ExecuteTime": {
     "end_time": "2021-08-18T19:17:18.970915Z",
     "start_time": "2021-08-18T19:17:18.958631Z"
    }
   },
   "outputs": [
    {
     "data": {
      "text/plain": [
       "1.00    10680\n",
       "2.00     8241\n",
       "1.50     1910\n",
       "3.00      613\n",
       "2.50      161\n",
       "3.50        8\n",
       "Name: floors, dtype: int64"
      ]
     },
     "execution_count": 48,
     "metadata": {},
     "output_type": "execute_result"
    }
   ],
   "source": [
    "data['floors'].value_counts()"
   ]
  },
  {
   "cell_type": "markdown",
   "id": "1a764b0d",
   "metadata": {},
   "source": [
    "## Data Types"
   ]
  },
  {
   "cell_type": "code",
   "execution_count": 49,
   "id": "8f66ffa6",
   "metadata": {
    "ExecuteTime": {
     "end_time": "2021-08-18T19:18:15.171897Z",
     "start_time": "2021-08-18T19:18:15.160037Z"
    }
   },
   "outputs": [
    {
     "data": {
      "text/plain": [
       "id                 int64\n",
       "date              object\n",
       "price            float64\n",
       "bedrooms           int64\n",
       "bathrooms        float64\n",
       "sqft_living        int64\n",
       "sqft_lot           int64\n",
       "floors           float64\n",
       "waterfront         int64\n",
       "view               int64\n",
       "condition          int64\n",
       "grade              int64\n",
       "sqft_above         int64\n",
       "sqft_basement      int64\n",
       "yr_built           int64\n",
       "yr_renovated       int64\n",
       "zipcode            int64\n",
       "lat              float64\n",
       "long             float64\n",
       "sqft_living15      int64\n",
       "sqft_lot15         int64\n",
       "dtype: object"
      ]
     },
     "execution_count": 49,
     "metadata": {},
     "output_type": "execute_result"
    }
   ],
   "source": [
    "df.dtypes"
   ]
  },
  {
   "cell_type": "markdown",
   "id": "842d5d09",
   "metadata": {},
   "source": [
    "## Check NA"
   ]
  },
  {
   "cell_type": "code",
   "execution_count": 50,
   "id": "89121212",
   "metadata": {
    "ExecuteTime": {
     "end_time": "2021-08-18T19:22:25.466756Z",
     "start_time": "2021-08-18T19:22:25.451916Z"
    }
   },
   "outputs": [
    {
     "data": {
      "text/plain": [
       "id               0\n",
       "date             0\n",
       "price            0\n",
       "bedrooms         0\n",
       "bathrooms        0\n",
       "sqft_living      0\n",
       "sqft_lot         0\n",
       "floors           0\n",
       "waterfront       0\n",
       "view             0\n",
       "condition        0\n",
       "grade            0\n",
       "sqft_above       0\n",
       "sqft_basement    0\n",
       "yr_built         0\n",
       "yr_renovated     0\n",
       "zipcode          0\n",
       "lat              0\n",
       "long             0\n",
       "sqft_living15    0\n",
       "sqft_lot15       0\n",
       "dtype: int64"
      ]
     },
     "execution_count": 50,
     "metadata": {},
     "output_type": "execute_result"
    }
   ],
   "source": [
    "data.isna().sum()"
   ]
  },
  {
   "cell_type": "markdown",
   "id": "7a4ba3b4",
   "metadata": {
    "ExecuteTime": {
     "end_time": "2021-08-18T19:22:45.525249Z",
     "start_time": "2021-08-18T19:22:45.521260Z"
    }
   },
   "source": [
    "## Change Types"
   ]
  },
  {
   "cell_type": "code",
   "execution_count": 52,
   "id": "cec0b78d",
   "metadata": {
    "ExecuteTime": {
     "end_time": "2021-08-18T19:23:10.430377Z",
     "start_time": "2021-08-18T19:23:10.416200Z"
    }
   },
   "outputs": [],
   "source": [
    "data['date'] = pd.to_datetime(data['date'])"
   ]
  },
  {
   "cell_type": "code",
   "execution_count": 53,
   "id": "d7cd92be",
   "metadata": {
    "ExecuteTime": {
     "end_time": "2021-08-18T19:23:23.763448Z",
     "start_time": "2021-08-18T19:23:23.750645Z"
    }
   },
   "outputs": [
    {
     "data": {
      "text/plain": [
       "id                        int64\n",
       "date             datetime64[ns]\n",
       "price                   float64\n",
       "bedrooms                  int64\n",
       "bathrooms               float64\n",
       "sqft_living               int64\n",
       "sqft_lot                  int64\n",
       "floors                  float64\n",
       "waterfront                int64\n",
       "view                      int64\n",
       "condition                 int64\n",
       "grade                     int64\n",
       "sqft_above                int64\n",
       "sqft_basement             int64\n",
       "yr_built                  int64\n",
       "yr_renovated              int64\n",
       "zipcode                   int64\n",
       "lat                     float64\n",
       "long                    float64\n",
       "sqft_living15             int64\n",
       "sqft_lot15                int64\n",
       "dtype: object"
      ]
     },
     "execution_count": 53,
     "metadata": {},
     "output_type": "execute_result"
    }
   ],
   "source": [
    "data.dtypes"
   ]
  },
  {
   "cell_type": "markdown",
   "id": "f16bdcde",
   "metadata": {},
   "source": [
    "## Descriptive Statistics"
   ]
  },
  {
   "cell_type": "code",
   "execution_count": 54,
   "id": "d067b92a",
   "metadata": {
    "ExecuteTime": {
     "end_time": "2021-08-18T19:25:28.815373Z",
     "start_time": "2021-08-18T19:25:28.802794Z"
    }
   },
   "outputs": [],
   "source": [
    "num_attributes = df.select_dtypes(include = ['int64', 'int32', 'float64'])\n",
    "cat_attributes = df.select_dtypes(exclude = ['int64', 'int32', 'float64'])"
   ]
  },
  {
   "cell_type": "markdown",
   "id": "ea1e3525",
   "metadata": {},
   "source": [
    "### Numerical Attributes"
   ]
  },
  {
   "cell_type": "code",
   "execution_count": 57,
   "id": "b99a4e3b",
   "metadata": {
    "ExecuteTime": {
     "end_time": "2021-08-18T19:27:23.975280Z",
     "start_time": "2021-08-18T19:27:23.765190Z"
    }
   },
   "outputs": [
    {
     "data": {
      "text/html": [
       "<div>\n",
       "<style scoped>\n",
       "    .dataframe tbody tr th:only-of-type {\n",
       "        vertical-align: middle;\n",
       "    }\n",
       "\n",
       "    .dataframe tbody tr th {\n",
       "        vertical-align: top;\n",
       "    }\n",
       "\n",
       "    .dataframe thead th {\n",
       "        text-align: right;\n",
       "    }\n",
       "</style>\n",
       "<table border=\"1\" class=\"dataframe\">\n",
       "  <thead>\n",
       "    <tr style=\"text-align: right;\">\n",
       "      <th></th>\n",
       "      <th>attributes</th>\n",
       "      <th>min</th>\n",
       "      <th>max</th>\n",
       "      <th>range</th>\n",
       "      <th>mean</th>\n",
       "      <th>median</th>\n",
       "      <th>std</th>\n",
       "      <th>skew</th>\n",
       "      <th>kurtosis</th>\n",
       "    </tr>\n",
       "  </thead>\n",
       "  <tbody>\n",
       "    <tr>\n",
       "      <th>0</th>\n",
       "      <td>id</td>\n",
       "      <td>1000102.00</td>\n",
       "      <td>9900000190.00</td>\n",
       "      <td>9899000088.00</td>\n",
       "      <td>4580301520.86</td>\n",
       "      <td>3904930410.00</td>\n",
       "      <td>2876499023.43</td>\n",
       "      <td>0.24</td>\n",
       "      <td>-1.26</td>\n",
       "    </tr>\n",
       "    <tr>\n",
       "      <th>1</th>\n",
       "      <td>price</td>\n",
       "      <td>75000.00</td>\n",
       "      <td>7700000.00</td>\n",
       "      <td>7625000.00</td>\n",
       "      <td>540088.14</td>\n",
       "      <td>450000.00</td>\n",
       "      <td>367118.70</td>\n",
       "      <td>4.02</td>\n",
       "      <td>34.59</td>\n",
       "    </tr>\n",
       "    <tr>\n",
       "      <th>2</th>\n",
       "      <td>bedrooms</td>\n",
       "      <td>0.00</td>\n",
       "      <td>33.00</td>\n",
       "      <td>33.00</td>\n",
       "      <td>3.37</td>\n",
       "      <td>3.00</td>\n",
       "      <td>0.93</td>\n",
       "      <td>1.97</td>\n",
       "      <td>49.06</td>\n",
       "    </tr>\n",
       "    <tr>\n",
       "      <th>3</th>\n",
       "      <td>bathrooms</td>\n",
       "      <td>0.00</td>\n",
       "      <td>8.00</td>\n",
       "      <td>8.00</td>\n",
       "      <td>2.11</td>\n",
       "      <td>2.25</td>\n",
       "      <td>0.77</td>\n",
       "      <td>0.51</td>\n",
       "      <td>1.28</td>\n",
       "    </tr>\n",
       "    <tr>\n",
       "      <th>4</th>\n",
       "      <td>sqft_living</td>\n",
       "      <td>290.00</td>\n",
       "      <td>13540.00</td>\n",
       "      <td>13250.00</td>\n",
       "      <td>2079.90</td>\n",
       "      <td>1910.00</td>\n",
       "      <td>918.42</td>\n",
       "      <td>1.47</td>\n",
       "      <td>5.24</td>\n",
       "    </tr>\n",
       "    <tr>\n",
       "      <th>5</th>\n",
       "      <td>sqft_lot</td>\n",
       "      <td>520.00</td>\n",
       "      <td>1651359.00</td>\n",
       "      <td>1650839.00</td>\n",
       "      <td>15106.97</td>\n",
       "      <td>7618.00</td>\n",
       "      <td>41419.55</td>\n",
       "      <td>13.06</td>\n",
       "      <td>285.08</td>\n",
       "    </tr>\n",
       "    <tr>\n",
       "      <th>6</th>\n",
       "      <td>floors</td>\n",
       "      <td>1.00</td>\n",
       "      <td>3.50</td>\n",
       "      <td>2.50</td>\n",
       "      <td>1.49</td>\n",
       "      <td>1.50</td>\n",
       "      <td>0.54</td>\n",
       "      <td>0.62</td>\n",
       "      <td>-0.48</td>\n",
       "    </tr>\n",
       "    <tr>\n",
       "      <th>7</th>\n",
       "      <td>waterfront</td>\n",
       "      <td>0.00</td>\n",
       "      <td>1.00</td>\n",
       "      <td>1.00</td>\n",
       "      <td>0.01</td>\n",
       "      <td>0.00</td>\n",
       "      <td>0.09</td>\n",
       "      <td>11.39</td>\n",
       "      <td>127.63</td>\n",
       "    </tr>\n",
       "    <tr>\n",
       "      <th>8</th>\n",
       "      <td>view</td>\n",
       "      <td>0.00</td>\n",
       "      <td>4.00</td>\n",
       "      <td>4.00</td>\n",
       "      <td>0.23</td>\n",
       "      <td>0.00</td>\n",
       "      <td>0.77</td>\n",
       "      <td>3.40</td>\n",
       "      <td>10.89</td>\n",
       "    </tr>\n",
       "    <tr>\n",
       "      <th>9</th>\n",
       "      <td>condition</td>\n",
       "      <td>1.00</td>\n",
       "      <td>5.00</td>\n",
       "      <td>4.00</td>\n",
       "      <td>3.41</td>\n",
       "      <td>3.00</td>\n",
       "      <td>0.65</td>\n",
       "      <td>1.03</td>\n",
       "      <td>0.53</td>\n",
       "    </tr>\n",
       "    <tr>\n",
       "      <th>10</th>\n",
       "      <td>grade</td>\n",
       "      <td>1.00</td>\n",
       "      <td>13.00</td>\n",
       "      <td>12.00</td>\n",
       "      <td>7.66</td>\n",
       "      <td>7.00</td>\n",
       "      <td>1.18</td>\n",
       "      <td>0.77</td>\n",
       "      <td>1.19</td>\n",
       "    </tr>\n",
       "    <tr>\n",
       "      <th>11</th>\n",
       "      <td>sqft_above</td>\n",
       "      <td>290.00</td>\n",
       "      <td>9410.00</td>\n",
       "      <td>9120.00</td>\n",
       "      <td>1788.39</td>\n",
       "      <td>1560.00</td>\n",
       "      <td>828.07</td>\n",
       "      <td>1.45</td>\n",
       "      <td>3.40</td>\n",
       "    </tr>\n",
       "    <tr>\n",
       "      <th>12</th>\n",
       "      <td>sqft_basement</td>\n",
       "      <td>0.00</td>\n",
       "      <td>4820.00</td>\n",
       "      <td>4820.00</td>\n",
       "      <td>291.51</td>\n",
       "      <td>0.00</td>\n",
       "      <td>442.56</td>\n",
       "      <td>1.58</td>\n",
       "      <td>2.72</td>\n",
       "    </tr>\n",
       "    <tr>\n",
       "      <th>13</th>\n",
       "      <td>yr_built</td>\n",
       "      <td>1900.00</td>\n",
       "      <td>2015.00</td>\n",
       "      <td>115.00</td>\n",
       "      <td>1971.01</td>\n",
       "      <td>1975.00</td>\n",
       "      <td>29.37</td>\n",
       "      <td>-0.47</td>\n",
       "      <td>-0.66</td>\n",
       "    </tr>\n",
       "    <tr>\n",
       "      <th>14</th>\n",
       "      <td>yr_renovated</td>\n",
       "      <td>0.00</td>\n",
       "      <td>2015.00</td>\n",
       "      <td>2015.00</td>\n",
       "      <td>84.40</td>\n",
       "      <td>0.00</td>\n",
       "      <td>401.67</td>\n",
       "      <td>4.55</td>\n",
       "      <td>18.70</td>\n",
       "    </tr>\n",
       "    <tr>\n",
       "      <th>15</th>\n",
       "      <td>zipcode</td>\n",
       "      <td>98001.00</td>\n",
       "      <td>98199.00</td>\n",
       "      <td>198.00</td>\n",
       "      <td>98077.94</td>\n",
       "      <td>98065.00</td>\n",
       "      <td>53.50</td>\n",
       "      <td>0.41</td>\n",
       "      <td>-0.85</td>\n",
       "    </tr>\n",
       "    <tr>\n",
       "      <th>16</th>\n",
       "      <td>lat</td>\n",
       "      <td>47.16</td>\n",
       "      <td>47.78</td>\n",
       "      <td>0.62</td>\n",
       "      <td>47.56</td>\n",
       "      <td>47.57</td>\n",
       "      <td>0.14</td>\n",
       "      <td>-0.49</td>\n",
       "      <td>-0.68</td>\n",
       "    </tr>\n",
       "    <tr>\n",
       "      <th>17</th>\n",
       "      <td>long</td>\n",
       "      <td>-122.52</td>\n",
       "      <td>-121.31</td>\n",
       "      <td>1.20</td>\n",
       "      <td>-122.21</td>\n",
       "      <td>-122.23</td>\n",
       "      <td>0.14</td>\n",
       "      <td>0.89</td>\n",
       "      <td>1.05</td>\n",
       "    </tr>\n",
       "    <tr>\n",
       "      <th>18</th>\n",
       "      <td>sqft_living15</td>\n",
       "      <td>399.00</td>\n",
       "      <td>6210.00</td>\n",
       "      <td>5811.00</td>\n",
       "      <td>1986.55</td>\n",
       "      <td>1840.00</td>\n",
       "      <td>685.38</td>\n",
       "      <td>1.11</td>\n",
       "      <td>1.60</td>\n",
       "    </tr>\n",
       "    <tr>\n",
       "      <th>19</th>\n",
       "      <td>sqft_lot15</td>\n",
       "      <td>651.00</td>\n",
       "      <td>871200.00</td>\n",
       "      <td>870549.00</td>\n",
       "      <td>12768.46</td>\n",
       "      <td>7620.00</td>\n",
       "      <td>27303.55</td>\n",
       "      <td>9.51</td>\n",
       "      <td>150.76</td>\n",
       "    </tr>\n",
       "  </tbody>\n",
       "</table>\n",
       "</div>"
      ],
      "text/plain": [
       "       attributes        min           max         range          mean  \\\n",
       "0              id 1000102.00 9900000190.00 9899000088.00 4580301520.86   \n",
       "1           price   75000.00    7700000.00    7625000.00     540088.14   \n",
       "2        bedrooms       0.00         33.00         33.00          3.37   \n",
       "3       bathrooms       0.00          8.00          8.00          2.11   \n",
       "4     sqft_living     290.00      13540.00      13250.00       2079.90   \n",
       "5        sqft_lot     520.00    1651359.00    1650839.00      15106.97   \n",
       "6          floors       1.00          3.50          2.50          1.49   \n",
       "7      waterfront       0.00          1.00          1.00          0.01   \n",
       "8            view       0.00          4.00          4.00          0.23   \n",
       "9       condition       1.00          5.00          4.00          3.41   \n",
       "10          grade       1.00         13.00         12.00          7.66   \n",
       "11     sqft_above     290.00       9410.00       9120.00       1788.39   \n",
       "12  sqft_basement       0.00       4820.00       4820.00        291.51   \n",
       "13       yr_built    1900.00       2015.00        115.00       1971.01   \n",
       "14   yr_renovated       0.00       2015.00       2015.00         84.40   \n",
       "15        zipcode   98001.00      98199.00        198.00      98077.94   \n",
       "16            lat      47.16         47.78          0.62         47.56   \n",
       "17           long    -122.52       -121.31          1.20       -122.21   \n",
       "18  sqft_living15     399.00       6210.00       5811.00       1986.55   \n",
       "19     sqft_lot15     651.00     871200.00     870549.00      12768.46   \n",
       "\n",
       "          median           std  skew  kurtosis  \n",
       "0  3904930410.00 2876499023.43  0.24     -1.26  \n",
       "1      450000.00     367118.70  4.02     34.59  \n",
       "2           3.00          0.93  1.97     49.06  \n",
       "3           2.25          0.77  0.51      1.28  \n",
       "4        1910.00        918.42  1.47      5.24  \n",
       "5        7618.00      41419.55 13.06    285.08  \n",
       "6           1.50          0.54  0.62     -0.48  \n",
       "7           0.00          0.09 11.39    127.63  \n",
       "8           0.00          0.77  3.40     10.89  \n",
       "9           3.00          0.65  1.03      0.53  \n",
       "10          7.00          1.18  0.77      1.19  \n",
       "11       1560.00        828.07  1.45      3.40  \n",
       "12          0.00        442.56  1.58      2.72  \n",
       "13       1975.00         29.37 -0.47     -0.66  \n",
       "14          0.00        401.67  4.55     18.70  \n",
       "15      98065.00         53.50  0.41     -0.85  \n",
       "16         47.57          0.14 -0.49     -0.68  \n",
       "17       -122.23          0.14  0.89      1.05  \n",
       "18       1840.00        685.38  1.11      1.60  \n",
       "19       7620.00      27303.55  9.51    150.76  "
      ]
     },
     "execution_count": 57,
     "metadata": {},
     "output_type": "execute_result"
    }
   ],
   "source": [
    "descriptive_statistics(num_attributes)"
   ]
  },
  {
   "cell_type": "code",
   "execution_count": null,
   "id": "b3295404",
   "metadata": {},
   "outputs": [],
   "source": []
  }
 ],
 "metadata": {
  "celltoolbar": "Initialization Cell",
  "kernelspec": {
   "display_name": "Python 3",
   "language": "python",
   "name": "python3"
  },
  "language_info": {
   "codemirror_mode": {
    "name": "ipython",
    "version": 3
   },
   "file_extension": ".py",
   "mimetype": "text/x-python",
   "name": "python",
   "nbconvert_exporter": "python",
   "pygments_lexer": "ipython3",
   "version": "3.8.0"
  },
  "notify_time": "5",
  "toc": {
   "base_numbering": 1,
   "nav_menu": {},
   "number_sections": true,
   "sideBar": true,
   "skip_h1_title": false,
   "title_cell": "Table of Contents",
   "title_sidebar": "Contents",
   "toc_cell": false,
   "toc_position": {
    "height": "calc(100% - 180px)",
    "left": "10px",
    "top": "150px",
    "width": "246.4px"
   },
   "toc_section_display": true,
   "toc_window_display": false
  }
 },
 "nbformat": 4,
 "nbformat_minor": 5
}
